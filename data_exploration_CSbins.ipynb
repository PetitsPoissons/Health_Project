{
 "cells": [
  {
   "cell_type": "code",
   "execution_count": 1,
   "metadata": {},
   "outputs": [],
   "source": [
    "import warnings\n",
    "warnings.filterwarnings('ignore')"
   ]
  },
  {
   "cell_type": "code",
   "execution_count": 2,
   "metadata": {},
   "outputs": [],
   "source": [
    "# Dependencies and Setup\n",
    "%matplotlib inline\n",
    "import pandas as pd\n",
    "import numpy as np\n",
    "import matplotlib.pyplot as plt\n",
    "import requests\n",
    "import time\n",
    "import csv\n",
    "import scipy.stats as stats\n",
    "import statsmodels.api as sm\n",
    "from statsmodels.formula.api import ols\n",
    "from statsmodels.stats.multicomp import pairwise_tukeyhsd\n",
    "\n",
    "# Import API key\n",
    "from api_keys import api_key"
   ]
  },
  {
   "cell_type": "code",
   "execution_count": 3,
   "metadata": {},
   "outputs": [],
   "source": [
    "# Creating DataFrame\n",
    "tracts_df = pd.read_csv('500_Census_Tracts.csv')"
   ]
  },
  {
   "cell_type": "markdown",
   "metadata": {},
   "source": [
    "## Selecting a smaller set of variables from the 2016 Census Tracts CDC dataset"
   ]
  },
  {
   "cell_type": "code",
   "execution_count": 4,
   "metadata": {},
   "outputs": [
    {
     "data": {
      "text/html": [
       "<div>\n",
       "<style scoped>\n",
       "    .dataframe tbody tr th:only-of-type {\n",
       "        vertical-align: middle;\n",
       "    }\n",
       "\n",
       "    .dataframe tbody tr th {\n",
       "        vertical-align: top;\n",
       "    }\n",
       "\n",
       "    .dataframe thead th {\n",
       "        text-align: right;\n",
       "    }\n",
       "</style>\n",
       "<table border=\"1\" class=\"dataframe\">\n",
       "  <thead>\n",
       "    <tr style=\"text-align: right;\">\n",
       "      <th></th>\n",
       "      <th>state</th>\n",
       "      <th>city</th>\n",
       "      <th>HO_poor_mental_health</th>\n",
       "      <th>HO_poor_physical_health</th>\n",
       "      <th>UB_less_sleep</th>\n",
       "      <th>UB_lack_physical_activity</th>\n",
       "      <th>UB_obesity</th>\n",
       "      <th>UB_current_smoking</th>\n",
       "      <th>UB_binge_drinking</th>\n",
       "      <th>PS_lack_health_ins</th>\n",
       "      <th>PS_routine_checkups</th>\n",
       "      <th>PS_dental_checkups</th>\n",
       "      <th>PS_older_men_uptodate</th>\n",
       "      <th>PS_older_women_uptodate</th>\n",
       "      <th>city_FIPS</th>\n",
       "      <th>tract_FIPS</th>\n",
       "      <th>place_tractID</th>\n",
       "      <th>population_2010</th>\n",
       "      <th>geolocation</th>\n",
       "    </tr>\n",
       "  </thead>\n",
       "  <tbody>\n",
       "    <tr>\n",
       "      <th>0</th>\n",
       "      <td>AL</td>\n",
       "      <td>Birmingham</td>\n",
       "      <td>18.6</td>\n",
       "      <td>20.0</td>\n",
       "      <td>45.5</td>\n",
       "      <td>42.3</td>\n",
       "      <td>47.3</td>\n",
       "      <td>28.5</td>\n",
       "      <td>11.5</td>\n",
       "      <td>23.3</td>\n",
       "      <td>76.6</td>\n",
       "      <td>42.8</td>\n",
       "      <td>29.7</td>\n",
       "      <td>23.2</td>\n",
       "      <td>107000</td>\n",
       "      <td>1073000100</td>\n",
       "      <td>0107000-01073000100</td>\n",
       "      <td>3042</td>\n",
       "      <td>(33.57943283260, -86.7228323926)</td>\n",
       "    </tr>\n",
       "    <tr>\n",
       "      <th>1</th>\n",
       "      <td>AL</td>\n",
       "      <td>Birmingham</td>\n",
       "      <td>18.4</td>\n",
       "      <td>20.6</td>\n",
       "      <td>44.5</td>\n",
       "      <td>44.6</td>\n",
       "      <td>47.5</td>\n",
       "      <td>28.5</td>\n",
       "      <td>12.0</td>\n",
       "      <td>28.5</td>\n",
       "      <td>73.9</td>\n",
       "      <td>39.7</td>\n",
       "      <td>26.4</td>\n",
       "      <td>20.9</td>\n",
       "      <td>107000</td>\n",
       "      <td>1073000300</td>\n",
       "      <td>0107000-01073000300</td>\n",
       "      <td>2735</td>\n",
       "      <td>(33.54282086860, -86.7524339780)</td>\n",
       "    </tr>\n",
       "    <tr>\n",
       "      <th>2</th>\n",
       "      <td>AL</td>\n",
       "      <td>Birmingham</td>\n",
       "      <td>17.5</td>\n",
       "      <td>19.3</td>\n",
       "      <td>45.7</td>\n",
       "      <td>42.4</td>\n",
       "      <td>47.2</td>\n",
       "      <td>27.3</td>\n",
       "      <td>11.6</td>\n",
       "      <td>23.9</td>\n",
       "      <td>78.1</td>\n",
       "      <td>44.1</td>\n",
       "      <td>28.0</td>\n",
       "      <td>23.2</td>\n",
       "      <td>107000</td>\n",
       "      <td>1073000400</td>\n",
       "      <td>0107000-01073000400</td>\n",
       "      <td>3338</td>\n",
       "      <td>(33.56324496330, -86.7640474064)</td>\n",
       "    </tr>\n",
       "    <tr>\n",
       "      <th>3</th>\n",
       "      <td>AL</td>\n",
       "      <td>Birmingham</td>\n",
       "      <td>18.2</td>\n",
       "      <td>21.8</td>\n",
       "      <td>46.1</td>\n",
       "      <td>46.5</td>\n",
       "      <td>49.5</td>\n",
       "      <td>27.9</td>\n",
       "      <td>10.0</td>\n",
       "      <td>25.8</td>\n",
       "      <td>79.5</td>\n",
       "      <td>39.4</td>\n",
       "      <td>24.4</td>\n",
       "      <td>19.8</td>\n",
       "      <td>107000</td>\n",
       "      <td>1073000500</td>\n",
       "      <td>0107000-01073000500</td>\n",
       "      <td>2864</td>\n",
       "      <td>(33.54424045940, -86.7749130719)</td>\n",
       "    </tr>\n",
       "    <tr>\n",
       "      <th>4</th>\n",
       "      <td>AL</td>\n",
       "      <td>Birmingham</td>\n",
       "      <td>21.1</td>\n",
       "      <td>25.1</td>\n",
       "      <td>48.3</td>\n",
       "      <td>52.4</td>\n",
       "      <td>53.4</td>\n",
       "      <td>31.6</td>\n",
       "      <td>8.4</td>\n",
       "      <td>29.4</td>\n",
       "      <td>79.5</td>\n",
       "      <td>31.4</td>\n",
       "      <td>21.9</td>\n",
       "      <td>16.7</td>\n",
       "      <td>107000</td>\n",
       "      <td>1073000700</td>\n",
       "      <td>0107000-01073000700</td>\n",
       "      <td>2577</td>\n",
       "      <td>(33.55254061390, -86.8016893706)</td>\n",
       "    </tr>\n",
       "  </tbody>\n",
       "</table>\n",
       "</div>"
      ],
      "text/plain": [
       "  state        city  HO_poor_mental_health  HO_poor_physical_health  \\\n",
       "0    AL  Birmingham                   18.6                     20.0   \n",
       "1    AL  Birmingham                   18.4                     20.6   \n",
       "2    AL  Birmingham                   17.5                     19.3   \n",
       "3    AL  Birmingham                   18.2                     21.8   \n",
       "4    AL  Birmingham                   21.1                     25.1   \n",
       "\n",
       "   UB_less_sleep  UB_lack_physical_activity  UB_obesity  UB_current_smoking  \\\n",
       "0           45.5                       42.3        47.3                28.5   \n",
       "1           44.5                       44.6        47.5                28.5   \n",
       "2           45.7                       42.4        47.2                27.3   \n",
       "3           46.1                       46.5        49.5                27.9   \n",
       "4           48.3                       52.4        53.4                31.6   \n",
       "\n",
       "   UB_binge_drinking  PS_lack_health_ins  PS_routine_checkups  \\\n",
       "0               11.5                23.3                 76.6   \n",
       "1               12.0                28.5                 73.9   \n",
       "2               11.6                23.9                 78.1   \n",
       "3               10.0                25.8                 79.5   \n",
       "4                8.4                29.4                 79.5   \n",
       "\n",
       "   PS_dental_checkups  PS_older_men_uptodate  PS_older_women_uptodate  \\\n",
       "0                42.8                   29.7                     23.2   \n",
       "1                39.7                   26.4                     20.9   \n",
       "2                44.1                   28.0                     23.2   \n",
       "3                39.4                   24.4                     19.8   \n",
       "4                31.4                   21.9                     16.7   \n",
       "\n",
       "   city_FIPS  tract_FIPS        place_tractID  population_2010  \\\n",
       "0     107000  1073000100  0107000-01073000100             3042   \n",
       "1     107000  1073000300  0107000-01073000300             2735   \n",
       "2     107000  1073000400  0107000-01073000400             3338   \n",
       "3     107000  1073000500  0107000-01073000500             2864   \n",
       "4     107000  1073000700  0107000-01073000700             2577   \n",
       "\n",
       "                        geolocation  \n",
       "0  (33.57943283260, -86.7228323926)  \n",
       "1  (33.54282086860, -86.7524339780)  \n",
       "2  (33.56324496330, -86.7640474064)  \n",
       "3  (33.54424045940, -86.7749130719)  \n",
       "4  (33.55254061390, -86.8016893706)  "
      ]
     },
     "execution_count": 4,
     "metadata": {},
     "output_type": "execute_result"
    }
   ],
   "source": [
    "tracts_reduced = tracts_df[['StateAbbr', 'PlaceName', 'MHLTH_CrudePrev', 'PHLTH_CrudePrev', 'SLEEP_CrudePrev',\n",
    "                            'LPA_CrudePrev', 'OBESITY_CrudePrev', 'CSMOKING_CrudePrev', 'BINGE_CrudePrev',\n",
    "                            'ACCESS2_CrudePrev', 'CHECKUP_CrudePrev', 'DENTAL_CrudePrev', 'COREM_CrudePrev',\n",
    "                            'COREW_CrudePrev', 'PlaceFIPS', 'TractFIPS', 'Place_TractID', 'Population2010',\n",
    "                            'Geolocation']]\n",
    "tracts_reduced.rename(columns = {\n",
    "    'StateAbbr': 'state',\n",
    "    'PlaceName': 'city',\n",
    "    'PlaceFIPS': 'city_FIPS',\n",
    "    'TractFIPS': 'tract_FIPS',\n",
    "    'Place_TractID': 'place_tractID',\n",
    "    'Population2010': 'population_2010',\n",
    "    'ACCESS2_CrudePrev': 'PS_lack_health_ins',\n",
    "    'BINGE_CrudePrev': 'UB_binge_drinking',\n",
    "    'CHECKUP_CrudePrev': 'PS_routine_checkups',\n",
    "    'COREM_CrudePrev': 'PS_older_men_uptodate',\n",
    "    'COREW_CrudePrev': 'PS_older_women_uptodate',\n",
    "    'CSMOKING_CrudePrev': 'UB_current_smoking',\n",
    "    'DENTAL_CrudePrev': 'PS_dental_checkups',\n",
    "    'LPA_CrudePrev': 'UB_lack_physical_activity',\n",
    "    'MHLTH_CrudePrev': 'HO_poor_mental_health',\n",
    "    'OBESITY_CrudePrev': 'UB_obesity',\n",
    "    'PHLTH_CrudePrev': 'HO_poor_physical_health',\n",
    "    'SLEEP_CrudePrev': 'UB_less_sleep',\n",
    "    'Geolocation': 'geolocation'}, inplace = True)\n",
    "tracts_reduced.head()"
   ]
  },
  {
   "cell_type": "markdown",
   "metadata": {},
   "source": [
    "## Aggregating by cities\n",
    "\n",
    "- Calculating aggregate functions"
   ]
  },
  {
   "cell_type": "code",
   "execution_count": 5,
   "metadata": {},
   "outputs": [],
   "source": [
    "# Grouping cities\n",
    "tracts_groups = tracts_reduced.groupby(['city'])\n",
    "\n",
    "# Calculating mean, median and std for health indicators\n",
    "cities_HI_mean = tracts_groups['HO_poor_mental_health', 'HO_poor_physical_health', 'UB_binge_drinking', 'UB_current_smoking',\n",
    "                               'UB_lack_physical_activity', 'UB_obesity', 'UB_less_sleep', 'PS_lack_health_ins',\n",
    "                              'PS_routine_checkups', 'PS_dental_checkups', 'PS_older_men_uptodate',\n",
    "                               'PS_older_women_uptodate'].mean().reset_index()\n",
    "cities_HI_median = tracts_groups['HO_poor_mental_health', 'HO_poor_physical_health', 'UB_binge_drinking', 'UB_current_smoking',\n",
    "                               'UB_lack_physical_activity', 'UB_obesity', 'UB_less_sleep', 'PS_lack_health_ins',\n",
    "                              'PS_routine_checkups', 'PS_dental_checkups', 'PS_older_men_uptodate',\n",
    "                               'PS_older_women_uptodate'].median().reset_index()\n",
    "cities_HI_stdev = tracts_groups['HO_poor_mental_health', 'HO_poor_physical_health', 'UB_binge_drinking', 'UB_current_smoking',\n",
    "                               'UB_lack_physical_activity', 'UB_obesity', 'UB_less_sleep', 'PS_lack_health_ins',\n",
    "                              'PS_routine_checkups', 'PS_dental_checkups', 'PS_older_men_uptodate',\n",
    "                               'PS_older_women_uptodate'].std().reset_index()\n",
    "\n",
    "# Calculating min and max for health indicators\n",
    "cities_HI_min = tracts_groups['HO_poor_mental_health', 'HO_poor_physical_health', 'UB_binge_drinking', 'UB_current_smoking',\n",
    "                               'UB_lack_physical_activity', 'UB_obesity', 'UB_less_sleep', 'PS_lack_health_ins',\n",
    "                              'PS_routine_checkups', 'PS_dental_checkups', 'PS_older_men_uptodate',\n",
    "                               'PS_older_women_uptodate'].min().reset_index()\n",
    "cities_HI_max = tracts_groups['HO_poor_mental_health', 'HO_poor_physical_health', 'UB_binge_drinking', 'UB_current_smoking',\n",
    "                               'UB_lack_physical_activity', 'UB_obesity', 'UB_less_sleep', 'PS_lack_health_ins',\n",
    "                              'PS_routine_checkups', 'PS_dental_checkups', 'PS_older_men_uptodate',\n",
    "                               'PS_older_women_uptodate'].max().reset_index()\n",
    "\n",
    "# Calculating Q1 and Q3 for health indicators\n",
    "cities_HI_Q1 = tracts_groups['HO_poor_mental_health', 'HO_poor_physical_health', 'UB_binge_drinking', 'UB_current_smoking',\n",
    "                               'UB_lack_physical_activity', 'UB_obesity', 'UB_less_sleep', 'PS_lack_health_ins',\n",
    "                              'PS_routine_checkups', 'PS_dental_checkups', 'PS_older_men_uptodate',\n",
    "                               'PS_older_women_uptodate'].apply(lambda x: np.percentile(x,25)).reset_index()\n",
    "cities_HI_Q3 = tracts_groups['HO_poor_mental_health', 'HO_poor_physical_health', 'UB_binge_drinking', 'UB_current_smoking',\n",
    "                               'UB_lack_physical_activity', 'UB_obesity', 'UB_less_sleep', 'PS_lack_health_ins',\n",
    "                              'PS_routine_checkups', 'PS_dental_checkups', 'PS_older_men_uptodate',\n",
    "                               'PS_older_women_uptodate'].apply(lambda x: np.percentile(x,75)).reset_index()\n",
    "\n",
    "# Calculating counts of tracts per city\n",
    "cities_tracts_counts = tracts_groups['tract_FIPS'].count().reset_index()\n",
    "\n",
    "# Calculating population per city\n",
    "cities_population_2010 = tracts_groups['population_2010'].sum().reset_index()"
   ]
  },
  {
   "cell_type": "code",
   "execution_count": 6,
   "metadata": {},
   "outputs": [
    {
     "data": {
      "text/plain": [
       "474"
      ]
     },
     "execution_count": 6,
     "metadata": {},
     "output_type": "execute_result"
    }
   ],
   "source": [
    "# Create master df\n",
    "df = pd.merge(cities_HI_mean, cities_tracts_counts, on='city')\n",
    "len(df)"
   ]
  },
  {
   "cell_type": "code",
   "execution_count": 7,
   "metadata": {},
   "outputs": [
    {
     "data": {
      "text/html": [
       "<div>\n",
       "<style scoped>\n",
       "    .dataframe tbody tr th:only-of-type {\n",
       "        vertical-align: middle;\n",
       "    }\n",
       "\n",
       "    .dataframe tbody tr th {\n",
       "        vertical-align: top;\n",
       "    }\n",
       "\n",
       "    .dataframe thead th {\n",
       "        text-align: right;\n",
       "    }\n",
       "</style>\n",
       "<table border=\"1\" class=\"dataframe\">\n",
       "  <thead>\n",
       "    <tr style=\"text-align: right;\">\n",
       "      <th></th>\n",
       "      <th>city</th>\n",
       "      <th>HO_poor_mental_health</th>\n",
       "      <th>HO_poor_physical_health</th>\n",
       "      <th>UB_binge_drinking</th>\n",
       "      <th>UB_current_smoking</th>\n",
       "      <th>UB_lack_physical_activity</th>\n",
       "      <th>UB_obesity</th>\n",
       "      <th>UB_less_sleep</th>\n",
       "      <th>PS_lack_health_ins</th>\n",
       "      <th>PS_routine_checkups</th>\n",
       "      <th>PS_dental_checkups</th>\n",
       "      <th>PS_older_men_uptodate</th>\n",
       "      <th>PS_older_women_uptodate</th>\n",
       "      <th>tract_FIPS</th>\n",
       "    </tr>\n",
       "  </thead>\n",
       "  <tbody>\n",
       "    <tr>\n",
       "      <th>0</th>\n",
       "      <td>Abilene</td>\n",
       "      <td>13.608108</td>\n",
       "      <td>13.591892</td>\n",
       "      <td>17.781081</td>\n",
       "      <td>21.421622</td>\n",
       "      <td>28.840541</td>\n",
       "      <td>34.867568</td>\n",
       "      <td>33.440541</td>\n",
       "      <td>23.037838</td>\n",
       "      <td>66.354054</td>\n",
       "      <td>52.024324</td>\n",
       "      <td>31.633333</td>\n",
       "      <td>30.360000</td>\n",
       "      <td>37</td>\n",
       "    </tr>\n",
       "    <tr>\n",
       "      <th>1</th>\n",
       "      <td>Akron</td>\n",
       "      <td>15.931818</td>\n",
       "      <td>15.760606</td>\n",
       "      <td>14.895455</td>\n",
       "      <td>26.824242</td>\n",
       "      <td>33.496970</td>\n",
       "      <td>36.575758</td>\n",
       "      <td>43.425758</td>\n",
       "      <td>12.612121</td>\n",
       "      <td>74.539394</td>\n",
       "      <td>52.918182</td>\n",
       "      <td>24.469697</td>\n",
       "      <td>25.065152</td>\n",
       "      <td>66</td>\n",
       "    </tr>\n",
       "    <tr>\n",
       "      <th>2</th>\n",
       "      <td>Alameda</td>\n",
       "      <td>9.837500</td>\n",
       "      <td>9.400000</td>\n",
       "      <td>17.537500</td>\n",
       "      <td>11.931250</td>\n",
       "      <td>16.318750</td>\n",
       "      <td>18.675000</td>\n",
       "      <td>33.787500</td>\n",
       "      <td>7.393750</td>\n",
       "      <td>67.525000</td>\n",
       "      <td>71.312500</td>\n",
       "      <td>36.112500</td>\n",
       "      <td>35.043750</td>\n",
       "      <td>16</td>\n",
       "    </tr>\n",
       "    <tr>\n",
       "      <th>3</th>\n",
       "      <td>Albany</td>\n",
       "      <td>14.903922</td>\n",
       "      <td>14.158824</td>\n",
       "      <td>15.213725</td>\n",
       "      <td>22.176471</td>\n",
       "      <td>31.519608</td>\n",
       "      <td>35.549020</td>\n",
       "      <td>42.894118</td>\n",
       "      <td>17.603922</td>\n",
       "      <td>76.454902</td>\n",
       "      <td>56.811765</td>\n",
       "      <td>30.594118</td>\n",
       "      <td>27.533333</td>\n",
       "      <td>51</td>\n",
       "    </tr>\n",
       "    <tr>\n",
       "      <th>4</th>\n",
       "      <td>Albuquerque</td>\n",
       "      <td>12.455474</td>\n",
       "      <td>12.815328</td>\n",
       "      <td>15.395620</td>\n",
       "      <td>15.774453</td>\n",
       "      <td>18.538686</td>\n",
       "      <td>27.589051</td>\n",
       "      <td>32.128467</td>\n",
       "      <td>11.759124</td>\n",
       "      <td>60.380292</td>\n",
       "      <td>66.245985</td>\n",
       "      <td>40.662044</td>\n",
       "      <td>28.618248</td>\n",
       "      <td>137</td>\n",
       "    </tr>\n",
       "  </tbody>\n",
       "</table>\n",
       "</div>"
      ],
      "text/plain": [
       "          city  HO_poor_mental_health  HO_poor_physical_health  \\\n",
       "0      Abilene              13.608108                13.591892   \n",
       "1        Akron              15.931818                15.760606   \n",
       "2      Alameda               9.837500                 9.400000   \n",
       "3       Albany              14.903922                14.158824   \n",
       "4  Albuquerque              12.455474                12.815328   \n",
       "\n",
       "   UB_binge_drinking  UB_current_smoking  UB_lack_physical_activity  \\\n",
       "0          17.781081           21.421622                  28.840541   \n",
       "1          14.895455           26.824242                  33.496970   \n",
       "2          17.537500           11.931250                  16.318750   \n",
       "3          15.213725           22.176471                  31.519608   \n",
       "4          15.395620           15.774453                  18.538686   \n",
       "\n",
       "   UB_obesity  UB_less_sleep  PS_lack_health_ins  PS_routine_checkups  \\\n",
       "0   34.867568      33.440541           23.037838            66.354054   \n",
       "1   36.575758      43.425758           12.612121            74.539394   \n",
       "2   18.675000      33.787500            7.393750            67.525000   \n",
       "3   35.549020      42.894118           17.603922            76.454902   \n",
       "4   27.589051      32.128467           11.759124            60.380292   \n",
       "\n",
       "   PS_dental_checkups  PS_older_men_uptodate  PS_older_women_uptodate  \\\n",
       "0           52.024324              31.633333                30.360000   \n",
       "1           52.918182              24.469697                25.065152   \n",
       "2           71.312500              36.112500                35.043750   \n",
       "3           56.811765              30.594118                27.533333   \n",
       "4           66.245985              40.662044                28.618248   \n",
       "\n",
       "   tract_FIPS  \n",
       "0          37  \n",
       "1          66  \n",
       "2          16  \n",
       "3          51  \n",
       "4         137  "
      ]
     },
     "execution_count": 7,
     "metadata": {},
     "output_type": "execute_result"
    }
   ],
   "source": [
    "df.head()"
   ]
  },
  {
   "cell_type": "markdown",
   "metadata": {},
   "source": [
    "## Binning by city size (as measured by tract counts)"
   ]
  },
  {
   "cell_type": "code",
   "execution_count": 8,
   "metadata": {},
   "outputs": [
    {
     "data": {
      "text/plain": [
       "count     474.000000\n",
       "mean       57.405063\n",
       "std       123.800957\n",
       "min         8.000000\n",
       "25%        21.000000\n",
       "50%        29.000000\n",
       "75%        52.000000\n",
       "max      2117.000000\n",
       "Name: tract_FIPS, dtype: float64"
      ]
     },
     "execution_count": 8,
     "metadata": {},
     "output_type": "execute_result"
    }
   ],
   "source": [
    "df['tract_FIPS'].describe()"
   ]
  },
  {
   "cell_type": "code",
   "execution_count": 10,
   "metadata": {},
   "outputs": [
    {
     "name": "stdout",
     "output_type": "stream",
     "text": [
      "[0, 21, 29, 52, 2200]\n",
      "['Q1', 'Q2', 'Q3', 'Q4']\n"
     ]
    },
    {
     "data": {
      "text/html": [
       "<div>\n",
       "<style scoped>\n",
       "    .dataframe tbody tr th:only-of-type {\n",
       "        vertical-align: middle;\n",
       "    }\n",
       "\n",
       "    .dataframe tbody tr th {\n",
       "        vertical-align: top;\n",
       "    }\n",
       "\n",
       "    .dataframe thead th {\n",
       "        text-align: right;\n",
       "    }\n",
       "</style>\n",
       "<table border=\"1\" class=\"dataframe\">\n",
       "  <thead>\n",
       "    <tr style=\"text-align: right;\">\n",
       "      <th></th>\n",
       "      <th>city</th>\n",
       "      <th>HO_poor_mental_health</th>\n",
       "      <th>HO_poor_physical_health</th>\n",
       "      <th>UB_binge_drinking</th>\n",
       "      <th>UB_current_smoking</th>\n",
       "      <th>UB_lack_physical_activity</th>\n",
       "      <th>UB_obesity</th>\n",
       "      <th>UB_less_sleep</th>\n",
       "      <th>PS_lack_health_ins</th>\n",
       "      <th>PS_routine_checkups</th>\n",
       "      <th>PS_dental_checkups</th>\n",
       "      <th>PS_older_men_uptodate</th>\n",
       "      <th>PS_older_women_uptodate</th>\n",
       "      <th>tract_FIPS</th>\n",
       "      <th>quantile_CS</th>\n",
       "    </tr>\n",
       "  </thead>\n",
       "  <tbody>\n",
       "    <tr>\n",
       "      <th>100</th>\n",
       "      <td>Cranston</td>\n",
       "      <td>12.917647</td>\n",
       "      <td>12.476471</td>\n",
       "      <td>16.617647</td>\n",
       "      <td>16.482353</td>\n",
       "      <td>25.547059</td>\n",
       "      <td>25.900000</td>\n",
       "      <td>37.623529</td>\n",
       "      <td>8.688235</td>\n",
       "      <td>82.088235</td>\n",
       "      <td>75.058824</td>\n",
       "      <td>41.358824</td>\n",
       "      <td>33.400000</td>\n",
       "      <td>17</td>\n",
       "      <td>Q1</td>\n",
       "    </tr>\n",
       "    <tr>\n",
       "      <th>262</th>\n",
       "      <td>Missoula</td>\n",
       "      <td>11.600000</td>\n",
       "      <td>11.012500</td>\n",
       "      <td>23.181250</td>\n",
       "      <td>18.318750</td>\n",
       "      <td>17.612500</td>\n",
       "      <td>24.962500</td>\n",
       "      <td>27.906250</td>\n",
       "      <td>11.168750</td>\n",
       "      <td>60.968750</td>\n",
       "      <td>63.531250</td>\n",
       "      <td>40.937500</td>\n",
       "      <td>32.175000</td>\n",
       "      <td>16</td>\n",
       "      <td>Q1</td>\n",
       "    </tr>\n",
       "    <tr>\n",
       "      <th>103</th>\n",
       "      <td>Danbury</td>\n",
       "      <td>12.420000</td>\n",
       "      <td>11.353333</td>\n",
       "      <td>18.626667</td>\n",
       "      <td>16.233333</td>\n",
       "      <td>21.513333</td>\n",
       "      <td>25.353333</td>\n",
       "      <td>36.100000</td>\n",
       "      <td>11.640000</td>\n",
       "      <td>68.140000</td>\n",
       "      <td>71.333333</td>\n",
       "      <td>32.686667</td>\n",
       "      <td>31.433333</td>\n",
       "      <td>15</td>\n",
       "      <td>Q1</td>\n",
       "    </tr>\n",
       "    <tr>\n",
       "      <th>102</th>\n",
       "      <td>Daly City</td>\n",
       "      <td>9.205000</td>\n",
       "      <td>8.895000</td>\n",
       "      <td>13.365000</td>\n",
       "      <td>10.945000</td>\n",
       "      <td>19.980000</td>\n",
       "      <td>18.875000</td>\n",
       "      <td>34.630000</td>\n",
       "      <td>10.385000</td>\n",
       "      <td>65.415000</td>\n",
       "      <td>69.625000</td>\n",
       "      <td>32.820000</td>\n",
       "      <td>33.610000</td>\n",
       "      <td>20</td>\n",
       "      <td>Q1</td>\n",
       "    </tr>\n",
       "    <tr>\n",
       "      <th>344</th>\n",
       "      <td>Redlands</td>\n",
       "      <td>11.841176</td>\n",
       "      <td>12.041176</td>\n",
       "      <td>16.935294</td>\n",
       "      <td>13.276471</td>\n",
       "      <td>19.782353</td>\n",
       "      <td>23.929412</td>\n",
       "      <td>35.405882</td>\n",
       "      <td>10.635294</td>\n",
       "      <td>67.317647</td>\n",
       "      <td>66.135294</td>\n",
       "      <td>30.888235</td>\n",
       "      <td>31.300000</td>\n",
       "      <td>17</td>\n",
       "      <td>Q1</td>\n",
       "    </tr>\n",
       "  </tbody>\n",
       "</table>\n",
       "</div>"
      ],
      "text/plain": [
       "          city  HO_poor_mental_health  HO_poor_physical_health  \\\n",
       "100   Cranston              12.917647                12.476471   \n",
       "262   Missoula              11.600000                11.012500   \n",
       "103    Danbury              12.420000                11.353333   \n",
       "102  Daly City               9.205000                 8.895000   \n",
       "344   Redlands              11.841176                12.041176   \n",
       "\n",
       "     UB_binge_drinking  UB_current_smoking  UB_lack_physical_activity  \\\n",
       "100          16.617647           16.482353                  25.547059   \n",
       "262          23.181250           18.318750                  17.612500   \n",
       "103          18.626667           16.233333                  21.513333   \n",
       "102          13.365000           10.945000                  19.980000   \n",
       "344          16.935294           13.276471                  19.782353   \n",
       "\n",
       "     UB_obesity  UB_less_sleep  PS_lack_health_ins  PS_routine_checkups  \\\n",
       "100   25.900000      37.623529            8.688235            82.088235   \n",
       "262   24.962500      27.906250           11.168750            60.968750   \n",
       "103   25.353333      36.100000           11.640000            68.140000   \n",
       "102   18.875000      34.630000           10.385000            65.415000   \n",
       "344   23.929412      35.405882           10.635294            67.317647   \n",
       "\n",
       "     PS_dental_checkups  PS_older_men_uptodate  PS_older_women_uptodate  \\\n",
       "100           75.058824              41.358824                33.400000   \n",
       "262           63.531250              40.937500                32.175000   \n",
       "103           71.333333              32.686667                31.433333   \n",
       "102           69.625000              32.820000                33.610000   \n",
       "344           66.135294              30.888235                31.300000   \n",
       "\n",
       "     tract_FIPS quantile_CS  \n",
       "100          17          Q1  \n",
       "262          16          Q1  \n",
       "103          15          Q1  \n",
       "102          20          Q1  \n",
       "344          17          Q1  "
      ]
     },
     "execution_count": 10,
     "metadata": {},
     "output_type": "execute_result"
    }
   ],
   "source": [
    "# Calculate quantiles on city size (CS) & prepare bins\n",
    "bins = [0]\n",
    "CS_Q1 = int(df['tract_FIPS'].quantile(0.25))\n",
    "bins.append(CS_Q1)\n",
    "CS_Q2 = int(df['tract_FIPS'].quantile(0.5))\n",
    "bins.append(CS_Q2)\n",
    "CS_Q3 = int(df['tract_FIPS'].quantile(0.75))\n",
    "bins.append(CS_Q3)\n",
    "bins.append(2200)\n",
    "print(bins)\n",
    "labels = ['Q1', 'Q2', 'Q3', 'Q4']\n",
    "print(labels)\n",
    "\n",
    "# Append our bins to df\n",
    "df['quantile_CS'] = pd.cut(df['tract_FIPS'], bins, labels=labels)\n",
    "df_sorted = df.sort_values('quantile_CS')\n",
    "df_sorted.head()"
   ]
  },
  {
   "cell_type": "markdown",
   "metadata": {},
   "source": [
    "## Exploring differences in various health indicators by city size (CS) bins\n",
    "- There are significant differences in prevalence of poor mental health (see ANOVA test). Tukey's Range test reveals that two pairs (Q1~Q3 and Q1~Q4) are statistically significantly different with respect to prevalence of poor mental health.\n",
    "- There are significant differences in prevalence of poor physical health (see ANOVA test). Tukey's Range test reveals that only one pair (Q1~Q4) is statistically significantly different with respect to prevalence of poor physical health.\n",
    "- There is NO significant difference in prevalence of binge drinking by city size (see ANOVA test).\n",
    "- There are significant differences in prevalence of current smoking (see ANOVA test). Tukey's Range test reveals that three pairs (Q1~Q3, Q1~Q4 and Q2~Q4) are statistically significantly different with respect to prevalence of current smoking.\n",
    "- There are significant differences in prevalence of lack of physical activity (see ANOVA test). Tukey's Range test reveals that three pairs (Q1~Q3, Q1~Q4 and Q2~Q4) are statistically significantly different with respect to prevalence of lack of physical activity.\n",
    "- There are significant differences in prevalence of obesity (see ANOVA test). Tukey's Range test reveals that three pairs (Q1~Q3, Q1~Q4 and Q2~Q4) are statistically significantly different with respect to prevalence of obesity.\n",
    "- There are significant differences in prevalence of lack of sleep (see ANOVA test). Tukey's Range test reveals that four pairs (Q1~Q3, Q1~Q4, Q2~Q3 and Q2~Q4) are statistically significantly different with respect to prevalence of lack of sleep.\n",
    "- There are significant differences in prevalence of lack of health insurance (see ANOVA test). Tukey's Range test, however, does not reveal any statistically significant pairwise difference with respect to prevalence of lack of health insurance.\n",
    "- There is NO significant difference in prevalence of routine check-ups by city size (see ANOVA test).\n",
    "- There are significant differences in prevalence of dental check-ups (see ANOVA test). Tukey's Range test reveals that three pairs (Q1~Q3, Q1~Q4 and Q2~Q4) are statistically significantly different with respect to prevalence of dental check-ups.\n",
    "- There is NO significant difference in prevalence of older men up to date with clinical preventive services by city size (see ANOVA test).\n",
    "- There is NO significant difference in prevalence of older women up to date with clinical preventive services by city size (see ANOVA test)."
   ]
  },
  {
   "cell_type": "code",
   "execution_count": 14,
   "metadata": {},
   "outputs": [
    {
     "data": {
      "image/png": "[encoded data removed]",
      "text/plain": [
       "<matplotlib.figure.Figure at 0x10c3c9048>"
      ]
     },
     "metadata": {},
     "output_type": "display_data"
    }
   ],
   "source": [
    "df.boxplot('HO_poor_mental_health', by='quantile_CS', figsize=(20, 10))\n",
    "plt.title(\"Prevalence of Poor Mental Health\")\n",
    "plt.show()"
   ]
  },
  {
   "cell_type": "code",
   "execution_count": 15,
   "metadata": {},
   "outputs": [
    {
     "data": {
      "text/plain": [
       "F_onewayResult(statistic=6.521691649292249, pvalue=0.00024985367394803477)"
      ]
     },
     "execution_count": 15,
     "metadata": {},
     "output_type": "execute_result"
    }
   ],
   "source": [
    "# Extract individual groups\n",
    "group1 = df[df[\"quantile_CS\"] == 'Q1'][\"HO_poor_mental_health\"]\n",
    "group2 = df[df[\"quantile_CS\"] == 'Q2'][\"HO_poor_mental_health\"]\n",
    "group3 = df[df[\"quantile_CS\"] == 'Q3'][\"HO_poor_mental_health\"]\n",
    "group4 = df[df[\"quantile_CS\"] == 'Q4'][\"HO_poor_mental_health\"]\n",
    "\n",
    "# Perform the ANOVA\n",
    "stats.f_oneway(group1, group2, group3, group4)"
   ]
  },
  {
   "cell_type": "code",
   "execution_count": 16,
   "metadata": {},
   "outputs": [
    {
     "name": "stdout",
     "output_type": "stream",
     "text": [
      "Multiple Comparison of Means - Tukey HSD,FWER=0.05\n",
      "============================================\n",
      "group1 group2 meandiff  lower  upper  reject\n",
      "--------------------------------------------\n",
      "  Q1     Q2    0.4271  -0.2539 1.1082 False \n",
      "  Q1     Q3    0.8012   0.1138 1.4885  True \n",
      "  Q1     Q4    1.0999   0.4219 1.7779  True \n",
      "  Q2     Q3    0.374   -0.3298 1.0778 False \n",
      "  Q2     Q4    0.6727  -0.0219 1.3673 False \n",
      "  Q3     Q4    0.2987  -0.4021 0.9995 False \n",
      "--------------------------------------------\n"
     ]
    }
   ],
   "source": [
    "tukey_results_PH = pairwise_tukeyhsd(df_sorted['HO_poor_mental_health'], df_sorted['quantile_CS'], 0.05)\n",
    "print(tukey_results_PH)"
   ]
  },
  {
   "cell_type": "code",
   "execution_count": 11,
   "metadata": {},
   "outputs": [
    {
     "data": {
      "image/png": "[encoded data removed]",
      "text/plain": [
       "<matplotlib.figure.Figure at 0x10aee4dd8>"
      ]
     },
     "metadata": {},
     "output_type": "display_data"
    }
   ],
   "source": [
    "df.boxplot('HO_poor_physical_health', by='quantile_CS', figsize=(20, 10))\n",
    "plt.title(\"Prevalence of Poor Physical Health\")\n",
    "plt.show()"
   ]
  },
  {
   "cell_type": "code",
   "execution_count": 12,
   "metadata": {},
   "outputs": [
    {
     "data": {
      "text/plain": [
       "F_onewayResult(statistic=4.5213473876361245, pvalue=0.0038717154549686187)"
      ]
     },
     "execution_count": 12,
     "metadata": {},
     "output_type": "execute_result"
    }
   ],
   "source": [
    "# Extract individual groups\n",
    "group1 = df[df[\"quantile_CS\"] == 'Q1'][\"HO_poor_physical_health\"]\n",
    "group2 = df[df[\"quantile_CS\"] == 'Q2'][\"HO_poor_physical_health\"]\n",
    "group3 = df[df[\"quantile_CS\"] == 'Q3'][\"HO_poor_physical_health\"]\n",
    "group4 = df[df[\"quantile_CS\"] == 'Q4'][\"HO_poor_physical_health\"]\n",
    "\n",
    "# Perform the ANOVA\n",
    "stats.f_oneway(group1, group2, group3, group4)"
   ]
  },
  {
   "cell_type": "code",
   "execution_count": 13,
   "metadata": {},
   "outputs": [
    {
     "name": "stdout",
     "output_type": "stream",
     "text": [
      "Multiple Comparison of Means - Tukey HSD,FWER=0.05\n",
      "============================================\n",
      "group1 group2 meandiff  lower  upper  reject\n",
      "--------------------------------------------\n",
      "  Q1     Q2    0.351   -0.4738 1.1759 False \n",
      "  Q1     Q3    0.8209  -0.0116 1.6535 False \n",
      "  Q1     Q4    1.0784   0.2573 1.8996  True \n",
      "  Q2     Q3    0.4699  -0.3825 1.3223 False \n",
      "  Q2     Q4    0.7274  -0.1139 1.5687 False \n",
      "  Q3     Q4    0.2575  -0.5913 1.1064 False \n",
      "--------------------------------------------\n"
     ]
    }
   ],
   "source": [
    "tukey_results_PH = pairwise_tukeyhsd(df_sorted['HO_poor_physical_health'], df_sorted['quantile_CS'], 0.05)\n",
    "print(tukey_results_PH)"
   ]
  },
  {
   "cell_type": "code",
   "execution_count": 17,
   "metadata": {},
   "outputs": [
    {
     "data": {
      "image/png": "[encoded data removed]",
      "text/plain": [
       "<matplotlib.figure.Figure at 0x10b1afe80>"
      ]
     },
     "metadata": {},
     "output_type": "display_data"
    }
   ],
   "source": [
    "df.boxplot('UB_binge_drinking', by='quantile_CS', figsize=(20, 10))\n",
    "plt.title(\"Prevalence of Binge Drinking\")\n",
    "plt.show()"
   ]
  },
  {
   "cell_type": "code",
   "execution_count": 18,
   "metadata": {},
   "outputs": [
    {
     "data": {
      "text/plain": [
       "F_onewayResult(statistic=1.2629454045519788, pvalue=0.2864960084833913)"
      ]
     },
     "execution_count": 18,
     "metadata": {},
     "output_type": "execute_result"
    }
   ],
   "source": [
    "# Extract individual groups\n",
    "group1 = df[df[\"quantile_CS\"] == 'Q1'][\"UB_binge_drinking\"]\n",
    "group2 = df[df[\"quantile_CS\"] == 'Q2'][\"UB_binge_drinking\"]\n",
    "group3 = df[df[\"quantile_CS\"] == 'Q3'][\"UB_binge_drinking\"]\n",
    "group4 = df[df[\"quantile_CS\"] == 'Q4'][\"UB_binge_drinking\"]\n",
    "\n",
    "# Perform the ANOVA\n",
    "stats.f_oneway(group1, group2, group3, group4)"
   ]
  },
  {
   "cell_type": "code",
   "execution_count": 19,
   "metadata": {},
   "outputs": [
    {
     "data": {
      "image/png": "[encoded data removed]",
      "text/plain": [
       "<matplotlib.figure.Figure at 0x10f21ee48>"
      ]
     },
     "metadata": {},
     "output_type": "display_data"
    }
   ],
   "source": [
    "df.boxplot('UB_current_smoking', by='quantile_CS', figsize=(20, 10))\n",
    "plt.title(\"Prevalence of Current Smoking\")\n",
    "plt.show()"
   ]
  },
  {
   "cell_type": "code",
   "execution_count": 20,
   "metadata": {},
   "outputs": [
    {
     "data": {
      "text/plain": [
       "F_onewayResult(statistic=11.72262074368769, pvalue=2.0298025418810487e-07)"
      ]
     },
     "execution_count": 20,
     "metadata": {},
     "output_type": "execute_result"
    }
   ],
   "source": [
    "# Extract individual groups\n",
    "group1 = df[df[\"quantile_CS\"] == 'Q1'][\"UB_current_smoking\"]\n",
    "group2 = df[df[\"quantile_CS\"] == 'Q2'][\"UB_current_smoking\"]\n",
    "group3 = df[df[\"quantile_CS\"] == 'Q3'][\"UB_current_smoking\"]\n",
    "group4 = df[df[\"quantile_CS\"] == 'Q4'][\"UB_current_smoking\"]\n",
    "\n",
    "# Perform the ANOVA\n",
    "stats.f_oneway(group1, group2, group3, group4)"
   ]
  },
  {
   "cell_type": "code",
   "execution_count": 21,
   "metadata": {},
   "outputs": [
    {
     "name": "stdout",
     "output_type": "stream",
     "text": [
      "Multiple Comparison of Means - Tukey HSD,FWER=0.05\n",
      "============================================\n",
      "group1 group2 meandiff  lower  upper  reject\n",
      "--------------------------------------------\n",
      "  Q1     Q2    1.0744  -0.2797 2.4285 False \n",
      "  Q1     Q3    1.9145   0.5478 3.2812  True \n",
      "  Q1     Q4    2.9923   1.6442 4.3403  True \n",
      "  Q2     Q3    0.8401  -0.5592 2.2394 False \n",
      "  Q2     Q4    1.9178   0.5367 3.2989  True \n",
      "  Q3     Q4    1.0777  -0.3158 2.4712 False \n",
      "--------------------------------------------\n"
     ]
    }
   ],
   "source": [
    "tukey_results_UBcs = pairwise_tukeyhsd(df_sorted['UB_current_smoking'], df_sorted['quantile_CS'], 0.05)\n",
    "print(tukey_results_UBcs)"
   ]
  },
  {
   "cell_type": "code",
   "execution_count": 22,
   "metadata": {},
   "outputs": [
    {
     "data": {
      "image/png": "[encoded data removed]",
      "text/plain": [
       "<matplotlib.figure.Figure at 0x10f2beba8>"
      ]
     },
     "metadata": {},
     "output_type": "display_data"
    }
   ],
   "source": [
    "df.boxplot('UB_lack_physical_activity', by='quantile_CS', figsize=(20, 10))\n",
    "plt.title(\"Prevalence of Lack of Physical Activity\")\n",
    "plt.show()"
   ]
  },
  {
   "cell_type": "code",
   "execution_count": 23,
   "metadata": {},
   "outputs": [
    {
     "data": {
      "text/plain": [
       "F_onewayResult(statistic=6.217792278022568, pvalue=0.00037923435274817116)"
      ]
     },
     "execution_count": 23,
     "metadata": {},
     "output_type": "execute_result"
    }
   ],
   "source": [
    "# Extract individual groups\n",
    "group1 = df[df[\"quantile_CS\"] == 'Q1'][\"UB_lack_physical_activity\"]\n",
    "group2 = df[df[\"quantile_CS\"] == 'Q2'][\"UB_lack_physical_activity\"]\n",
    "group3 = df[df[\"quantile_CS\"] == 'Q3'][\"UB_lack_physical_activity\"]\n",
    "group4 = df[df[\"quantile_CS\"] == 'Q4'][\"UB_lack_physical_activity\"]\n",
    "\n",
    "# Perform the ANOVA\n",
    "stats.f_oneway(group1, group2, group3, group4)"
   ]
  },
  {
   "cell_type": "code",
   "execution_count": 24,
   "metadata": {},
   "outputs": [
    {
     "name": "stdout",
     "output_type": "stream",
     "text": [
      "Multiple Comparison of Means - Tukey HSD,FWER=0.05\n",
      "============================================\n",
      "group1 group2 meandiff  lower  upper  reject\n",
      "--------------------------------------------\n",
      "  Q1     Q2    0.6865   -1.463 2.8361 False \n",
      "  Q1     Q3    2.3938   0.2243 4.5634  True \n",
      "  Q1     Q4    3.185    1.0451 5.325   True \n",
      "  Q2     Q3    1.7073   -0.514 3.9286 False \n",
      "  Q2     Q4    2.4985   0.3061 4.6909  True \n",
      "  Q3     Q4    0.7912  -1.4208 3.0033 False \n",
      "--------------------------------------------\n"
     ]
    }
   ],
   "source": [
    "tukey_results_UBpa = pairwise_tukeyhsd(df_sorted['UB_lack_physical_activity'], df_sorted['quantile_CS'], 0.05)\n",
    "print(tukey_results_UBpa)"
   ]
  },
  {
   "cell_type": "code",
   "execution_count": 25,
   "metadata": {},
   "outputs": [
    {
     "data": {
      "image/png": "[encoded data removed]",
      "text/plain": [
       "<matplotlib.figure.Figure at 0x10ff4afd0>"
      ]
     },
     "metadata": {},
     "output_type": "display_data"
    }
   ],
   "source": [
    "df.boxplot('UB_obesity', by='quantile_CS', figsize=(20, 10))\n",
    "plt.title(\"Prevalence of Obesity\")\n",
    "plt.show()"
   ]
  },
  {
   "cell_type": "code",
   "execution_count": 26,
   "metadata": {},
   "outputs": [
    {
     "data": {
      "text/plain": [
       "F_onewayResult(statistic=9.313120031045374, pvalue=5.425711330258717e-06)"
      ]
     },
     "execution_count": 26,
     "metadata": {},
     "output_type": "execute_result"
    }
   ],
   "source": [
    "# Extract individual groups\n",
    "group1 = df[df[\"quantile_CS\"] == 'Q1'][\"UB_obesity\"]\n",
    "group2 = df[df[\"quantile_CS\"] == 'Q2'][\"UB_obesity\"]\n",
    "group3 = df[df[\"quantile_CS\"] == 'Q3'][\"UB_obesity\"]\n",
    "group4 = df[df[\"quantile_CS\"] == 'Q4'][\"UB_obesity\"]\n",
    "\n",
    "# Perform the ANOVA\n",
    "stats.f_oneway(group1, group2, group3, group4)"
   ]
  },
  {
   "cell_type": "code",
   "execution_count": 27,
   "metadata": {},
   "outputs": [
    {
     "name": "stdout",
     "output_type": "stream",
     "text": [
      "Multiple Comparison of Means - Tukey HSD,FWER=0.05\n",
      "============================================\n",
      "group1 group2 meandiff  lower  upper  reject\n",
      "--------------------------------------------\n",
      "  Q1     Q2    1.2955  -0.6071 3.198  False \n",
      "  Q1     Q3    2.4161   0.4958 4.3364  True \n",
      "  Q1     Q4    3.7291   1.835  5.6232  True \n",
      "  Q2     Q3    1.1207  -0.8454 3.0868 False \n",
      "  Q2     Q4    2.4336   0.4931 4.3741  True \n",
      "  Q3     Q4    1.3129  -0.6449 3.2708 False \n",
      "--------------------------------------------\n"
     ]
    }
   ],
   "source": [
    "tukey_results_UBo = pairwise_tukeyhsd(df_sorted['UB_obesity'], df_sorted['quantile_CS'], 0.05)\n",
    "print(tukey_results_UBo)"
   ]
  },
  {
   "cell_type": "code",
   "execution_count": 28,
   "metadata": {},
   "outputs": [
    {
     "data": {
      "image/png": "[encoded data removed]",
      "text/plain": [
       "<matplotlib.figure.Figure at 0x1100e9f98>"
      ]
     },
     "metadata": {},
     "output_type": "display_data"
    }
   ],
   "source": [
    "df.boxplot('UB_less_sleep', by='quantile_CS', figsize=(20, 10))\n",
    "plt.title(\"Prevalence of Lack of Sleep\")\n",
    "plt.show()"
   ]
  },
  {
   "cell_type": "code",
   "execution_count": 29,
   "metadata": {},
   "outputs": [
    {
     "data": {
      "text/plain": [
       "F_onewayResult(statistic=6.985331823625077, pvalue=0.00013217314965151378)"
      ]
     },
     "execution_count": 29,
     "metadata": {},
     "output_type": "execute_result"
    }
   ],
   "source": [
    "# Extract individual groups\n",
    "group1 = df[df[\"quantile_CS\"] == 'Q1'][\"UB_less_sleep\"]\n",
    "group2 = df[df[\"quantile_CS\"] == 'Q2'][\"UB_less_sleep\"]\n",
    "group3 = df[df[\"quantile_CS\"] == 'Q3'][\"UB_less_sleep\"]\n",
    "group4 = df[df[\"quantile_CS\"] == 'Q4'][\"UB_less_sleep\"]\n",
    "\n",
    "# Perform the ANOVA\n",
    "stats.f_oneway(group1, group2, group3, group4)"
   ]
  },
  {
   "cell_type": "code",
   "execution_count": 30,
   "metadata": {},
   "outputs": [
    {
     "name": "stdout",
     "output_type": "stream",
     "text": [
      "Multiple Comparison of Means - Tukey HSD,FWER=0.05\n",
      "============================================\n",
      "group1 group2 meandiff  lower  upper  reject\n",
      "--------------------------------------------\n",
      "  Q1     Q2    0.0029  -1.4119 1.4176 False \n",
      "  Q1     Q3    1.4711   0.0432 2.8991  True \n",
      "  Q1     Q4    2.0326   0.6242 3.4411  True \n",
      "  Q2     Q3    1.4683   0.0062 2.9303  True \n",
      "  Q2     Q4    2.0298   0.5868 3.4727  True \n",
      "  Q3     Q4    0.5615  -0.8944 2.0174 False \n",
      "--------------------------------------------\n"
     ]
    }
   ],
   "source": [
    "tukey_results_UBls = pairwise_tukeyhsd(df_sorted['UB_less_sleep'], df_sorted['quantile_CS'], 0.05)\n",
    "print(tukey_results_UBls)"
   ]
  },
  {
   "cell_type": "code",
   "execution_count": 31,
   "metadata": {},
   "outputs": [
    {
     "data": {
      "image/png": "[encoded data removed]",
      "text/plain": [
       "<matplotlib.figure.Figure at 0x110201a90>"
      ]
     },
     "metadata": {},
     "output_type": "display_data"
    }
   ],
   "source": [
    "df.boxplot('PS_lack_health_ins', by='quantile_CS', figsize=(20, 10))\n",
    "plt.title(\"Prevalence of Lack of Health Insurance\")\n",
    "plt.show()"
   ]
  },
  {
   "cell_type": "code",
   "execution_count": 32,
   "metadata": {},
   "outputs": [
    {
     "data": {
      "text/plain": [
       "F_onewayResult(statistic=3.1013487214139928, pvalue=0.026469158579423776)"
      ]
     },
     "execution_count": 32,
     "metadata": {},
     "output_type": "execute_result"
    }
   ],
   "source": [
    "# Extract individual groups\n",
    "group1 = df[df[\"quantile_CS\"] == 'Q1'][\"PS_lack_health_ins\"]\n",
    "group2 = df[df[\"quantile_CS\"] == 'Q2'][\"PS_lack_health_ins\"]\n",
    "group3 = df[df[\"quantile_CS\"] == 'Q3'][\"PS_lack_health_ins\"]\n",
    "group4 = df[df[\"quantile_CS\"] == 'Q4'][\"PS_lack_health_ins\"]\n",
    "\n",
    "# Perform the ANOVA\n",
    "stats.f_oneway(group1, group2, group3, group4)"
   ]
  },
  {
   "cell_type": "code",
   "execution_count": 33,
   "metadata": {},
   "outputs": [
    {
     "name": "stdout",
     "output_type": "stream",
     "text": [
      "Multiple Comparison of Means - Tukey HSD,FWER=0.05\n",
      "============================================\n",
      "group1 group2 meandiff  lower  upper  reject\n",
      "--------------------------------------------\n",
      "  Q1     Q2   -0.0635   -2.157  2.03  False \n",
      "  Q1     Q3    1.6215  -0.4915 3.7345 False \n",
      "  Q1     Q4    1.8482   -0.236 3.9324 False \n",
      "  Q2     Q3    1.6849  -0.4785 3.8483 False \n",
      "  Q2     Q4    1.9117  -0.2236 4.0469 False \n",
      "  Q3     Q4    0.2267  -1.9277 2.3811 False \n",
      "--------------------------------------------\n"
     ]
    }
   ],
   "source": [
    "tukey_results_PShi = pairwise_tukeyhsd(df_sorted['PS_lack_health_ins'], df_sorted['quantile_CS'], 0.05)\n",
    "print(tukey_results_PShi)"
   ]
  },
  {
   "cell_type": "code",
   "execution_count": 34,
   "metadata": {},
   "outputs": [
    {
     "data": {
      "image/png": "[encoded data removed]",
      "text/plain": [
       "<matplotlib.figure.Figure at 0x1103d7dd8>"
      ]
     },
     "metadata": {},
     "output_type": "display_data"
    }
   ],
   "source": [
    "df.boxplot('PS_routine_checkups', by='quantile_CS', figsize=(20, 10))\n",
    "plt.title(\"Prevalence of Routine Check-ups\")\n",
    "plt.show()"
   ]
  },
  {
   "cell_type": "code",
   "execution_count": 35,
   "metadata": {},
   "outputs": [
    {
     "data": {
      "text/plain": [
       "F_onewayResult(statistic=2.2614771272244614, pvalue=0.0805534440918015)"
      ]
     },
     "execution_count": 35,
     "metadata": {},
     "output_type": "execute_result"
    }
   ],
   "source": [
    "# Extract individual groups\n",
    "group1 = df[df[\"quantile_CS\"] == 'Q1'][\"PS_routine_checkups\"]\n",
    "group2 = df[df[\"quantile_CS\"] == 'Q2'][\"PS_routine_checkups\"]\n",
    "group3 = df[df[\"quantile_CS\"] == 'Q3'][\"PS_routine_checkups\"]\n",
    "group4 = df[df[\"quantile_CS\"] == 'Q4'][\"PS_routine_checkups\"]\n",
    "\n",
    "# Perform the ANOVA\n",
    "stats.f_oneway(group1, group2, group3, group4)"
   ]
  },
  {
   "cell_type": "code",
   "execution_count": 36,
   "metadata": {},
   "outputs": [
    {
     "data": {
      "image/png": "[encoded data removed]",
      "text/plain": [
       "<matplotlib.figure.Figure at 0x110587e10>"
      ]
     },
     "metadata": {},
     "output_type": "display_data"
    }
   ],
   "source": [
    "df.boxplot('PS_dental_checkups', by='quantile_CS', figsize=(20, 10))\n",
    "plt.title(\"Prevalence of Dental Check-ups\")\n",
    "plt.show()"
   ]
  },
  {
   "cell_type": "code",
   "execution_count": 37,
   "metadata": {},
   "outputs": [
    {
     "data": {
      "text/plain": [
       "F_onewayResult(statistic=9.607720818373567, pvalue=3.625908346547131e-06)"
      ]
     },
     "execution_count": 37,
     "metadata": {},
     "output_type": "execute_result"
    }
   ],
   "source": [
    "# Extract individual groups\n",
    "group1 = df[df[\"quantile_CS\"] == 'Q1'][\"PS_dental_checkups\"]\n",
    "group2 = df[df[\"quantile_CS\"] == 'Q2'][\"PS_dental_checkups\"]\n",
    "group3 = df[df[\"quantile_CS\"] == 'Q3'][\"PS_dental_checkups\"]\n",
    "group4 = df[df[\"quantile_CS\"] == 'Q4'][\"PS_dental_checkups\"]\n",
    "\n",
    "# Perform the ANOVA\n",
    "stats.f_oneway(group1, group2, group3, group4)"
   ]
  },
  {
   "cell_type": "code",
   "execution_count": 38,
   "metadata": {},
   "outputs": [
    {
     "name": "stdout",
     "output_type": "stream",
     "text": [
      "Multiple Comparison of Means - Tukey HSD,FWER=0.05\n",
      "=============================================\n",
      "group1 group2 meandiff  lower   upper  reject\n",
      "---------------------------------------------\n",
      "  Q1     Q2   -0.2448  -2.7725  2.2829 False \n",
      "  Q1     Q3    -2.695  -5.2462 -0.1437  True \n",
      "  Q1     Q4   -4.5637  -7.0801 -2.0473  True \n",
      "  Q2     Q3   -2.4502  -5.0623  0.1619 False \n",
      "  Q2     Q4   -4.3189   -6.897 -1.7408  True \n",
      "  Q3     Q4   -1.8687  -4.4699  0.7325 False \n",
      "---------------------------------------------\n"
     ]
    }
   ],
   "source": [
    "tukey_results_PSdc = pairwise_tukeyhsd(df_sorted['PS_dental_checkups'], df_sorted['quantile_CS'], 0.05)\n",
    "print(tukey_results_PSdc)"
   ]
  },
  {
   "cell_type": "code",
   "execution_count": 39,
   "metadata": {},
   "outputs": [
    {
     "data": {
      "image/png": "[encoded data removed]",
      "text/plain": [
       "<matplotlib.figure.Figure at 0x1103df470>"
      ]
     },
     "metadata": {},
     "output_type": "display_data"
    }
   ],
   "source": [
    "df.boxplot('PS_older_men_uptodate', by='quantile_CS', figsize=(20, 10))\n",
    "plt.title(\"Prevalence of Older Men Up to Date with Clinical Preventive Services\")\n",
    "plt.show()"
   ]
  },
  {
   "cell_type": "code",
   "execution_count": 40,
   "metadata": {},
   "outputs": [
    {
     "data": {
      "text/plain": [
       "F_onewayResult(statistic=2.0916545202234658, pvalue=0.10049721848497191)"
      ]
     },
     "execution_count": 40,
     "metadata": {},
     "output_type": "execute_result"
    }
   ],
   "source": [
    "# Extract individual groups\n",
    "group1 = df[df[\"quantile_CS\"] == 'Q1'][\"PS_older_men_uptodate\"]\n",
    "group2 = df[df[\"quantile_CS\"] == 'Q2'][\"PS_older_men_uptodate\"]\n",
    "group3 = df[df[\"quantile_CS\"] == 'Q3'][\"PS_older_men_uptodate\"]\n",
    "group4 = df[df[\"quantile_CS\"] == 'Q4'][\"PS_older_men_uptodate\"]\n",
    "\n",
    "# Perform the ANOVA\n",
    "stats.f_oneway(group1, group2, group3, group4)"
   ]
  },
  {
   "cell_type": "code",
   "execution_count": 41,
   "metadata": {},
   "outputs": [
    {
     "data": {
      "image/png": "[encoded data removed]",
      "text/plain": [
       "<matplotlib.figure.Figure at 0x10eb60c50>"
      ]
     },
     "metadata": {},
     "output_type": "display_data"
    }
   ],
   "source": [
    "df.boxplot('PS_older_women_uptodate', by='quantile_CS', figsize=(20, 10))\n",
    "plt.title(\"Prevalence of Older Women Up to Date with Clinical Preventive Services\")\n",
    "plt.show()"
   ]
  },
  {
   "cell_type": "code",
   "execution_count": 42,
   "metadata": {},
   "outputs": [
    {
     "data": {
      "text/plain": [
       "F_onewayResult(statistic=1.5311428657093111, pvalue=0.20561216920427536)"
      ]
     },
     "execution_count": 42,
     "metadata": {},
     "output_type": "execute_result"
    }
   ],
   "source": [
    "# Extract individual groups\n",
    "group1 = df[df[\"quantile_CS\"] == 'Q1'][\"PS_older_women_uptodate\"]\n",
    "group2 = df[df[\"quantile_CS\"] == 'Q2'][\"PS_older_women_uptodate\"]\n",
    "group3 = df[df[\"quantile_CS\"] == 'Q3'][\"PS_older_women_uptodate\"]\n",
    "group4 = df[df[\"quantile_CS\"] == 'Q4'][\"PS_older_women_uptodate\"]\n",
    "\n",
    "# Perform the ANOVA\n",
    "stats.f_oneway(group1, group2, group3, group4)"
   ]
  },
  {
   "cell_type": "code",
   "execution_count": null,
   "metadata": {},
   "outputs": [],
   "source": []
  }
 ],
 "metadata": {
  "kernelspec": {
   "display_name": "Python 3",
   "language": "python",
   "name": "python3"
  },
  "language_info": {
   "codemirror_mode": {
    "name": "ipython",
    "version": 3
   },
   "file_extension": ".py",
   "mimetype": "text/x-python",
   "name": "python",
   "nbconvert_exporter": "python",
   "pygments_lexer": "ipython3",
   "version": "3.6.4"
  }
 },
 "nbformat": 4,
 "nbformat_minor": 2
}
