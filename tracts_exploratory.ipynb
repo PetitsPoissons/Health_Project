{
 "cells": [
  {
   "cell_type": "code",
   "execution_count": 2,
   "metadata": {},
   "outputs": [],
   "source": [
    "%matplotlib inline\n",
    "import pandas as pd\n",
    "import numpy as np\n",
    "import statsmodels.api as sm\n",
    "from statsmodels.formula.api import ols"
   ]
  },
  {
   "cell_type": "code",
   "execution_count": 3,
   "metadata": {},
   "outputs": [],
   "source": [
    "health_df = pd.read_csv('500_Cities.csv')\n",
    "tracts_df = pd.read_csv('500_Census_Tracts.csv')\n",
    "unhealthy_behaviors_df = health_df[health_df.Category == 'Unhealthy Behaviors']\n",
    "prevention_df = health_df[health_df.Category == 'Prevention']\n",
    "health_outcomes_df = health_df[health_df.Category == 'Health Outcomes']"
   ]
  },
  {
   "cell_type": "code",
   "execution_count": 4,
   "metadata": {},
   "outputs": [
    {
     "data": {
      "text/plain": [
       "array(['AL', 'AK', 'AZ', 'TN', 'TX', 'CA', 'FL', 'AR', 'CO', 'CT', 'DE',\n",
       "       'DC', 'GA', 'HI', 'ID', 'IL', 'IN', 'IA', 'KS', 'KY', 'LA', 'ME',\n",
       "       'MD', 'MA', 'NC', 'MI', 'MN', 'MS', 'MO', 'MT', 'NE', 'NV', 'NH',\n",
       "       'NJ', 'NM', 'NY', 'ND', 'OH', 'OK', 'OR', 'PA', 'RI', 'SC', 'SD',\n",
       "       'UT', 'VT', 'VA', 'WA', 'WV', 'WI', 'WY'], dtype=object)"
      ]
     },
     "execution_count": 4,
     "metadata": {},
     "output_type": "execute_result"
    }
   ],
   "source": [
    "tracts_reduced = tracts_df[['StateAbbr', 'PlaceName', 'PlaceFIPS', 'TractFIPS', 'Place_TractID', 'Population2010',\n",
    "                            'ACCESS2_CrudePrev', 'ACCESS2_Crude95CI', 'BINGE_CrudePrev', 'BINGE_Crude95CI',\n",
    "                            'CHECKUP_CrudePrev', 'CHECKUP_Crude95CI', 'COREM_CrudePrev', 'COREM_Crude95CI', \n",
    "                            'COREW_CrudePrev', 'COREW_Crude95CI', 'CSMOKING_CrudePrev', 'CSMOKING_Crude95CI',\n",
    "                            'DENTAL_CrudePrev', 'DENTAL_Crude95CI', 'LPA_CrudePrev', 'LPA_Crude95CI',\n",
    "                            'MAMMOUSE_CrudePrev', 'MAMMOUSE_Crude95CI', 'MHLTH_CrudePrev', 'MHLTH_Crude95CI',\n",
    "                            'OBESITY_CrudePrev', 'OBESITY_Crude95CI', 'PHLTH_CrudePrev', 'PHLTH_Crude95CI', 'SLEEP_CrudePrev', 'SLEEP_Crude95CI', 'Geolocation']]\n",
    "tracts_reduced.columns\n",
    "tracts_reduced.StateAbbr.unique()"
   ]
  },
  {
   "cell_type": "code",
   "execution_count": 5,
   "metadata": {},
   "outputs": [],
   "source": [
    "tracts_CA = tracts_reduced[tracts_reduced.StateAbbr == 'CA']"
   ]
  },
  {
   "cell_type": "code",
   "execution_count": 30,
   "metadata": {},
   "outputs": [
    {
     "name": "stdout",
     "output_type": "stream",
     "text": [
      "Intercept            -1.906557\n",
      "BINGE_CrudePrev       0.121535\n",
      "CSMOKING_CrudePrev    0.470923\n",
      "LPA_CrudePrev         0.149118\n",
      "OBESITY_CrudePrev     0.059972\n",
      "SLEEP_CrudePrev       0.022876\n",
      "Population2010        0.000005\n",
      "dtype: float64\n",
      "                            OLS Regression Results                            \n",
      "==============================================================================\n",
      "Dep. Variable:        MHLTH_CrudePrev   R-squared:                       0.944\n",
      "Model:                            OLS   Adj. R-squared:                  0.944\n",
      "Method:                 Least Squares   F-statistic:                 1.482e+04\n",
      "Date:                Wed, 16 Jan 2019   Prob (F-statistic):               0.00\n",
      "Time:                        14:54:21   Log-Likelihood:                -5784.9\n",
      "No. Observations:                5239   AIC:                         1.158e+04\n",
      "Df Residuals:                    5232   BIC:                         1.163e+04\n",
      "Df Model:                           6                                         \n",
      "Covariance Type:            nonrobust                                         \n",
      "======================================================================================\n",
      "                         coef    std err          t      P>|t|      [0.025      0.975]\n",
      "--------------------------------------------------------------------------------------\n",
      "Intercept             -1.9066      0.158    -12.097      0.000      -2.216      -1.598\n",
      "BINGE_CrudePrev        0.1215      0.005     24.161      0.000       0.112       0.131\n",
      "CSMOKING_CrudePrev     0.4709      0.008     60.985      0.000       0.456       0.486\n",
      "LPA_CrudePrev          0.1491      0.004     33.444      0.000       0.140       0.158\n",
      "OBESITY_CrudePrev      0.0600      0.003     17.589      0.000       0.053       0.067\n",
      "SLEEP_CrudePrev        0.0229      0.004      5.114      0.000       0.014       0.032\n",
      "Population2010      4.961e-06   5.08e-06      0.977      0.328   -4.99e-06    1.49e-05\n",
      "==============================================================================\n",
      "Omnibus:                     2257.965   Durbin-Watson:                   0.846\n",
      "Prob(Omnibus):                  0.000   Jarque-Bera (JB):            61659.123\n",
      "Skew:                           1.474   Prob(JB):                         0.00\n",
      "Kurtosis:                      19.546   Cond. No.                     7.37e+04\n",
      "==============================================================================\n",
      "\n",
      "Warnings:\n",
      "[1] Standard Errors assume that the covariance matrix of the errors is correctly specified.\n",
      "[2] The condition number is large, 7.37e+04. This might indicate that there are\n",
      "strong multicollinearity or other numerical problems.\n"
     ]
    }
   ],
   "source": [
    "# Regression on CA tracts only\n",
    "#df = pd.DataFrame({\"A\": [10,20,30,40,50], \"B\": [20, 30, 10, 40, 50], \"C\": [32, 234, 23, 23, 42523]})\n",
    "#res = ols(y=df['A'], x=df[['B','C']])\n",
    "#df = pd.DataFrame({\"A\": [10,20,30,40,50], \"B\": [20, 30, 10, 40, 50], \"C\": [32, 234, 23, 23, 42523]})\n",
    "result = sm.ols(formula=\"MHLTH_CrudePrev ~ BINGE_CrudePrev + CSMOKING_CrudePrev + LPA_CrudePrev + OBESITY_CrudePrev + SLEEP_CrudePrev + Population2010\",\n",
    "                data=tracts_CA).fit()\n",
    "print(result.params)\n",
    "print(result.summary())"
   ]
  },
  {
   "cell_type": "code",
   "execution_count": 44,
   "metadata": {},
   "outputs": [],
   "source": [
    "tracts_4states = tracts_reduced[(tracts_reduced.StateAbbr == 'CA') | (tracts_reduced.StateAbbr == 'IL') | \n",
    "                                (tracts_reduced.StateAbbr == 'NY') | (tracts_reduced.StateAbbr == 'WA')]"
   ]
  },
  {
   "cell_type": "code",
   "execution_count": 73,
   "metadata": {},
   "outputs": [
    {
     "data": {
      "text/plain": [
       "474"
      ]
     },
     "execution_count": 73,
     "metadata": {},
     "output_type": "execute_result"
    }
   ],
   "source": [
    "tracts_groups = tracts_reduced.groupby(['PlaceName'])\n",
    "mean_sleep = tracts_groups['SLEEP_CrudePrev']"
   ]
  },
  {
   "cell_type": "code",
   "execution_count": null,
   "metadata": {},
   "outputs": [],
   "source": [
    "sample_cities[[Min Sleep]] = mean"
   ]
  },
  {
   "cell_type": "code",
   "execution_count": 45,
   "metadata": {},
   "outputs": [
    {
     "data": {
      "text/plain": [
       "<matplotlib.axes._subplots.AxesSubplot at 0x10d525198>"
      ]
     },
     "execution_count": 45,
     "metadata": {},
     "output_type": "execute_result"
    },
    {
     "data": {
      "image/png": "[encoded data removed]",
      "text/plain": [
       "<matplotlib.figure.Figure at 0x10c97c320>"
      ]
     },
     "metadata": {},
     "output_type": "display_data"
    }
   ],
   "source": [
    "tracts_4states.boxplot('SLEEP_CrudePrev', by='StateAbbr')"
   ]
  },
  {
   "cell_type": "code",
   "execution_count": null,
   "metadata": {},
   "outputs": [],
   "source": [
    "tracts_4states.PlaceName.unique()"
   ]
  },
  {
   "cell_type": "code",
   "execution_count": 47,
   "metadata": {},
   "outputs": [],
   "source": [
    "tracts_4cities = tracts_4states[(tracts_4states.PlaceName == 'Los Angeles') | (tracts_4states.PlaceName == 'Chicago') | \n",
    "                                (tracts_4states.PlaceName == 'New York') | (tracts_4states.PlaceName == 'Seattle')]"
   ]
  },
  {
   "cell_type": "code",
   "execution_count": 48,
   "metadata": {},
   "outputs": [
    {
     "data": {
      "text/plain": [
       "<matplotlib.axes._subplots.AxesSubplot at 0x108e1cb00>"
      ]
     },
     "execution_count": 48,
     "metadata": {},
     "output_type": "execute_result"
    },
    {
     "data": {
      "image/png": "[encoded data removed]",
      "text/plain": [
       "<matplotlib.figure.Figure at 0x10bbf4ef0>"
      ]
     },
     "metadata": {},
     "output_type": "display_data"
    }
   ],
   "source": [
    "tracts_4cities.boxplot('SLEEP_CrudePrev', by='PlaceName')"
   ]
  },
  {
   "cell_type": "code",
   "execution_count": 57,
   "metadata": {},
   "outputs": [
    {
     "data": {
      "text/plain": [
       "<matplotlib.axes._subplots.AxesSubplot at 0x10a4ee588>"
      ]
     },
     "execution_count": 57,
     "metadata": {},
     "output_type": "execute_result"
    },
    {
     "data": {
      "image/png": "[encoded data removed]",
      "text/plain": [
       "<matplotlib.figure.Figure at 0x108609ba8>"
      ]
     },
     "metadata": {},
     "output_type": "display_data"
    }
   ],
   "source": [
    "tracts_4cities.boxplot('ACCESS2_CrudePrev', by='PlaceName')"
   ]
  },
  {
   "cell_type": "code",
   "execution_count": 49,
   "metadata": {},
   "outputs": [
    {
     "data": {
      "text/plain": [
       "<matplotlib.axes._subplots.AxesSubplot at 0x10758e908>"
      ]
     },
     "execution_count": 49,
     "metadata": {},
     "output_type": "execute_result"
    },
    {
     "data": {
      "image/png": "[encoded data removed]",
      "text/plain": [
       "<matplotlib.figure.Figure at 0x10bd38eb8>"
      ]
     },
     "metadata": {},
     "output_type": "display_data"
    }
   ],
   "source": [
    "tracts_4cities.boxplot('MHLTH_CrudePrev', by='PlaceName')"
   ]
  },
  {
   "cell_type": "code",
   "execution_count": 55,
   "metadata": {},
   "outputs": [
    {
     "name": "stdout",
     "output_type": "stream",
     "text": [
      "                 sum_sq      df          F         PR(>F)\n",
      "PlaceName  23557.786181     3.0  323.48552  3.242181e-188\n",
      "Residual   97949.430347  4035.0        NaN            NaN\n"
     ]
    }
   ],
   "source": [
    "mod = ols('SLEEP_CrudePrev ~ PlaceName', data=tracts_4cities).fit()\n",
    "aov_table_1 = sm.stats.anova_lm(mod, typ=2)\n",
    "print(aov_table_1)"
   ]
  },
  {
   "cell_type": "code",
   "execution_count": 56,
   "metadata": {},
   "outputs": [
    {
     "name": "stdout",
     "output_type": "stream",
     "text": [
      "                 sum_sq      df          F        PR(>F)\n",
      "PlaceName   1161.481998     3.0  42.518621  4.806908e-27\n",
      "Residual   36741.391550  4035.0        NaN           NaN\n"
     ]
    }
   ],
   "source": [
    "mod = ols('MHLTH_CrudePrev ~ PlaceName', data=tracts_4cities).fit()\n",
    "aov_table_2 = sm.stats.anova_lm(mod, typ=2)\n",
    "print(aov_table_2)"
   ]
  },
  {
   "cell_type": "code",
   "execution_count": null,
   "metadata": {},
   "outputs": [],
   "source": []
  }
 ],
 "metadata": {
  "kernelspec": {
   "display_name": "Python 3",
   "language": "python",
   "name": "python3"
  },
  "language_info": {
   "codemirror_mode": {
    "name": "ipython",
    "version": 3
   },
   "file_extension": ".py",
   "mimetype": "text/x-python",
   "name": "python",
   "nbconvert_exporter": "python",
   "pygments_lexer": "ipython3",
   "version": "3.6.6"
  }
 },
 "nbformat": 4,
 "nbformat_minor": 2
}
