{
 "cells": [
  {
   "cell_type": "code",
   "execution_count": null,
   "metadata": {},
   "outputs": [],
   "source": [
    "import warnings\n",
    "warnings.filterwarnings('ignore')"
   ]
  },
  {
   "cell_type": "code",
   "execution_count": null,
   "metadata": {},
   "outputs": [],
   "source": [
    "# Dependencies and Setup\n",
    "import pandas as pd\n",
    "import numpy as np\n",
    "import matplotlib.pyplot as plt\n",
    "import requests\n",
    "import time\n",
    "import csv\n",
    "import scipy.stats as stats\n",
    "import statsmodels.api as sm\n",
    "from statsmodels.formula.api import ols\n",
    "from statsmodels.stats.multicomp import pairwise_tukeyhsd\n",
    "\n",
    "# Import API key\n",
    "from api_keys import api_key"
   ]
  },
  {
   "cell_type": "code",
   "execution_count": null,
   "metadata": {},
   "outputs": [],
   "source": [
    "# Loading files used in this analysis\n",
    "tracts_df = pd.read_csv('500_Census_Tracts.csv')\n",
    "acs16_df = pd.read_csv('ACS_2016.csv')\n",
    "tracts_df.head()"
   ]
  },
  {
   "cell_type": "markdown",
   "metadata": {},
   "source": [
    "## Selecting a smaller set of variables from the 2016 Census Tracts CDC dataset"
   ]
  },
  {
   "cell_type": "code",
   "execution_count": null,
   "metadata": {},
   "outputs": [],
   "source": [
    "tracts_reduced = tracts_df[['StateAbbr', 'PlaceName', 'MHLTH_CrudePrev', 'PHLTH_CrudePrev', 'SLEEP_CrudePrev',\n",
    "                            'LPA_CrudePrev', 'OBESITY_CrudePrev', 'CSMOKING_CrudePrev', 'BINGE_CrudePrev',\n",
    "                            'ACCESS2_CrudePrev', 'CHECKUP_CrudePrev', 'DENTAL_CrudePrev', 'COREM_CrudePrev',\n",
    "                            'COREW_CrudePrev', 'PlaceFIPS', 'TractFIPS', 'Place_TractID', 'Population2010',\n",
    "                            'Geolocation']]\n",
    "tracts_reduced.rename(columns = {\n",
    "    'StateAbbr': 'state',\n",
    "    'PlaceName': 'city',\n",
    "    'PlaceFIPS': 'city_FIPS',\n",
    "    'TractFIPS': 'tract_FIPS',\n",
    "    'Place_TractID': 'place_tractID',\n",
    "    'Population2010': 'population_2010',\n",
    "    'ACCESS2_CrudePrev': 'PS_lack_health_ins',\n",
    "    'BINGE_CrudePrev': 'UB_binge_drinking',\n",
    "    'CHECKUP_CrudePrev': 'PS_routine_checkups',\n",
    "    'COREM_CrudePrev': 'PS_older_men_uptodate',\n",
    "    'COREW_CrudePrev': 'PS_older_women_uptodate',\n",
    "    'CSMOKING_CrudePrev': 'UB_current_smoking',\n",
    "    'DENTAL_CrudePrev': 'PS_dental_checkups',\n",
    "    'LPA_CrudePrev': 'UB_lack_physical_activity',\n",
    "    'MHLTH_CrudePrev': 'HO_poor_mental_health',\n",
    "    'OBESITY_CrudePrev': 'UB_obesity',\n",
    "    'PHLTH_CrudePrev': 'HO_poor_physical_health',\n",
    "    'SLEEP_CrudePrev': 'UB_less_sleep',\n",
    "    'Geolocation': 'geolocation'}, inplace = True)\n",
    "tracts_reduced.head()"
   ]
  },
  {
   "cell_type": "code",
   "execution_count": null,
   "metadata": {},
   "outputs": [],
   "source": [
    "tracts_reduced['geo_id'] = tracts_reduced.city_FIPS.apply(\n",
    "    lambda x: '0' + str(x) if len(str(x)) == 6 else str(x))\n",
    "len(tracts_reduced)"
   ]
  },
  {
   "cell_type": "markdown",
   "metadata": {},
   "source": [
    "## Selecting a smaller set of variables from the 2016 American Community Survey (ACS) custom-built dataset"
   ]
  },
  {
   "cell_type": "code",
   "execution_count": null,
   "metadata": {},
   "outputs": [],
   "source": [
    "acs16_reduced = acs16_df[['HC01_EST_VC01', 'HC03_EST_VC01', 'HC01_EST_VC04', 'HC01_EST_VC07', 'HC03_EST_VC07',\n",
    "                          'HC01_EST_VC08', 'HC03_EST_VC08', 'HC01_EST_VC09', 'HC03_EST_VC09', 'HC01_EST_VC10',\n",
    "                          'HC03_EST_VC10', 'HC01_EST_VC11', 'HC03_EST_VC11', 'HC01_EST_VC12', 'HC03_EST_VC12',\n",
    "                          'HC01_EST_VC13', 'HC01_EST_VC20', 'HC03_EST_VC20', 'HC01_EST_VC21', 'HC03_EST_VC21',\n",
    "                          'HC01_EST_VC32', 'HC03_EST_VC32', 'HC01_EST_VC33', 'HC03_EST_VC33',\n",
    "                          'HC01_EST_VC50', 'HC03_EST_VC50', 'HC01_EST_VC54', 'HC03_EST_VC54', 'HC01_EST_VC55',\n",
    "                          'HC03_EST_VC55', 'HC01_EST_VC56', 'HC03_EST_VC56', 'HC01_EST_VC57', 'HC03_EST_VC57',\n",
    "                          'HC01_EST_VC58', 'HC03_EST_VC58', 'HC01_EST_VC74', 'HC03_EST_VC74', 'HC01_EST_VC75',\n",
    "                          'HC03_EST_VC75', 'HC01_EST_VC76', 'HC03_EST_VC76', 'HC01_EST_VC77', 'HC03_EST_VC77',\n",
    "                          'HC01_EST_VC78', 'HC03_EST_VC78', 'HC01_EST_VC79', 'HC03_EST_VC79'\n",
    "                         ]].apply(pd.to_numeric, errors='coerce')\n",
    "acs16_reduced['geo_id'] = acs16_df['GEO.id2']\n",
    "acs16_reduced.rename(columns = {\n",
    "    'HC01_EST_VC01': 'population_CNI',\n",
    "    'HC03_EST_VC01': 'population_%insured',\n",
    "    'HC01_EST_VC04': 'age_under18',\n",
    "    'HC01_EST_VC07': 'age18to64',\n",
    "    'HC03_EST_VC07': 'age18to64_%insured',\n",
    "    'HC01_EST_VC08': 'age18to24',\n",
    "    'HC03_EST_VC08': 'age18to24_%insured',\n",
    "    'HC01_EST_VC09': 'age25to34',\n",
    "    'HC03_EST_VC09': 'age25to34_%insured',\n",
    "    'HC01_EST_VC10': 'age35to44',\n",
    "    'HC03_EST_VC10': 'age35to44_%insured',\n",
    "    'HC01_EST_VC11': 'age45to54',\n",
    "    'HC03_EST_VC11': 'age45to54_%insured',\n",
    "    'HC01_EST_VC12': 'age55to64',\n",
    "    'HC03_EST_VC12': 'age55to64_%insured',\n",
    "    'HC01_EST_VC13': 'age_over64',\n",
    "    'HC01_EST_VC20': 'male',\n",
    "    'HC03_EST_VC20': 'male_%insured',\n",
    "    'HC01_EST_VC21': 'female',\n",
    "    'HC03_EST_VC21': 'female_%insured',\n",
    "    'HC01_EST_VC24': 'white',\n",
    "    'HC03_EST_VC24': 'white_%insured',\n",
    "    'HC01_EST_VC25': 'blackORaa',\n",
    "    'HC03_EST_VC25': 'blackORaa_%insured',\n",
    "    'HC01_EST_VC26': 'amerindian',\n",
    "    'HC03_EST_VC26': 'amerindian_%insured',\n",
    "    'HC01_EST_VC27': 'asian',\n",
    "    'HC03_EST_VC27': 'asian_%insured',\n",
    "    'HC01_EST_VC28': 'pIslander',\n",
    "    'HC03_EST_VC28': 'pIslander_%insured',\n",
    "    'HC01_EST_VC29': 'oRace',\n",
    "    'HC03_EST_VC29': 'oRace_%insured',\n",
    "    'HC01_EST_VC30': 'mixRace',\n",
    "    'HC03_EST_VC30': 'mixRace_%insured',\n",
    "    'HC01_EST_VC32': 'hispanicAlone',\n",
    "    'HC03_EST_VC32': 'hispanicAlone_%insured',\n",
    "    'HC01_EST_VC33': 'whiteAlone',\n",
    "    'HC03_EST_VC33': 'whiteAlone_%insured',\n",
    "    'HC01_EST_VC50': 'disability',\n",
    "    'HC03_EST_VC50': 'disability_%insured',\n",
    "    'HC01_EST_VC54': 'education_over25',\n",
    "    'HC03_EST_VC54': 'education_over25_%insured',\n",
    "    'HC01_EST_VC55': 'over25_lessThanHS',\n",
    "    'HC03_EST_VC55': 'over25_lessThanHS_%insured',\n",
    "    'HC01_EST_VC56': 'over25_HS',\n",
    "    'HC03_EST_VC56': 'over25_HS_%insured',\n",
    "    'HC01_EST_VC57': 'over25_someCollege',\n",
    "    'HC03_EST_VC57': 'over25_someCollege_%insured',\n",
    "    'HC01_EST_VC58': 'over25_college',\n",
    "    'HC03_EST_VC58': 'over25_college_%insured',\n",
    "    'HC01_EST_VC74': 'household_income',\n",
    "    'HC03_EST_VC74': 'household_income_%insured',\n",
    "    'HC01_EST_VC75': 'household_income_under$25K',\n",
    "    'HC03_EST_VC75': 'household_income_under$25K_%insured',\n",
    "    'HC01_EST_VC76': 'household_income_$25to49K',\n",
    "    'HC03_EST_VC76': 'household_income_$25to49K_%insured',\n",
    "    'HC01_EST_VC77': 'household_income_$50to74K',\n",
    "    'HC03_EST_VC77': 'household_income_$50to74K_%insured',\n",
    "    'HC01_EST_VC78': 'household_income_$75to99K',\n",
    "    'HC03_EST_VC78': 'household_income_$75to99K_%insured',\n",
    "    'HC01_EST_VC79': 'household_income_over$99K',\n",
    "    'HC03_EST_VC79': 'household_income_over$99K_%insured'\n",
    "}, inplace = True)"
   ]
  },
  {
   "cell_type": "code",
   "execution_count": null,
   "metadata": {},
   "outputs": [],
   "source": [
    "acs16_reduced.dtypes"
   ]
  },
  {
   "cell_type": "code",
   "execution_count": null,
   "metadata": {},
   "outputs": [],
   "source": [
    "acs16_reduced['percent_age18to24'] = acs16_reduced.age18to24 / acs16_reduced.age18to64\n",
    "acs16_reduced['percent_age25to34'] = acs16_reduced.age25to34 / acs16_reduced.age18to64\n",
    "acs16_reduced['percent_age35to44'] = acs16_reduced.age35to44 / acs16_reduced.age18to64\n",
    "acs16_reduced['percent_age45to54'] = acs16_reduced.age45to54 / acs16_reduced.age18to64\n",
    "acs16_reduced['percent_age55to64'] = acs16_reduced.age55to64 / acs16_reduced.age18to64\n",
    "acs16_reduced['percent_male'] = acs16_reduced.male / acs16_reduced.population_CNI\n",
    "acs16_reduced['percent_female'] = acs16_reduced.female / acs16_reduced.population_CNI\n",
    "acs16_reduced['percent_hispanic'] = acs16_reduced.hispanicAlone / acs16_reduced.population_CNI\n",
    "acs16_reduced['percent_white'] = acs16_reduced.whiteAlone / acs16_reduced.population_CNI\n",
    "acs16_reduced['percent_disability'] = acs16_reduced.disability / acs16_reduced.population_CNI\n",
    "acs16_reduced['percent_lessThanHS'] = acs16_reduced.over25_lessThanHS / acs16_reduced.education_over25\n",
    "acs16_reduced['percent_HS'] = acs16_reduced.over25_HS / acs16_reduced.education_over25\n",
    "acs16_reduced['percent_someCollege'] = acs16_reduced.over25_someCollege / acs16_reduced.education_over25\n",
    "acs16_reduced['percent_college'] = acs16_reduced.over25_college / acs16_reduced.education_over25\n",
    "acs16_reduced['percent_hIncome_under$25K'] = acs16_reduced['household_income_under$25K'] / acs16_reduced.household_income\n",
    "acs16_reduced['percent_hIncome_$25to49K'] = acs16_reduced['household_income_$25to49K'] / acs16_reduced.household_income\n",
    "acs16_reduced['percent_hIncome_$50to74K'] = acs16_reduced['household_income_$50to74K'] / acs16_reduced.household_income\n",
    "acs16_reduced['percent_hIncome_$75to99K'] = acs16_reduced['household_income_$75to99K'] / acs16_reduced.household_income\n",
    "acs16_reduced['percent_hIncome_over$99K'] = acs16_reduced['household_income_over$99K'] / acs16_reduced.household_income"
   ]
  },
  {
   "cell_type": "code",
   "execution_count": null,
   "metadata": {},
   "outputs": [],
   "source": [
    "acs16_final = acs16_reduced[['population_CNI', 'age18to64', 'percent_age18to24', 'percent_age25to34',\n",
    "                             'percent_age35to44', 'percent_age45to54', 'percent_age55to64', 'percent_male',\n",
    "                             'percent_female', 'percent_hispanic', 'percent_white', 'percent_disability',\n",
    "                             'percent_lessThanHS', 'percent_HS', 'percent_someCollege', 'percent_college',\n",
    "                             'percent_hIncome_under$25K', 'percent_hIncome_$25to49K', 'percent_hIncome_$50to74K',\n",
    "                             'percent_hIncome_$75to99K', 'percent_hIncome_over$99K',\n",
    "                             'age18to64_%insured', 'male_%insured', 'female_%insured', 'hispanicAlone_%insured',\n",
    "                             'whiteAlone_%insured', 'disability_%insured', 'over25_lessThanHS_%insured',\n",
    "                             'over25_HS_%insured', 'over25_someCollege_%insured', 'over25_college_%insured',\n",
    "                             'household_income_under$25K_%insured', 'household_income_$25to49K_%insured',\n",
    "                             'household_income_$50to74K_%insured', 'household_income_$75to99K_%insured',\n",
    "                             'household_income_over$99K_%insured', 'geo_id']]"
   ]
  },
  {
   "cell_type": "markdown",
   "metadata": {},
   "source": [
    "## Aggregating by cities"
   ]
  },
  {
   "cell_type": "code",
   "execution_count": null,
   "metadata": {},
   "outputs": [],
   "source": [
    "# Grouping by cities\n",
    "tracts_groups = tracts_reduced.groupby(['geo_id'])\n",
    "\n",
    "# Calculating mean, median and std for health indicators (HI)\n",
    "HI_means = tracts_groups['HO_poor_mental_health', 'HO_poor_physical_health', 'UB_binge_drinking', 'UB_current_smoking',\n",
    "                               'UB_lack_physical_activity', 'UB_obesity', 'UB_less_sleep', 'PS_lack_health_ins',\n",
    "                              'PS_routine_checkups', 'PS_dental_checkups', 'PS_older_men_uptodate',\n",
    "                               'PS_older_women_uptodate'].mean().reset_index()\n",
    "HI_medians = tracts_groups['HO_poor_mental_health', 'HO_poor_physical_health', 'UB_binge_drinking', 'UB_current_smoking',\n",
    "                               'UB_lack_physical_activity', 'UB_obesity', 'UB_less_sleep', 'PS_lack_health_ins',\n",
    "                              'PS_routine_checkups', 'PS_dental_checkups', 'PS_older_men_uptodate',\n",
    "                               'PS_older_women_uptodate'].median().reset_index()\n",
    "HI_stdev = tracts_groups['HO_poor_mental_health', 'HO_poor_physical_health', 'UB_binge_drinking', 'UB_current_smoking',\n",
    "                               'UB_lack_physical_activity', 'UB_obesity', 'UB_less_sleep', 'PS_lack_health_ins',\n",
    "                              'PS_routine_checkups', 'PS_dental_checkups', 'PS_older_men_uptodate',\n",
    "                               'PS_older_women_uptodate'].std().reset_index()\n",
    "\n",
    "# Calculating counts of tracts per city\n",
    "tracts_counts = tracts_groups['tract_FIPS'].count().reset_index()"
   ]
  },
  {
   "cell_type": "markdown",
   "metadata": {},
   "source": [
    "## Merging datasets by geo_id"
   ]
  },
  {
   "cell_type": "code",
   "execution_count": null,
   "metadata": {},
   "outputs": [],
   "source": [
    "# Create health indicators (HI) df\n",
    "HI_df = pd.merge(HI_means, tracts_counts, on='geo_id')\n",
    "print(f\"There are {len(HI_df)} cities represented in the Health Indicators dataset.\")\n",
    "# Create master df\n",
    "df = pd.merge(HI_df, acs16_final, on='geo_id')\n",
    "print(f\"There are {len(df)} cities represented in our final dataset, after merging with ACS_2016 dataset.\")"
   ]
  },
  {
   "cell_type": "code",
   "execution_count": null,
   "metadata": {},
   "outputs": [],
   "source": [
    "df.columns"
   ]
  },
  {
   "cell_type": "markdown",
   "metadata": {},
   "source": [
    "## Binning by mental health (MH) scores"
   ]
  },
  {
   "cell_type": "code",
   "execution_count": null,
   "metadata": {},
   "outputs": [],
   "source": [
    "df['HO_poor_mental_health'].describe()"
   ]
  },
  {
   "cell_type": "code",
   "execution_count": null,
   "metadata": {},
   "outputs": [],
   "source": [
    "# Calculate quantiles on mental health outcome (MH) & prepare bins\n",
    "bins = [5]\n",
    "MH_Q1 = int(df['HO_poor_mental_health'].quantile(0.25))\n",
    "bins.append(MH_Q1)\n",
    "MH_Q2 = int(df['HO_poor_mental_health'].quantile(0.5))\n",
    "bins.append(MH_Q2)\n",
    "MH_Q3 = int(df['HO_poor_mental_health'].quantile(0.75))\n",
    "bins.append(MH_Q3)\n",
    "bins.append(20)\n",
    "print(bins)\n",
    "labels = ['Q1', 'Q2', 'Q3', 'Q4']\n",
    "print(labels)\n",
    "\n",
    "# Append our bins to df\n",
    "df['quantile_MH'] = pd.cut(df['HO_poor_mental_health'], bins, labels=labels)\n",
    "df_sorted = df.sort_values('quantile_MH')\n",
    "df_sorted.head()"
   ]
  },
  {
   "cell_type": "markdown",
   "metadata": {},
   "source": [
    "## Exploring differences in various health indicators by mental health (MH) bins"
   ]
  },
  {
   "cell_type": "code",
   "execution_count": null,
   "metadata": {},
   "outputs": [],
   "source": [
    "df.boxplot('HO_poor_physical_health', by='quantile_MH', figsize=(20, 10))\n",
    "plt.title(\"Prevalence of Poor Physical Health\")\n",
    "plt.show()"
   ]
  },
  {
   "cell_type": "code",
   "execution_count": null,
   "metadata": {},
   "outputs": [],
   "source": [
    "# Extract individual groups\n",
    "group1 = df[df[\"quantile_MH\"] == 'Q1'][\"HO_poor_physical_health\"]\n",
    "group2 = df[df[\"quantile_MH\"] == 'Q2'][\"HO_poor_physical_health\"]\n",
    "group3 = df[df[\"quantile_MH\"] == 'Q3'][\"HO_poor_physical_health\"]\n",
    "group4 = df[df[\"quantile_MH\"] == 'Q4'][\"HO_poor_physical_health\"]\n",
    "\n",
    "# Perform the ANOVA\n",
    "stats.f_oneway(group1, group2, group3, group4)"
   ]
  },
  {
   "cell_type": "code",
   "execution_count": null,
   "metadata": {},
   "outputs": [],
   "source": [
    "tukey_results_PH = pairwise_tukeyhsd(df_sorted['HO_poor_physical_health'], df_sorted['quantile_MH'], 0.05)\n",
    "print(tukey_results_PH)"
   ]
  },
  {
   "cell_type": "code",
   "execution_count": null,
   "metadata": {},
   "outputs": [],
   "source": [
    "df.boxplot('UB_binge_drinking', by='quantile_MH', figsize=(20, 10))\n",
    "plt.title(\"Prevalence of Binge Drinking\")\n",
    "plt.show()"
   ]
  },
  {
   "cell_type": "code",
   "execution_count": null,
   "metadata": {},
   "outputs": [],
   "source": [
    "# Extract individual groups\n",
    "group1 = df[df[\"quantile_MH\"] == 'Q1'][\"UB_binge_drinking\"]\n",
    "group2 = df[df[\"quantile_MH\"] == 'Q2'][\"UB_binge_drinking\"]\n",
    "group3 = df[df[\"quantile_MH\"] == 'Q3'][\"UB_binge_drinking\"]\n",
    "group4 = df[df[\"quantile_MH\"] == 'Q4'][\"UB_binge_drinking\"]\n",
    "\n",
    "# Perform the ANOVA\n",
    "stats.f_oneway(group1, group2, group3, group4)"
   ]
  },
  {
   "cell_type": "code",
   "execution_count": null,
   "metadata": {},
   "outputs": [],
   "source": [
    "tukey_results_UBbd = pairwise_tukeyhsd(df_sorted['UB_binge_drinking'], df_sorted['quantile_MH'], 0.05)\n",
    "print(tukey_results_UBbd)"
   ]
  },
  {
   "cell_type": "code",
   "execution_count": null,
   "metadata": {},
   "outputs": [],
   "source": [
    "df.boxplot('UB_current_smoking', by='quantile_MH', figsize=(20, 10))\n",
    "plt.title(\"Prevalence of Current Smoking\")\n",
    "plt.show()"
   ]
  },
  {
   "cell_type": "code",
   "execution_count": null,
   "metadata": {},
   "outputs": [],
   "source": [
    "# Extract individual groups\n",
    "group1 = df[df[\"quantile_MH\"] == 'Q1'][\"UB_current_smoking\"]\n",
    "group2 = df[df[\"quantile_MH\"] == 'Q2'][\"UB_current_smoking\"]\n",
    "group3 = df[df[\"quantile_MH\"] == 'Q3'][\"UB_current_smoking\"]\n",
    "group4 = df[df[\"quantile_MH\"] == 'Q4'][\"UB_current_smoking\"]\n",
    "\n",
    "# Perform the ANOVA\n",
    "stats.f_oneway(group1, group2, group3, group4)"
   ]
  },
  {
   "cell_type": "code",
   "execution_count": null,
   "metadata": {},
   "outputs": [],
   "source": [
    "tukey_results_UBcs = pairwise_tukeyhsd(df_sorted['UB_current_smoking'], df_sorted['quantile_MH'], 0.05)\n",
    "print(tukey_results_UBcs)"
   ]
  },
  {
   "cell_type": "code",
   "execution_count": null,
   "metadata": {},
   "outputs": [],
   "source": [
    "df.boxplot('UB_lack_physical_activity', by='quantile_MH', figsize=(20, 10))\n",
    "plt.title(\"Prevalence of Lack of Physical Activity\")\n",
    "plt.show()"
   ]
  },
  {
   "cell_type": "code",
   "execution_count": null,
   "metadata": {},
   "outputs": [],
   "source": [
    "# Extract individual groups\n",
    "group1 = df[df[\"quantile_MH\"] == 'Q1'][\"UB_lack_physical_activity\"]\n",
    "group2 = df[df[\"quantile_MH\"] == 'Q2'][\"UB_lack_physical_activity\"]\n",
    "group3 = df[df[\"quantile_MH\"] == 'Q3'][\"UB_lack_physical_activity\"]\n",
    "group4 = df[df[\"quantile_MH\"] == 'Q4'][\"UB_lack_physical_activity\"]\n",
    "\n",
    "# Perform the ANOVA\n",
    "stats.f_oneway(group1, group2, group3, group4)"
   ]
  },
  {
   "cell_type": "code",
   "execution_count": null,
   "metadata": {},
   "outputs": [],
   "source": [
    "tukey_results_UBpa = pairwise_tukeyhsd(df_sorted['UB_lack_physical_activity'], df_sorted['quantile_MH'], 0.05)\n",
    "print(tukey_results_UBpa)"
   ]
  },
  {
   "cell_type": "code",
   "execution_count": null,
   "metadata": {},
   "outputs": [],
   "source": [
    "df.boxplot('UB_obesity', by='quantile_MH', figsize=(20, 10))\n",
    "plt.title(\"Prevalence of Obesity\")\n",
    "plt.show()"
   ]
  },
  {
   "cell_type": "code",
   "execution_count": null,
   "metadata": {},
   "outputs": [],
   "source": [
    "# Extract individual groups\n",
    "group1 = df[df[\"quantile_MH\"] == 'Q1'][\"UB_obesity\"]\n",
    "group2 = df[df[\"quantile_MH\"] == 'Q2'][\"UB_obesity\"]\n",
    "group3 = df[df[\"quantile_MH\"] == 'Q3'][\"UB_obesity\"]\n",
    "group4 = df[df[\"quantile_MH\"] == 'Q4'][\"UB_obesity\"]\n",
    "\n",
    "# Perform the ANOVA\n",
    "stats.f_oneway(group1, group2, group3, group4)"
   ]
  },
  {
   "cell_type": "code",
   "execution_count": null,
   "metadata": {},
   "outputs": [],
   "source": [
    "tukey_results_UBo = pairwise_tukeyhsd(df_sorted['UB_obesity'], df_sorted['quantile_MH'], 0.05)\n",
    "print(tukey_results_UBo)"
   ]
  },
  {
   "cell_type": "code",
   "execution_count": null,
   "metadata": {},
   "outputs": [],
   "source": [
    "df.boxplot('UB_less_sleep', by='quantile_MH', figsize=(20, 10))\n",
    "plt.title(\"Prevalence of Lack of Sleep\")\n",
    "plt.show()"
   ]
  },
  {
   "cell_type": "code",
   "execution_count": null,
   "metadata": {},
   "outputs": [],
   "source": [
    "# Extract individual groups\n",
    "group1 = df[df[\"quantile_MH\"] == 'Q1'][\"UB_less_sleep\"]\n",
    "group2 = df[df[\"quantile_MH\"] == 'Q2'][\"UB_less_sleep\"]\n",
    "group3 = df[df[\"quantile_MH\"] == 'Q3'][\"UB_less_sleep\"]\n",
    "group4 = df[df[\"quantile_MH\"] == 'Q4'][\"UB_less_sleep\"]\n",
    "\n",
    "# Perform the ANOVA\n",
    "stats.f_oneway(group1, group2, group3, group4)"
   ]
  },
  {
   "cell_type": "code",
   "execution_count": null,
   "metadata": {},
   "outputs": [],
   "source": [
    "tukey_results_UBls = pairwise_tukeyhsd(df_sorted['UB_less_sleep'], df_sorted['quantile_MH'], 0.05)\n",
    "print(tukey_results_UBls)"
   ]
  },
  {
   "cell_type": "code",
   "execution_count": null,
   "metadata": {},
   "outputs": [],
   "source": [
    "df.boxplot('PS_lack_health_ins', by='quantile_MH', figsize=(20, 10))\n",
    "plt.title(\"Prevalence of Lack of Health Insurance\")\n",
    "plt.show()"
   ]
  },
  {
   "cell_type": "code",
   "execution_count": null,
   "metadata": {},
   "outputs": [],
   "source": [
    "# Extract individual groups\n",
    "group1 = df[df[\"quantile_MH\"] == 'Q1'][\"PS_lack_health_ins\"]\n",
    "group2 = df[df[\"quantile_MH\"] == 'Q2'][\"PS_lack_health_ins\"]\n",
    "group3 = df[df[\"quantile_MH\"] == 'Q3'][\"PS_lack_health_ins\"]\n",
    "group4 = df[df[\"quantile_MH\"] == 'Q4'][\"PS_lack_health_ins\"]\n",
    "\n",
    "# Perform the ANOVA\n",
    "stats.f_oneway(group1, group2, group3, group4)"
   ]
  },
  {
   "cell_type": "code",
   "execution_count": null,
   "metadata": {},
   "outputs": [],
   "source": [
    "tukey_results_PShi = pairwise_tukeyhsd(df_sorted['PS_lack_health_ins'], df_sorted['quantile_MH'], 0.05)\n",
    "print(tukey_results_PShi)"
   ]
  },
  {
   "cell_type": "code",
   "execution_count": null,
   "metadata": {},
   "outputs": [],
   "source": [
    "df.boxplot('PS_routine_checkups', by='quantile_MH', figsize=(20, 10))\n",
    "plt.title(\"Prevalence of Routine Check-ups\")\n",
    "plt.show()"
   ]
  },
  {
   "cell_type": "code",
   "execution_count": null,
   "metadata": {},
   "outputs": [],
   "source": [
    "# Extract individual groups\n",
    "group1 = df[df[\"quantile_MH\"] == 'Q1'][\"PS_routine_checkups\"]\n",
    "group2 = df[df[\"quantile_MH\"] == 'Q2'][\"PS_routine_checkups\"]\n",
    "group3 = df[df[\"quantile_MH\"] == 'Q3'][\"PS_routine_checkups\"]\n",
    "group4 = df[df[\"quantile_MH\"] == 'Q4'][\"PS_routine_checkups\"]\n",
    "\n",
    "# Perform the ANOVA\n",
    "stats.f_oneway(group1, group2, group3, group4)"
   ]
  },
  {
   "cell_type": "code",
   "execution_count": null,
   "metadata": {},
   "outputs": [],
   "source": [
    "tukey_results_PSrc = pairwise_tukeyhsd(df_sorted['PS_routine_checkups'], df_sorted['quantile_MH'], 0.05)\n",
    "print(tukey_results_PSrc)"
   ]
  },
  {
   "cell_type": "code",
   "execution_count": null,
   "metadata": {},
   "outputs": [],
   "source": [
    "df.boxplot('PS_dental_checkups', by='quantile_MH', figsize=(20, 10))\n",
    "plt.title(\"Prevalence of Dental Check-ups\")\n",
    "plt.show()"
   ]
  },
  {
   "cell_type": "code",
   "execution_count": null,
   "metadata": {},
   "outputs": [],
   "source": [
    "# Extract individual groups\n",
    "group1 = df[df[\"quantile_MH\"] == 'Q1'][\"PS_dental_checkups\"]\n",
    "group2 = df[df[\"quantile_MH\"] == 'Q2'][\"PS_dental_checkups\"]\n",
    "group3 = df[df[\"quantile_MH\"] == 'Q3'][\"PS_dental_checkups\"]\n",
    "group4 = df[df[\"quantile_MH\"] == 'Q4'][\"PS_dental_checkups\"]\n",
    "\n",
    "# Perform the ANOVA\n",
    "stats.f_oneway(group1, group2, group3, group4)"
   ]
  },
  {
   "cell_type": "code",
   "execution_count": null,
   "metadata": {},
   "outputs": [],
   "source": [
    "tukey_results_PSdc = pairwise_tukeyhsd(df_sorted['PS_dental_checkups'], df_sorted['quantile_MH'], 0.05)\n",
    "print(tukey_results_PSdc)"
   ]
  },
  {
   "cell_type": "code",
   "execution_count": null,
   "metadata": {},
   "outputs": [],
   "source": [
    "df.boxplot('PS_older_men_uptodate', by='quantile_MH', figsize=(20, 10))\n",
    "plt.title(\"Prevalence of Older Men Up to Date with Clinical Preventive Services\")\n",
    "plt.show()"
   ]
  },
  {
   "cell_type": "code",
   "execution_count": null,
   "metadata": {},
   "outputs": [],
   "source": [
    "# Extract individual groups\n",
    "group1 = df[df[\"quantile_MH\"] == 'Q1'][\"PS_older_men_uptodate\"]\n",
    "group2 = df[df[\"quantile_MH\"] == 'Q2'][\"PS_older_men_uptodate\"]\n",
    "group3 = df[df[\"quantile_MH\"] == 'Q3'][\"PS_older_men_uptodate\"]\n",
    "group4 = df[df[\"quantile_MH\"] == 'Q4'][\"PS_older_men_uptodate\"]\n",
    "\n",
    "# Perform the ANOVA\n",
    "stats.f_oneway(group1, group2, group3, group4)"
   ]
  },
  {
   "cell_type": "code",
   "execution_count": null,
   "metadata": {},
   "outputs": [],
   "source": [
    "tukey_results_PSom = pairwise_tukeyhsd(df_sorted['PS_older_men_uptodate'], df_sorted['quantile_MH'], 0.05)\n",
    "print(tukey_results_PSom)"
   ]
  },
  {
   "cell_type": "code",
   "execution_count": null,
   "metadata": {},
   "outputs": [],
   "source": [
    "df.boxplot('PS_older_women_uptodate', by='quantile_MH', figsize=(20, 10))\n",
    "plt.title(\"Prevalence of Older Women Up to Date with Clinical Preventive Services\")\n",
    "plt.show()"
   ]
  },
  {
   "cell_type": "code",
   "execution_count": null,
   "metadata": {},
   "outputs": [],
   "source": [
    "# Extract individual groups\n",
    "group1 = df[df[\"quantile_MH\"] == 'Q1'][\"PS_older_women_uptodate\"]\n",
    "group2 = df[df[\"quantile_MH\"] == 'Q2'][\"PS_older_women_uptodate\"]\n",
    "group3 = df[df[\"quantile_MH\"] == 'Q3'][\"PS_older_women_uptodate\"]\n",
    "group4 = df[df[\"quantile_MH\"] == 'Q4'][\"PS_older_women_uptodate\"]\n",
    "\n",
    "# Perform the ANOVA\n",
    "stats.f_oneway(group1, group2, group3, group4)"
   ]
  },
  {
   "cell_type": "code",
   "execution_count": null,
   "metadata": {},
   "outputs": [],
   "source": [
    "tukey_results_PSow = pairwise_tukeyhsd(df_sorted['PS_older_women_uptodate'], df_sorted['quantile_MH'], 0.05)\n",
    "print(tukey_results_PSow)"
   ]
  },
  {
   "cell_type": "markdown",
   "metadata": {},
   "source": [
    "## Exploring differences in demographic indicators by mental health (MH) bins"
   ]
  },
  {
   "cell_type": "code",
   "execution_count": null,
   "metadata": {},
   "outputs": [],
   "source": [
    "df.columns"
   ]
  },
  {
   "cell_type": "code",
   "execution_count": null,
   "metadata": {},
   "outputs": [],
   "source": [
    "# City population size and prevalence of poor mental health\n",
    "\n",
    "# Scatter plot:\n",
    "plt.scatter(df['population_CNI'], df['HO_poor_mental_health'], marker='o', facecolors='blue',\n",
    "            edgecolors='black', alpha=0.5)\n",
    "plt.title(\"Mental Health vs City Population Size\")\n",
    "plt.xlabel(\"City Population Size\")\n",
    "plt.ylabel(\"Prevalence of Poor Mental Health\")\n",
    "# adding a trendline\n",
    "z = np.polyfit(df['population_CNI'], df['HO_poor_mental_health'], 1)\n",
    "p = np.poly1d(z)\n",
    "plt.plot(df['population_CNI'], p(df['population_CNI']), 'purple')\n",
    "#plt.show()\n",
    "\n",
    "# Box plot\n",
    "df.boxplot('population_CNI', by='quantile_MH', figsize=(20, 10))\n",
    "plt.title(\"Population Size by City\")\n",
    "#plt.show()\n",
    "\n",
    "# Perform the ANOVA\n",
    "group1 = df[df[\"quantile_MH\"] == 'Q1'][\"population_CNI\"]\n",
    "group2 = df[df[\"quantile_MH\"] == 'Q2'][\"population_CNI\"]\n",
    "group3 = df[df[\"quantile_MH\"] == 'Q3'][\"population_CNI\"]\n",
    "group4 = df[df[\"quantile_MH\"] == 'Q4'][\"population_CNI\"]\n",
    "print(stats.f_oneway(group1, group2, group3, group4))"
   ]
  },
  {
   "cell_type": "code",
   "execution_count": null,
   "metadata": {},
   "outputs": [],
   "source": [
    "# City population size (ages 18 to 64) and prevalence of poor mental health\n",
    "\n",
    "# Scatter plot:\n",
    "plt.scatter(df['age18to64'], df['HO_poor_mental_health'], marker='o', facecolors='blue',\n",
    "            edgecolors='black', alpha=0.5)\n",
    "plt.title(\"Mental Health vs City Population Size (ages 18 to 64)\")\n",
    "plt.xlabel(\"City Population Size (ages 18 to 64)\")\n",
    "plt.ylabel(\"Prevalence of Poor Mental Health\")\n",
    "# adding a trendline\n",
    "z = np.polyfit(df['age18to64'], df['HO_poor_mental_health'], 1)\n",
    "p = np.poly1d(z)\n",
    "plt.plot(df['age18to64'], p(df['age18to64']), 'purple')\n",
    "#plt.show()\n",
    "\n",
    "# Box plot\n",
    "df.boxplot('age18to64', by='quantile_MH', figsize=(20, 10))\n",
    "plt.title(\"City Population Size (ages 18 to 64 only)\")\n",
    "#plt.show()\n",
    "\n",
    "# Perform the ANOVA\n",
    "group1 = df[df[\"quantile_MH\"] == 'Q1'][\"age18to64\"]\n",
    "group2 = df[df[\"quantile_MH\"] == 'Q2'][\"age18to64\"]\n",
    "group3 = df[df[\"quantile_MH\"] == 'Q3'][\"age18to64\"]\n",
    "group4 = df[df[\"quantile_MH\"] == 'Q4'][\"age18to64\"]\n",
    "print(stats.f_oneway(group1, group2, group3, group4))\n",
    "\n",
    "# Perform Tukey's test\n",
    "tukey_results = pairwise_tukeyhsd(df_sorted['age18to64'], df_sorted['quantile_MH'], 0.05)\n",
    "print(tukey_results)"
   ]
  },
  {
   "cell_type": "code",
   "execution_count": null,
   "metadata": {},
   "outputs": [],
   "source": [
    "# % population between ages 18 and 24 and prevalence of poor mental health\n",
    "\n",
    "# Scatter plot:\n",
    "plt.scatter(df['percent_age18to24'], df['HO_poor_mental_health'], marker='o', facecolors='blue',\n",
    "            edgecolors='black', alpha=0.5)\n",
    "plt.title(\"% Population between ages 18 and 24 and prevalence of poor mental health\")\n",
    "plt.xlabel(\"% population between ages 18 and 24\")\n",
    "plt.ylabel(\"Prevalence of Poor Mental Health\")\n",
    "# adding a trendline\n",
    "z = np.polyfit(df['percent_age18to24'], df['HO_poor_mental_health'], 1)\n",
    "p = np.poly1d(z)\n",
    "plt.plot(df['percent_age18to24'], p(df['percent_age18to24']), 'purple')\n",
    "#plt.show()\n",
    "\n",
    "# Box plot\n",
    "df.boxplot('percent_age18to24', by='quantile_MH', figsize=(20, 10))\n",
    "plt.title(\"% population between ages 18 and 24\")\n",
    "#plt.show()\n",
    "\n",
    "# Perform the ANOVA\n",
    "group1 = df[df[\"quantile_MH\"] == 'Q1'][\"percent_age18to24\"]\n",
    "group2 = df[df[\"quantile_MH\"] == 'Q2'][\"percent_age18to24\"]\n",
    "group3 = df[df[\"quantile_MH\"] == 'Q3'][\"percent_age18to24\"]\n",
    "group4 = df[df[\"quantile_MH\"] == 'Q4'][\"percent_age18to24\"]\n",
    "print(stats.f_oneway(group1, group2, group3, group4))\n",
    "\n",
    "# Perform Tukey's test\n",
    "tukey_results = pairwise_tukeyhsd(df_sorted['percent_age18to24'], df_sorted['quantile_MH'], 0.05)\n",
    "print(tukey_results)"
   ]
  },
  {
   "cell_type": "code",
   "execution_count": null,
   "metadata": {},
   "outputs": [],
   "source": [
    "# % population between ages 25 and 34 and prevalence of poor mental health\n",
    "\n",
    "# Scatter plot:\n",
    "plt.scatter(df['percent_age25to34'], df['HO_poor_mental_health'], marker='o', facecolors='blue',\n",
    "            edgecolors='black', alpha=0.5)\n",
    "plt.title(\"% Population between ages 25 and 34 and prevalence of poor mental health\")\n",
    "plt.xlabel(\"% population between ages 25 and 34\")\n",
    "plt.ylabel(\"Prevalence of Poor Mental Health\")\n",
    "# adding a trendline\n",
    "z = np.polyfit(df['percent_age25to34'], df['HO_poor_mental_health'], 1)\n",
    "p = np.poly1d(z)\n",
    "plt.plot(df['percent_age25to34'], p(df['percent_age25to34']), 'purple')\n",
    "#plt.show()\n",
    "\n",
    "# Box plot\n",
    "df.boxplot('percent_age25to34', by='quantile_MH', figsize=(20, 10))\n",
    "plt.title(\"% population between ages 25 and 34\")\n",
    "#plt.show()\n",
    "\n",
    "# Perform the ANOVA\n",
    "group1 = df[df[\"quantile_MH\"] == 'Q1'][\"percent_age25to34\"]\n",
    "group2 = df[df[\"quantile_MH\"] == 'Q2'][\"percent_age25to34\"]\n",
    "group3 = df[df[\"quantile_MH\"] == 'Q3'][\"percent_age25to34\"]\n",
    "group4 = df[df[\"quantile_MH\"] == 'Q4'][\"percent_age25to34\"]\n",
    "print(stats.f_oneway(group1, group2, group3, group4))\n",
    "\n",
    "# Perform Tukey's test\n",
    "tukey_results = pairwise_tukeyhsd(df_sorted['percent_age25to34'], df_sorted['quantile_MH'], 0.05)\n",
    "print(tukey_results)"
   ]
  },
  {
   "cell_type": "code",
   "execution_count": null,
   "metadata": {},
   "outputs": [],
   "source": [
    "# % population between ages 35 and 44 and prevalence of poor mental health\n",
    "\n",
    "# Scatter plot:\n",
    "plt.scatter(df['percent_age35to44'], df['HO_poor_mental_health'], marker='o', facecolors='blue',\n",
    "            edgecolors='black', alpha=0.5)\n",
    "plt.title(\"% Population between ages 35 and 44 and prevalence of poor mental health\")\n",
    "plt.xlabel(\"% population between ages 35 and 44\")\n",
    "plt.ylabel(\"Prevalence of Poor Mental Health\")\n",
    "# adding a trendline\n",
    "z = np.polyfit(df['percent_age35to44'], df['HO_poor_mental_health'], 1)\n",
    "p = np.poly1d(z)\n",
    "plt.plot(df['percent_age35to44'], p(df['percent_age35to44']), 'purple')\n",
    "#plt.show()\n",
    "\n",
    "# Box plot\n",
    "df.boxplot('percent_age35to44', by='quantile_MH', figsize=(20, 10))\n",
    "plt.title(\"% population between ages 35 and 44\")\n",
    "#plt.show()\n",
    "\n",
    "# Perform the ANOVA\n",
    "group1 = df[df[\"quantile_MH\"] == 'Q1'][\"percent_age35to44\"]\n",
    "group2 = df[df[\"quantile_MH\"] == 'Q2'][\"percent_age35to44\"]\n",
    "group3 = df[df[\"quantile_MH\"] == 'Q3'][\"percent_age35to44\"]\n",
    "group4 = df[df[\"quantile_MH\"] == 'Q4'][\"percent_age35to44\"]\n",
    "print(stats.f_oneway(group1, group2, group3, group4))\n",
    "\n",
    "# Perform Tukey's test\n",
    "tukey_results = pairwise_tukeyhsd(df_sorted['percent_age35to44'], df_sorted['quantile_MH'], 0.05)\n",
    "print(tukey_results)"
   ]
  },
  {
   "cell_type": "code",
   "execution_count": null,
   "metadata": {},
   "outputs": [],
   "source": [
    "# % population between ages 45 and 54 and prevalence of poor mental health\n",
    "\n",
    "# Scatter plot:\n",
    "plt.scatter(df['percent_age45to54'], df['HO_poor_mental_health'], marker='o', facecolors='blue',\n",
    "            edgecolors='black', alpha=0.5)\n",
    "plt.title(\"% Population between ages 45 and 54 and prevalence of poor mental health\")\n",
    "plt.xlabel(\"% population between ages 45 and 54\")\n",
    "plt.ylabel(\"Prevalence of Poor Mental Health\")\n",
    "# adding a trendline\n",
    "z = np.polyfit(df['percent_age45to54'], df['HO_poor_mental_health'], 1)\n",
    "p = np.poly1d(z)\n",
    "plt.plot(df['percent_age45to54'], p(df['percent_age45to54']), 'purple')\n",
    "#plt.show()\n",
    "\n",
    "# Box plot\n",
    "df.boxplot('percent_age45to54', by='quantile_MH', figsize=(20, 10))\n",
    "plt.title(\"% population between ages 45 and 54\")\n",
    "#plt.show()\n",
    "\n",
    "# Perform the ANOVA\n",
    "group1 = df[df[\"quantile_MH\"] == 'Q1'][\"percent_age45to54\"]\n",
    "group2 = df[df[\"quantile_MH\"] == 'Q2'][\"percent_age45to54\"]\n",
    "group3 = df[df[\"quantile_MH\"] == 'Q3'][\"percent_age45to54\"]\n",
    "group4 = df[df[\"quantile_MH\"] == 'Q4'][\"percent_age45to54\"]\n",
    "print(stats.f_oneway(group1, group2, group3, group4))\n",
    "\n",
    "# Perform Tukey's test\n",
    "tukey_results = pairwise_tukeyhsd(df_sorted['percent_age45to54'], df_sorted['quantile_MH'], 0.05)\n",
    "print(tukey_results)"
   ]
  },
  {
   "cell_type": "code",
   "execution_count": null,
   "metadata": {},
   "outputs": [],
   "source": [
    "# % population between ages 55 and 64 and prevalence of poor mental health\n",
    "\n",
    "# Scatter plot:\n",
    "plt.scatter(df['percent_age55to64'], df['HO_poor_mental_health'], marker='o', facecolors='blue',\n",
    "            edgecolors='black', alpha=0.5)\n",
    "plt.title(\"% Population between ages 55 and 64 and prevalence of poor mental health\")\n",
    "plt.xlabel(\"% population between ages 55 and 64\")\n",
    "plt.ylabel(\"Prevalence of Poor Mental Health\")\n",
    "# adding a trendline\n",
    "z = np.polyfit(df['percent_age55to64'], df['HO_poor_mental_health'], 1)\n",
    "p = np.poly1d(z)\n",
    "plt.plot(df['percent_age55to64'], p(df['percent_age55to64']), 'purple')\n",
    "#plt.show()\n",
    "\n",
    "# Box plot\n",
    "df.boxplot('percent_age55to64', by='quantile_MH', figsize=(20, 10))\n",
    "plt.title(\"% population between ages 55 and 64\")\n",
    "#plt.show()\n",
    "\n",
    "# Perform the ANOVA\n",
    "group1 = df[df[\"quantile_MH\"] == 'Q1'][\"percent_age55to64\"]\n",
    "group2 = df[df[\"quantile_MH\"] == 'Q2'][\"percent_age55to64\"]\n",
    "group3 = df[df[\"quantile_MH\"] == 'Q3'][\"percent_age55to64\"]\n",
    "group4 = df[df[\"quantile_MH\"] == 'Q4'][\"percent_age55to64\"]\n",
    "print(stats.f_oneway(group1, group2, group3, group4))\n",
    "\n",
    "# Perform Tukey's test\n",
    "tukey_results = pairwise_tukeyhsd(df_sorted['percent_age55to64'], df_sorted['quantile_MH'], 0.05)\n",
    "print(tukey_results)"
   ]
  },
  {
   "cell_type": "code",
   "execution_count": null,
   "metadata": {},
   "outputs": [],
   "source": [
    "# % male and prevalence of poor mental health\n",
    "\n",
    "# Scatter plot:\n",
    "plt.scatter(df['percent_male'], df['HO_poor_mental_health'], marker='o', facecolors='blue',\n",
    "            edgecolors='black', alpha=0.5)\n",
    "plt.title(\"% male in population and prevalence of poor mental health\")\n",
    "plt.xlabel(\"% male\")\n",
    "plt.ylabel(\"Prevalence of Poor Mental Health\")\n",
    "# adding a trendline\n",
    "z = np.polyfit(df['percent_male'], df['HO_poor_mental_health'], 1)\n",
    "p = np.poly1d(z)\n",
    "plt.plot(df['percent_male'], p(df['percent_male']), 'purple')\n",
    "#plt.show()\n",
    "\n",
    "# Box plot\n",
    "df.boxplot('percent_male', by='quantile_MH', figsize=(20, 10))\n",
    "plt.title(\"% male in population\")\n",
    "#plt.show()\n",
    "\n",
    "# Perform the ANOVA\n",
    "group1 = df[df[\"quantile_MH\"] == 'Q1'][\"percent_male\"]\n",
    "group2 = df[df[\"quantile_MH\"] == 'Q2'][\"percent_male\"]\n",
    "group3 = df[df[\"quantile_MH\"] == 'Q3'][\"percent_male\"]\n",
    "group4 = df[df[\"quantile_MH\"] == 'Q4'][\"percent_male\"]\n",
    "print(stats.f_oneway(group1, group2, group3, group4))\n",
    "\n",
    "# Perform Tukey's test\n",
    "tukey_results = pairwise_tukeyhsd(df_sorted['percent_male'], df_sorted['quantile_MH'], 0.05)\n",
    "print(tukey_results)"
   ]
  },
  {
   "cell_type": "code",
   "execution_count": null,
   "metadata": {},
   "outputs": [],
   "source": [
    "# % female and prevalence of poor mental health\n",
    "\n",
    "# Scatter plot:\n",
    "plt.scatter(df['percent_female'], df['HO_poor_mental_health'], marker='o', facecolors='blue',\n",
    "            edgecolors='black', alpha=0.5)\n",
    "plt.title(\"% female in population and prevalence of poor mental health\")\n",
    "plt.xlabel(\"% female\")\n",
    "plt.ylabel(\"Prevalence of Poor Mental Health\")\n",
    "# adding a trendline\n",
    "z = np.polyfit(df['percent_female'], df['HO_poor_mental_health'], 1)\n",
    "p = np.poly1d(z)\n",
    "plt.plot(df['percent_female'], p(df['percent_female']), 'purple')\n",
    "#plt.show()\n",
    "\n",
    "# Box plot\n",
    "df.boxplot('percent_female', by='quantile_MH', figsize=(20, 10))\n",
    "plt.title(\"% female in population\")\n",
    "#plt.show()\n",
    "\n",
    "# Perform the ANOVA\n",
    "group1 = df[df[\"quantile_MH\"] == 'Q1'][\"percent_female\"]\n",
    "group2 = df[df[\"quantile_MH\"] == 'Q2'][\"percent_female\"]\n",
    "group3 = df[df[\"quantile_MH\"] == 'Q3'][\"percent_female\"]\n",
    "group4 = df[df[\"quantile_MH\"] == 'Q4'][\"percent_female\"]\n",
    "print(stats.f_oneway(group1, group2, group3, group4))\n",
    "\n",
    "# Perform Tukey's test\n",
    "tukey_results = pairwise_tukeyhsd(df_sorted['percent_female'], df_sorted['quantile_MH'], 0.05)\n",
    "print(tukey_results)"
   ]
  },
  {
   "cell_type": "code",
   "execution_count": null,
   "metadata": {},
   "outputs": [],
   "source": [
    "# % disability in population and prevalence of poor mental health\n",
    "\n",
    "# Scatter plot:\n",
    "plt.scatter(df['percent_disability'], df['HO_poor_mental_health'], marker='o', facecolors='blue',\n",
    "            edgecolors='black', alpha=0.5)\n",
    "plt.title(\"% disability in population and prevalence of poor mental health\")\n",
    "plt.xlabel(\"% disability in population\")\n",
    "plt.ylabel(\"Prevalence of Poor Mental Health\")\n",
    "# adding a trendline\n",
    "z = np.polyfit(df['percent_disability'], df['HO_poor_mental_health'], 1)\n",
    "p = np.poly1d(z)\n",
    "plt.plot(df['percent_disability'], p(df['percent_disability']), 'purple')\n",
    "#plt.show()\n",
    "\n",
    "# Box plot\n",
    "df.boxplot('percent_disability', by='quantile_MH', figsize=(20, 10))\n",
    "plt.title(\"% disability in population\")\n",
    "#plt.show()\n",
    "\n",
    "# Perform the ANOVA\n",
    "group1 = df[df[\"quantile_MH\"] == 'Q1'][\"percent_disability\"]\n",
    "group2 = df[df[\"quantile_MH\"] == 'Q2'][\"percent_disability\"]\n",
    "group3 = df[df[\"quantile_MH\"] == 'Q3'][\"percent_disability\"]\n",
    "group4 = df[df[\"quantile_MH\"] == 'Q4'][\"percent_disability\"]\n",
    "print(stats.f_oneway(group1, group2, group3, group4))\n",
    "\n",
    "# Perform Tukey's test\n",
    "tukey_results = pairwise_tukeyhsd(df_sorted['percent_disability'], df_sorted['quantile_MH'], 0.05)\n",
    "print(tukey_results)"
   ]
  },
  {
   "cell_type": "code",
   "execution_count": null,
   "metadata": {},
   "outputs": [],
   "source": [
    "df.columns"
   ]
  },
  {
   "cell_type": "code",
   "execution_count": null,
   "metadata": {},
   "outputs": [],
   "source": [
    "# Educational attainment (less than a high school degree) and prevalence of poor mental health\n",
    "\n",
    "# Scatter plot:\n",
    "plt.scatter(df['percent_lessThanHS'], df['HO_poor_mental_health'], marker='o', facecolors='blue',\n",
    "            edgecolors='black', alpha=0.5)\n",
    "plt.title(\"% population with less than a high school degree and prevalence of poor mental health\")\n",
    "plt.xlabel(\"% population with less than a high school degreen\")\n",
    "plt.ylabel(\"Prevalence of Poor Mental Health\")\n",
    "# adding a trendline\n",
    "z = np.polyfit(df['percent_lessThanHS'], df['HO_poor_mental_health'], 1)\n",
    "p = np.poly1d(z)\n",
    "plt.plot(df['percent_lessThanHS'], p(df['percent_lessThanHS']), 'purple')\n",
    "#plt.show()\n",
    "\n",
    "# Box plot\n",
    "df.boxplot('percent_lessThanHS', by='quantile_MH', figsize=(20, 10))\n",
    "plt.title(\"% population with less than a high school degree\")\n",
    "#plt.show()\n",
    "\n",
    "# Perform the ANOVA\n",
    "group1 = df[df[\"quantile_MH\"] == 'Q1'][\"percent_lessThanHS\"]\n",
    "group2 = df[df[\"quantile_MH\"] == 'Q2'][\"percent_lessThanHS\"]\n",
    "group3 = df[df[\"quantile_MH\"] == 'Q3'][\"percent_lessThanHS\"]\n",
    "group4 = df[df[\"quantile_MH\"] == 'Q4'][\"percent_lessThanHS\"]\n",
    "print(stats.f_oneway(group1, group2, group3, group4))\n",
    "\n",
    "# Perform Tukey's test\n",
    "tukey_results = pairwise_tukeyhsd(df_sorted['percent_lessThanHS'], df_sorted['quantile_MH'], 0.05)\n",
    "print(tukey_results)"
   ]
  },
  {
   "cell_type": "code",
   "execution_count": null,
   "metadata": {},
   "outputs": [],
   "source": [
    "# Educational attainment (high school degree) and prevalence of poor mental health\n",
    "\n",
    "# Scatter plot:\n",
    "plt.scatter(df['percent_HS'], df['HO_poor_mental_health'], marker='o', facecolors='blue',\n",
    "            edgecolors='black', alpha=0.5)\n",
    "plt.title(\"% population with a high school degree and prevalence of poor mental health\")\n",
    "plt.xlabel(\"% population with a high school degree\")\n",
    "plt.ylabel(\"Prevalence of Poor Mental Health\")\n",
    "# adding a trendline\n",
    "z = np.polyfit(df['percent_HS'], df['HO_poor_mental_health'], 1)\n",
    "p = np.poly1d(z)\n",
    "plt.plot(df['percent_HS'], p(df['percent_HS']), 'purple')\n",
    "#plt.show()\n",
    "\n",
    "# Box plot\n",
    "df.boxplot('percent_HS', by='quantile_MH', figsize=(20, 10))\n",
    "plt.title(\"% population with a high school degree\")\n",
    "#plt.show()\n",
    "\n",
    "# Perform the ANOVA\n",
    "group1 = df[df[\"quantile_MH\"] == 'Q1'][\"percent_HS\"]\n",
    "group2 = df[df[\"quantile_MH\"] == 'Q2'][\"percent_HS\"]\n",
    "group3 = df[df[\"quantile_MH\"] == 'Q3'][\"percent_HS\"]\n",
    "group4 = df[df[\"quantile_MH\"] == 'Q4'][\"percent_HS\"]\n",
    "print(stats.f_oneway(group1, group2, group3, group4))\n",
    "\n",
    "# Perform Tukey's test\n",
    "tukey_results = pairwise_tukeyhsd(df_sorted['percent_HS'], df_sorted['quantile_MH'], 0.05)\n",
    "print(tukey_results)"
   ]
  },
  {
   "cell_type": "code",
   "execution_count": null,
   "metadata": {},
   "outputs": [],
   "source": [
    "# Educational attainment (some college or associate's degree) and prevalence of poor mental health\n",
    "\n",
    "# Scatter plot:\n",
    "plt.scatter(df['percent_someCollege'], df['HO_poor_mental_health'], marker='o', facecolors='blue',\n",
    "            edgecolors='black', alpha=0.5)\n",
    "plt.title(\"% population with some college or associate's degree and prevalence of poor mental health\")\n",
    "plt.xlabel(\"% population with some college or associate's degree\")\n",
    "plt.ylabel(\"Prevalence of Poor Mental Health\")\n",
    "# adding a trendline\n",
    "z = np.polyfit(df['percent_someCollege'], df['HO_poor_mental_health'], 1)\n",
    "p = np.poly1d(z)\n",
    "plt.plot(df['percent_someCollege'], p(df['percent_someCollege']), 'purple')\n",
    "#plt.show()\n",
    "\n",
    "# Box plot\n",
    "df.boxplot('percent_someCollege', by='quantile_MH', figsize=(20, 10))\n",
    "plt.title(\"% population with some college or associate's degree\")\n",
    "#plt.show()\n",
    "\n",
    "# Perform the ANOVA\n",
    "group1 = df[df[\"quantile_MH\"] == 'Q1'][\"percent_someCollege\"]\n",
    "group2 = df[df[\"quantile_MH\"] == 'Q2'][\"percent_someCollege\"]\n",
    "group3 = df[df[\"quantile_MH\"] == 'Q3'][\"percent_someCollege\"]\n",
    "group4 = df[df[\"quantile_MH\"] == 'Q4'][\"percent_someCollege\"]\n",
    "print(stats.f_oneway(group1, group2, group3, group4))\n",
    "\n",
    "# Perform Tukey's test\n",
    "tukey_results = pairwise_tukeyhsd(df_sorted['percent_someCollege'], df_sorted['quantile_MH'], 0.05)\n",
    "print(tukey_results)"
   ]
  },
  {
   "cell_type": "code",
   "execution_count": null,
   "metadata": {},
   "outputs": [],
   "source": [
    "# Educational attainment (Bachelor's degree or higher) and prevalence of poor mental health\n",
    "\n",
    "# Scatter plot:\n",
    "plt.scatter(df['percent_college'], df['HO_poor_mental_health'], marker='o', facecolors='blue',\n",
    "            edgecolors='black', alpha=0.5)\n",
    "plt.title(\"% population with a Bachelor's degree or higher and prevalence of poor mental health\")\n",
    "plt.xlabel(\"% population with a Bachelor's degree or higher\")\n",
    "plt.ylabel(\"Prevalence of Poor Mental Health\")\n",
    "# adding a trendline\n",
    "z = np.polyfit(df['percent_college'], df['HO_poor_mental_health'], 1)\n",
    "p = np.poly1d(z)\n",
    "plt.plot(df['percent_college'], p(df['percent_college']), 'purple')\n",
    "#plt.show()\n",
    "\n",
    "# Box plot\n",
    "df.boxplot('percent_college', by='quantile_MH', figsize=(20, 10))\n",
    "plt.title(\"% population with a Bachelor's degree or higher\")\n",
    "#plt.show()\n",
    "\n",
    "# Perform the ANOVA\n",
    "group1 = df[df[\"quantile_MH\"] == 'Q1'][\"percent_college\"]\n",
    "group2 = df[df[\"quantile_MH\"] == 'Q2'][\"percent_college\"]\n",
    "group3 = df[df[\"quantile_MH\"] == 'Q3'][\"percent_college\"]\n",
    "group4 = df[df[\"quantile_MH\"] == 'Q4'][\"percent_college\"]\n",
    "print(stats.f_oneway(group1, group2, group3, group4))\n",
    "\n",
    "# Perform Tukey's test\n",
    "tukey_results = pairwise_tukeyhsd(df_sorted['percent_college'], df_sorted['quantile_MH'], 0.05)\n",
    "print(tukey_results)"
   ]
  },
  {
   "cell_type": "code",
   "execution_count": null,
   "metadata": {},
   "outputs": [],
   "source": [
    "# Household income (under $25,000) and prevalence of poor mental health\n",
    "\n",
    "# Scatter plot:\n",
    "plt.scatter(df['percent_hIncome_under$25K'], df['HO_poor_mental_health'], marker='o', facecolors='blue',\n",
    "            edgecolors='black', alpha=0.5)\n",
    "plt.title(\"% population with household income under $25,000 and prevalence of poor mental health\")\n",
    "plt.xlabel(\"% population with household income under $25,000\")\n",
    "plt.ylabel(\"Prevalence of Poor Mental Health\")\n",
    "# adding a trendline\n",
    "z = np.polyfit(df['percent_hIncome_under$25K'], df['HO_poor_mental_health'], 1)\n",
    "p = np.poly1d(z)\n",
    "plt.plot(df['percent_hIncome_under$25K'], p(df['percent_hIncome_under$25K']), 'purple')\n",
    "#plt.show()\n",
    "\n",
    "# Box plot\n",
    "df.boxplot('percent_hIncome_under$25K', by='quantile_MH', figsize=(20, 10))\n",
    "plt.title(\"% population with household income under $25,000\")\n",
    "#plt.show()\n",
    "\n",
    "# Perform the ANOVA\n",
    "group1 = df[df[\"quantile_MH\"] == 'Q1'][\"percent_hIncome_under$25K\"]\n",
    "group2 = df[df[\"quantile_MH\"] == 'Q2'][\"percent_hIncome_under$25K\"]\n",
    "group3 = df[df[\"quantile_MH\"] == 'Q3'][\"percent_hIncome_under$25K\"]\n",
    "group4 = df[df[\"quantile_MH\"] == 'Q4'][\"percent_hIncome_under$25K\"]\n",
    "print(stats.f_oneway(group1, group2, group3, group4))\n",
    "\n",
    "# Perform Tukey's test\n",
    "tukey_results = pairwise_tukeyhsd(df_sorted['percent_hIncome_under$25K'], df_sorted['quantile_MH'], 0.05)\n",
    "print(tukey_results)"
   ]
  },
  {
   "cell_type": "code",
   "execution_count": null,
   "metadata": {},
   "outputs": [],
   "source": [
    "# Household income ($25,000-$49,999) and prevalence of poor mental health\n",
    "\n",
    "# Scatter plot:\n",
    "plt.scatter(df['percent_hIncome_$25to49K'], df['HO_poor_mental_health'], marker='o', facecolors='blue',\n",
    "            edgecolors='black', alpha=0.5)\n",
    "plt.title(\"% population with household income between $25,000 and $49,999 and prevalence of poor mental health\")\n",
    "plt.xlabel(\"% population with household income between $25,000 and $49,999\")\n",
    "plt.ylabel(\"Prevalence of Poor Mental Health\")\n",
    "# adding a trendline\n",
    "z = np.polyfit(df['percent_hIncome_$25to49K'], df['HO_poor_mental_health'], 1)\n",
    "p = np.poly1d(z)\n",
    "plt.plot(df['percent_hIncome_$25to49K'], p(df['percent_hIncome_$25to49K']), 'purple')\n",
    "#plt.show()\n",
    "\n",
    "# Box plot\n",
    "df.boxplot('percent_hIncome_$25to49K', by='quantile_MH', figsize=(20, 10))\n",
    "plt.title(\"% population with household income between $25,000 and $49,999\")\n",
    "#plt.show()\n",
    "\n",
    "# Perform the ANOVA\n",
    "group1 = df[df[\"quantile_MH\"] == 'Q1'][\"percent_hIncome_$25to49K\"]\n",
    "group2 = df[df[\"quantile_MH\"] == 'Q2'][\"percent_hIncome_$25to49K\"]\n",
    "group3 = df[df[\"quantile_MH\"] == 'Q3'][\"percent_hIncome_$25to49K\"]\n",
    "group4 = df[df[\"quantile_MH\"] == 'Q4'][\"percent_hIncome_$25to49K\"]\n",
    "print(stats.f_oneway(group1, group2, group3, group4))\n",
    "\n",
    "# Perform Tukey's test\n",
    "tukey_results = pairwise_tukeyhsd(df_sorted['percent_hIncome_$25to49K'], df_sorted['quantile_MH'], 0.05)\n",
    "print(tukey_results)"
   ]
  },
  {
   "cell_type": "code",
   "execution_count": null,
   "metadata": {},
   "outputs": [],
   "source": [
    "# Household income ($50,000-$74,999) and prevalence of poor mental health\n",
    "\n",
    "# Scatter plot:\n",
    "plt.scatter(df['percent_hIncome_$50to74K'], df['HO_poor_mental_health'], marker='o', facecolors='blue',\n",
    "            edgecolors='black', alpha=0.5)\n",
    "plt.title(\"% population with household income between $50,000 and $74,999 and prevalence of poor mental health\")\n",
    "plt.xlabel(\"% population with household income between $50,000 and $74,999\")\n",
    "plt.ylabel(\"Prevalence of Poor Mental Health\")\n",
    "# adding a trendline\n",
    "z = np.polyfit(df['percent_hIncome_$50to74K'], df['HO_poor_mental_health'], 1)\n",
    "p = np.poly1d(z)\n",
    "plt.plot(df['percent_hIncome_$50to74K'], p(df['percent_hIncome_$50to74K']), 'purple')\n",
    "#plt.show()\n",
    "\n",
    "# Box plot\n",
    "df.boxplot('percent_hIncome_$50to74K', by='quantile_MH', figsize=(20, 10))\n",
    "plt.title(\"% population with household income between $50,000 and $74,999\")\n",
    "#plt.show()\n",
    "\n",
    "# Perform the ANOVA\n",
    "group1 = df[df[\"quantile_MH\"] == 'Q1'][\"percent_hIncome_$50to74K\"]\n",
    "group2 = df[df[\"quantile_MH\"] == 'Q2'][\"percent_hIncome_$50to74K\"]\n",
    "group3 = df[df[\"quantile_MH\"] == 'Q3'][\"percent_hIncome_$50to74K\"]\n",
    "group4 = df[df[\"quantile_MH\"] == 'Q4'][\"percent_hIncome_$50to74K\"]\n",
    "print(stats.f_oneway(group1, group2, group3, group4))\n",
    "\n",
    "# Perform Tukey's test\n",
    "tukey_results = pairwise_tukeyhsd(df_sorted['percent_hIncome_$50to74K'], df_sorted['quantile_MH'], 0.05)\n",
    "print(tukey_results)"
   ]
  },
  {
   "cell_type": "code",
   "execution_count": null,
   "metadata": {},
   "outputs": [],
   "source": [
    "# Household income ($75,000-$99,999) and prevalence of poor mental health\n",
    "\n",
    "# Scatter plot:\n",
    "plt.scatter(df['percent_hIncome_$75to99K'], df['HO_poor_mental_health'], marker='o', facecolors='blue',\n",
    "            edgecolors='black', alpha=0.5)\n",
    "plt.title(\"% population with household income between $75,000 and $99,999 and prevalence of poor mental health\")\n",
    "plt.xlabel(\"% population with household income between $75,000 and $99,999\")\n",
    "plt.ylabel(\"Prevalence of Poor Mental Health\")\n",
    "# adding a trendline\n",
    "z = np.polyfit(df['percent_hIncome_$75to99K'], df['HO_poor_mental_health'], 1)\n",
    "p = np.poly1d(z)\n",
    "plt.plot(df['percent_hIncome_$75to99K'], p(df['percent_hIncome_$75to99K']), 'purple')\n",
    "#plt.show()\n",
    "\n",
    "# Box plot\n",
    "df.boxplot('percent_hIncome_$75to99K', by='quantile_MH', figsize=(20, 10))\n",
    "plt.title(\"% population with household income between $75,000 and $99,999\")\n",
    "#plt.show()\n",
    "\n",
    "# Perform the ANOVA\n",
    "group1 = df[df[\"quantile_MH\"] == 'Q1'][\"percent_hIncome_$75to99K\"]\n",
    "group2 = df[df[\"quantile_MH\"] == 'Q2'][\"percent_hIncome_$75to99K\"]\n",
    "group3 = df[df[\"quantile_MH\"] == 'Q3'][\"percent_hIncome_$75to99K\"]\n",
    "group4 = df[df[\"quantile_MH\"] == 'Q4'][\"percent_hIncome_$75to99K\"]\n",
    "print(stats.f_oneway(group1, group2, group3, group4))\n",
    "\n",
    "# Perform Tukey's test\n",
    "tukey_results = pairwise_tukeyhsd(df_sorted['percent_hIncome_$75to99K'], df_sorted['quantile_MH'], 0.05)\n",
    "print(tukey_results)"
   ]
  },
  {
   "cell_type": "code",
   "execution_count": null,
   "metadata": {},
   "outputs": [],
   "source": [
    "# Household income (over $99,999) and prevalence of poor mental health\n",
    "\n",
    "# Scatter plot:\n",
    "plt.scatter(df['percent_hIncome_over$99K'], df['HO_poor_mental_health'], marker='o', facecolors='blue',\n",
    "            edgecolors='black', alpha=0.5)\n",
    "plt.title(\"% population with household income over $99,999 and prevalence of poor mental health\")\n",
    "plt.xlabel(\"% population with household income over $99,999\")\n",
    "plt.ylabel(\"Prevalence of Poor Mental Health\")\n",
    "# adding a trendline\n",
    "z = np.polyfit(df['percent_hIncome_over$99K'], df['HO_poor_mental_health'], 1)\n",
    "p = np.poly1d(z)\n",
    "plt.plot(df['percent_hIncome_over$99K'], p(df['percent_hIncome_over$99K']), 'purple')\n",
    "#plt.show()\n",
    "\n",
    "# Box plot\n",
    "df.boxplot('percent_hIncome_over$99K', by='quantile_MH', figsize=(20, 10))\n",
    "plt.title(\"% population with household income over $99,999\")\n",
    "#plt.show()\n",
    "\n",
    "# Perform the ANOVA\n",
    "group1 = df[df[\"quantile_MH\"] == 'Q1'][\"percent_hIncome_over$99K\"]\n",
    "group2 = df[df[\"quantile_MH\"] == 'Q2'][\"percent_hIncome_over$99K\"]\n",
    "group3 = df[df[\"quantile_MH\"] == 'Q3'][\"percent_hIncome_over$99K\"]\n",
    "group4 = df[df[\"quantile_MH\"] == 'Q4'][\"percent_hIncome_over$99K\"]\n",
    "print(stats.f_oneway(group1, group2, group3, group4))\n",
    "\n",
    "# Perform Tukey's test\n",
    "tukey_results = pairwise_tukeyhsd(df_sorted['percent_hIncome_over$99K'], df_sorted['quantile_MH'], 0.05)\n",
    "print(tukey_results)"
   ]
  },
  {
   "cell_type": "code",
   "execution_count": null,
   "metadata": {},
   "outputs": [],
   "source": [
    "df.columns"
   ]
  },
  {
   "cell_type": "code",
   "execution_count": null,
   "metadata": {},
   "outputs": [],
   "source": []
  },
  {
   "cell_type": "code",
   "execution_count": null,
   "metadata": {},
   "outputs": [],
   "source": []
  },
  {
   "cell_type": "code",
   "execution_count": null,
   "metadata": {},
   "outputs": [],
   "source": []
  },
  {
   "cell_type": "code",
   "execution_count": null,
   "metadata": {},
   "outputs": [],
   "source": []
  },
  {
   "cell_type": "code",
   "execution_count": null,
   "metadata": {},
   "outputs": [],
   "source": []
  },
  {
   "cell_type": "code",
   "execution_count": null,
   "metadata": {},
   "outputs": [],
   "source": []
  },
  {
   "cell_type": "code",
   "execution_count": null,
   "metadata": {},
   "outputs": [],
   "source": []
  },
  {
   "cell_type": "code",
   "execution_count": null,
   "metadata": {},
   "outputs": [],
   "source": []
  },
  {
   "cell_type": "code",
   "execution_count": null,
   "metadata": {},
   "outputs": [],
   "source": []
  },
  {
   "cell_type": "code",
   "execution_count": null,
   "metadata": {},
   "outputs": [],
   "source": []
  },
  {
   "cell_type": "code",
   "execution_count": null,
   "metadata": {},
   "outputs": [],
   "source": []
  },
  {
   "cell_type": "code",
   "execution_count": null,
   "metadata": {},
   "outputs": [],
   "source": []
  }
 ],
 "metadata": {
  "kernelspec": {
   "display_name": "Python 3",
   "language": "python",
   "name": "python3"
  },
  "language_info": {
   "codemirror_mode": {
    "name": "ipython",
    "version": 3
   },
   "file_extension": ".py",
   "mimetype": "text/x-python",
   "name": "python",
   "nbconvert_exporter": "python",
   "pygments_lexer": "ipython3",
   "version": "3.6.4"
  }
 },
 "nbformat": 4,
 "nbformat_minor": 2
}
