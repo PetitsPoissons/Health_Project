{
 "cells": [
  {
   "cell_type": "code",
   "execution_count": 1,
   "metadata": {},
   "outputs": [],
   "source": [
    "import warnings\n",
    "warnings.filterwarnings('ignore')"
   ]
  },
  {
   "cell_type": "code",
   "execution_count": 2,
   "metadata": {},
   "outputs": [],
   "source": [
    "# Dependencies and Setup\n",
    "import pandas as pd\n",
    "import numpy as np\n",
    "import matplotlib.pyplot as plt\n",
    "import scipy.stats as stats\n",
    "import statsmodels.api as sm\n",
    "from statsmodels.formula.api import ols\n",
    "from statsmodels.stats.multicomp import pairwise_tukeyhsd\n",
    "\n",
    "# Import API key\n",
    "from api_keys import api_key"
   ]
  },
  {
   "cell_type": "code",
   "execution_count": 3,
   "metadata": {},
   "outputs": [
    {
     "data": {
      "text/html": [
       "<div>\n",
       "<style scoped>\n",
       "    .dataframe tbody tr th:only-of-type {\n",
       "        vertical-align: middle;\n",
       "    }\n",
       "\n",
       "    .dataframe tbody tr th {\n",
       "        vertical-align: top;\n",
       "    }\n",
       "\n",
       "    .dataframe thead th {\n",
       "        text-align: right;\n",
       "    }\n",
       "</style>\n",
       "<table border=\"1\" class=\"dataframe\">\n",
       "  <thead>\n",
       "    <tr style=\"text-align: right;\">\n",
       "      <th></th>\n",
       "      <th>StateAbbr</th>\n",
       "      <th>PlaceName</th>\n",
       "      <th>PlaceFIPS</th>\n",
       "      <th>TractFIPS</th>\n",
       "      <th>Place_TractID</th>\n",
       "      <th>Population2010</th>\n",
       "      <th>ACCESS2_CrudePrev</th>\n",
       "      <th>ACCESS2_Crude95CI</th>\n",
       "      <th>ARTHRITIS_CrudePrev</th>\n",
       "      <th>ARTHRITIS_Crude95CI</th>\n",
       "      <th>...</th>\n",
       "      <th>PAPTEST_Crude95CI</th>\n",
       "      <th>PHLTH_CrudePrev</th>\n",
       "      <th>PHLTH_Crude95CI</th>\n",
       "      <th>SLEEP_CrudePrev</th>\n",
       "      <th>SLEEP_Crude95CI</th>\n",
       "      <th>STROKE_CrudePrev</th>\n",
       "      <th>STROKE_Crude95CI</th>\n",
       "      <th>TEETHLOST_CrudePrev</th>\n",
       "      <th>TEETHLOST_Crude95CI</th>\n",
       "      <th>Geolocation</th>\n",
       "    </tr>\n",
       "  </thead>\n",
       "  <tbody>\n",
       "    <tr>\n",
       "      <th>0</th>\n",
       "      <td>AL</td>\n",
       "      <td>Birmingham</td>\n",
       "      <td>107000</td>\n",
       "      <td>1073000100</td>\n",
       "      <td>0107000-01073000100</td>\n",
       "      <td>3042</td>\n",
       "      <td>23.3</td>\n",
       "      <td>(20.6, 26.3)</td>\n",
       "      <td>31.3</td>\n",
       "      <td>(30.3, 32.5)</td>\n",
       "      <td>...</td>\n",
       "      <td>(83.4, 86.6)</td>\n",
       "      <td>20.0</td>\n",
       "      <td>(18.5, 21.7)</td>\n",
       "      <td>45.5</td>\n",
       "      <td>(44.3, 46.5)</td>\n",
       "      <td>5.6</td>\n",
       "      <td>( 5.1,  6.1)</td>\n",
       "      <td>28.9</td>\n",
       "      <td>(23.7, 35.1)</td>\n",
       "      <td>(33.57943283260, -86.7228323926)</td>\n",
       "    </tr>\n",
       "    <tr>\n",
       "      <th>1</th>\n",
       "      <td>AL</td>\n",
       "      <td>Birmingham</td>\n",
       "      <td>107000</td>\n",
       "      <td>1073000300</td>\n",
       "      <td>0107000-01073000300</td>\n",
       "      <td>2735</td>\n",
       "      <td>28.5</td>\n",
       "      <td>(25.2, 31.7)</td>\n",
       "      <td>30.2</td>\n",
       "      <td>(29.0, 31.4)</td>\n",
       "      <td>...</td>\n",
       "      <td>(81.9, 85.6)</td>\n",
       "      <td>20.6</td>\n",
       "      <td>(18.8, 22.5)</td>\n",
       "      <td>44.5</td>\n",
       "      <td>(43.2, 45.7)</td>\n",
       "      <td>5.9</td>\n",
       "      <td>( 5.3,  6.5)</td>\n",
       "      <td>32.9</td>\n",
       "      <td>(25.5, 40.2)</td>\n",
       "      <td>(33.54282086860, -86.7524339780)</td>\n",
       "    </tr>\n",
       "    <tr>\n",
       "      <th>2</th>\n",
       "      <td>AL</td>\n",
       "      <td>Birmingham</td>\n",
       "      <td>107000</td>\n",
       "      <td>1073000400</td>\n",
       "      <td>0107000-01073000400</td>\n",
       "      <td>3338</td>\n",
       "      <td>23.9</td>\n",
       "      <td>(20.5, 27.6)</td>\n",
       "      <td>31.7</td>\n",
       "      <td>(30.3, 33.0)</td>\n",
       "      <td>...</td>\n",
       "      <td>(82.3, 86.8)</td>\n",
       "      <td>19.3</td>\n",
       "      <td>(17.6, 21.4)</td>\n",
       "      <td>45.7</td>\n",
       "      <td>(44.2, 47.0)</td>\n",
       "      <td>5.7</td>\n",
       "      <td>( 5.1,  6.4)</td>\n",
       "      <td>28.6</td>\n",
       "      <td>(22.0, 35.1)</td>\n",
       "      <td>(33.56324496330, -86.7640474064)</td>\n",
       "    </tr>\n",
       "    <tr>\n",
       "      <th>3</th>\n",
       "      <td>AL</td>\n",
       "      <td>Birmingham</td>\n",
       "      <td>107000</td>\n",
       "      <td>1073000500</td>\n",
       "      <td>0107000-01073000500</td>\n",
       "      <td>2864</td>\n",
       "      <td>25.8</td>\n",
       "      <td>(22.0, 29.9)</td>\n",
       "      <td>35.6</td>\n",
       "      <td>(34.1, 37.0)</td>\n",
       "      <td>...</td>\n",
       "      <td>(82.1, 86.5)</td>\n",
       "      <td>21.8</td>\n",
       "      <td>(19.8, 24.0)</td>\n",
       "      <td>46.1</td>\n",
       "      <td>(44.5, 47.4)</td>\n",
       "      <td>7.7</td>\n",
       "      <td>( 6.9,  8.6)</td>\n",
       "      <td>34.0</td>\n",
       "      <td>(24.4, 42.9)</td>\n",
       "      <td>(33.54424045940, -86.7749130719)</td>\n",
       "    </tr>\n",
       "    <tr>\n",
       "      <th>4</th>\n",
       "      <td>AL</td>\n",
       "      <td>Birmingham</td>\n",
       "      <td>107000</td>\n",
       "      <td>1073000700</td>\n",
       "      <td>0107000-01073000700</td>\n",
       "      <td>2577</td>\n",
       "      <td>29.4</td>\n",
       "      <td>(24.8, 34.2)</td>\n",
       "      <td>37.2</td>\n",
       "      <td>(35.8, 38.6)</td>\n",
       "      <td>...</td>\n",
       "      <td>(82.2, 87.1)</td>\n",
       "      <td>25.1</td>\n",
       "      <td>(22.9, 27.6)</td>\n",
       "      <td>48.3</td>\n",
       "      <td>(46.6, 49.7)</td>\n",
       "      <td>9.5</td>\n",
       "      <td>( 8.4, 10.6)</td>\n",
       "      <td>43.2</td>\n",
       "      <td>(33.2, 53.2)</td>\n",
       "      <td>(33.55254061390, -86.8016893706)</td>\n",
       "    </tr>\n",
       "  </tbody>\n",
       "</table>\n",
       "<p>5 rows × 63 columns</p>\n",
       "</div>"
      ],
      "text/plain": [
       "  StateAbbr   PlaceName  PlaceFIPS   TractFIPS        Place_TractID  \\\n",
       "0        AL  Birmingham     107000  1073000100  0107000-01073000100   \n",
       "1        AL  Birmingham     107000  1073000300  0107000-01073000300   \n",
       "2        AL  Birmingham     107000  1073000400  0107000-01073000400   \n",
       "3        AL  Birmingham     107000  1073000500  0107000-01073000500   \n",
       "4        AL  Birmingham     107000  1073000700  0107000-01073000700   \n",
       "\n",
       "   Population2010  ACCESS2_CrudePrev ACCESS2_Crude95CI  ARTHRITIS_CrudePrev  \\\n",
       "0            3042               23.3      (20.6, 26.3)                 31.3   \n",
       "1            2735               28.5      (25.2, 31.7)                 30.2   \n",
       "2            3338               23.9      (20.5, 27.6)                 31.7   \n",
       "3            2864               25.8      (22.0, 29.9)                 35.6   \n",
       "4            2577               29.4      (24.8, 34.2)                 37.2   \n",
       "\n",
       "  ARTHRITIS_Crude95CI                ...                 PAPTEST_Crude95CI  \\\n",
       "0        (30.3, 32.5)                ...                      (83.4, 86.6)   \n",
       "1        (29.0, 31.4)                ...                      (81.9, 85.6)   \n",
       "2        (30.3, 33.0)                ...                      (82.3, 86.8)   \n",
       "3        (34.1, 37.0)                ...                      (82.1, 86.5)   \n",
       "4        (35.8, 38.6)                ...                      (82.2, 87.1)   \n",
       "\n",
       "  PHLTH_CrudePrev  PHLTH_Crude95CI SLEEP_CrudePrev  SLEEP_Crude95CI  \\\n",
       "0            20.0     (18.5, 21.7)            45.5     (44.3, 46.5)   \n",
       "1            20.6     (18.8, 22.5)            44.5     (43.2, 45.7)   \n",
       "2            19.3     (17.6, 21.4)            45.7     (44.2, 47.0)   \n",
       "3            21.8     (19.8, 24.0)            46.1     (44.5, 47.4)   \n",
       "4            25.1     (22.9, 27.6)            48.3     (46.6, 49.7)   \n",
       "\n",
       "  STROKE_CrudePrev  STROKE_Crude95CI TEETHLOST_CrudePrev  TEETHLOST_Crude95CI  \\\n",
       "0              5.6      ( 5.1,  6.1)                28.9         (23.7, 35.1)   \n",
       "1              5.9      ( 5.3,  6.5)                32.9         (25.5, 40.2)   \n",
       "2              5.7      ( 5.1,  6.4)                28.6         (22.0, 35.1)   \n",
       "3              7.7      ( 6.9,  8.6)                34.0         (24.4, 42.9)   \n",
       "4              9.5      ( 8.4, 10.6)                43.2         (33.2, 53.2)   \n",
       "\n",
       "                        Geolocation  \n",
       "0  (33.57943283260, -86.7228323926)  \n",
       "1  (33.54282086860, -86.7524339780)  \n",
       "2  (33.56324496330, -86.7640474064)  \n",
       "3  (33.54424045940, -86.7749130719)  \n",
       "4  (33.55254061390, -86.8016893706)  \n",
       "\n",
       "[5 rows x 63 columns]"
      ]
     },
     "execution_count": 3,
     "metadata": {},
     "output_type": "execute_result"
    }
   ],
   "source": [
    "# Loading files used in this analysis\n",
    "tracts_df = pd.read_csv('500_Census_Tracts.csv')\n",
    "acs16_df = pd.read_csv('ACS_2016.csv')\n",
    "tracts_df.head()"
   ]
  },
  {
   "cell_type": "markdown",
   "metadata": {},
   "source": [
    "## Selecting a smaller set of variables from the 2016 Census Tracts CDC dataset"
   ]
  },
  {
   "cell_type": "code",
   "execution_count": 4,
   "metadata": {},
   "outputs": [
    {
     "data": {
      "text/plain": [
       "(array([3.000e+00, 5.900e+01, 7.310e+02, 2.377e+03, 3.503e+03, 3.807e+03,\n",
       "        3.891e+03, 3.392e+03, 2.709e+03, 2.395e+03, 1.811e+03, 1.171e+03,\n",
       "        7.590e+02, 3.670e+02, 1.420e+02, 5.300e+01, 2.200e+01, 1.200e+01,\n",
       "        5.000e+00, 1.000e+00]),\n",
       " array([ 4.1  ,  5.365,  6.63 ,  7.895,  9.16 , 10.425, 11.69 , 12.955,\n",
       "        14.22 , 15.485, 16.75 , 18.015, 19.28 , 20.545, 21.81 , 23.075,\n",
       "        24.34 , 25.605, 26.87 , 28.135, 29.4  ]),\n",
       " <a list of 20 Patch objects>)"
      ]
     },
     "execution_count": 4,
     "metadata": {},
     "output_type": "execute_result"
    },
    {
     "data": {
      "image/png": "[encoded data removed]",
      "text/plain": [
       "<matplotlib.figure.Figure at 0x109f76630>"
      ]
     },
     "metadata": {},
     "output_type": "display_data"
    }
   ],
   "source": [
    "tracts_reduced = tracts_df[['StateAbbr', 'PlaceName', 'MHLTH_CrudePrev', 'PHLTH_CrudePrev', 'SLEEP_CrudePrev',\n",
    "                            'LPA_CrudePrev', 'OBESITY_CrudePrev', 'CSMOKING_CrudePrev', 'BINGE_CrudePrev',\n",
    "                            'ACCESS2_CrudePrev', 'CHECKUP_CrudePrev', 'DENTAL_CrudePrev', 'COREM_CrudePrev',\n",
    "                            'COREW_CrudePrev', 'PlaceFIPS', 'TractFIPS', 'Place_TractID', 'Population2010',\n",
    "                            'Geolocation']]\n",
    "tracts_reduced.rename(columns = {\n",
    "    'StateAbbr': 'state',\n",
    "    'PlaceName': 'city',\n",
    "    'PlaceFIPS': 'city_FIPS',\n",
    "    'TractFIPS': 'tract_FIPS',\n",
    "    'Place_TractID': 'place_tractID',\n",
    "    'Population2010': 'population_2010',\n",
    "    'ACCESS2_CrudePrev': 'PS_lack_health_ins',\n",
    "    'BINGE_CrudePrev': 'UB_binge_drinking',\n",
    "    'CHECKUP_CrudePrev': 'PS_routine_checkups',\n",
    "    'COREM_CrudePrev': 'PS_older_men_uptodate',\n",
    "    'COREW_CrudePrev': 'PS_older_women_uptodate',\n",
    "    'CSMOKING_CrudePrev': 'UB_current_smoking',\n",
    "    'DENTAL_CrudePrev': 'PS_dental_checkups',\n",
    "    'LPA_CrudePrev': 'UB_lack_physical_activity',\n",
    "    'MHLTH_CrudePrev': 'HO_poor_mental_health',\n",
    "    'OBESITY_CrudePrev': 'UB_obesity',\n",
    "    'PHLTH_CrudePrev': 'HO_poor_physical_health',\n",
    "    'SLEEP_CrudePrev': 'UB_less_sleep',\n",
    "    'Geolocation': 'geolocation'}, inplace = True)\n",
    "plt.hist(tracts_reduced['HO_poor_mental_health'], bins=20)"
   ]
  },
  {
   "cell_type": "code",
   "execution_count": 5,
   "metadata": {},
   "outputs": [
    {
     "data": {
      "text/plain": [
       "27210"
      ]
     },
     "execution_count": 5,
     "metadata": {},
     "output_type": "execute_result"
    }
   ],
   "source": [
    "tracts_reduced['geo_id'] = tracts_reduced.city_FIPS.apply(\n",
    "    lambda x: '0' + str(x) if len(str(x)) == 6 else str(x))\n",
    "len(tracts_reduced)"
   ]
  },
  {
   "cell_type": "markdown",
   "metadata": {},
   "source": [
    "## Selecting a smaller set of variables from the 2016 American Community Survey (ACS) custom-built dataset"
   ]
  },
  {
   "cell_type": "code",
   "execution_count": 6,
   "metadata": {},
   "outputs": [],
   "source": [
    "acs16_reduced = acs16_df[['HC01_EST_VC01', 'HC03_EST_VC01', 'HC01_EST_VC04', 'HC01_EST_VC07', 'HC03_EST_VC07',\n",
    "                          'HC01_EST_VC08', 'HC03_EST_VC08', 'HC01_EST_VC09', 'HC03_EST_VC09', 'HC01_EST_VC10',\n",
    "                          'HC03_EST_VC10', 'HC01_EST_VC11', 'HC03_EST_VC11', 'HC01_EST_VC12', 'HC03_EST_VC12',\n",
    "                          'HC01_EST_VC13', 'HC01_EST_VC20', 'HC03_EST_VC20', 'HC01_EST_VC21', 'HC03_EST_VC21',\n",
    "                          'HC01_EST_VC32', 'HC03_EST_VC32', 'HC01_EST_VC33', 'HC03_EST_VC33',\n",
    "                          'HC01_EST_VC50', 'HC03_EST_VC50', 'HC01_EST_VC54', 'HC03_EST_VC54', 'HC01_EST_VC55',\n",
    "                          'HC03_EST_VC55', 'HC01_EST_VC56', 'HC03_EST_VC56', 'HC01_EST_VC57', 'HC03_EST_VC57',\n",
    "                          'HC01_EST_VC58', 'HC03_EST_VC58', 'HC01_EST_VC74', 'HC03_EST_VC74', 'HC01_EST_VC75',\n",
    "                          'HC03_EST_VC75', 'HC01_EST_VC76', 'HC03_EST_VC76', 'HC01_EST_VC77', 'HC03_EST_VC77',\n",
    "                          'HC01_EST_VC78', 'HC03_EST_VC78', 'HC01_EST_VC79', 'HC03_EST_VC79'\n",
    "                         ]].apply(pd.to_numeric, errors='coerce')\n",
    "acs16_reduced['geo_id'] = acs16_df['GEO.id2']\n",
    "acs16_reduced.rename(columns = {\n",
    "    'HC01_EST_VC01': 'population_CNI',\n",
    "    'HC03_EST_VC01': 'population_%insured',\n",
    "    'HC01_EST_VC04': 'age_under18',\n",
    "    'HC01_EST_VC07': 'age18to64',\n",
    "    'HC03_EST_VC07': 'age18to64_%insured',\n",
    "    'HC01_EST_VC08': 'age18to24',\n",
    "    'HC03_EST_VC08': 'age18to24_%insured',\n",
    "    'HC01_EST_VC09': 'age25to34',\n",
    "    'HC03_EST_VC09': 'age25to34_%insured',\n",
    "    'HC01_EST_VC10': 'age35to44',\n",
    "    'HC03_EST_VC10': 'age35to44_%insured',\n",
    "    'HC01_EST_VC11': 'age45to54',\n",
    "    'HC03_EST_VC11': 'age45to54_%insured',\n",
    "    'HC01_EST_VC12': 'age55to64',\n",
    "    'HC03_EST_VC12': 'age55to64_%insured',\n",
    "    'HC01_EST_VC13': 'age_over64',\n",
    "    'HC01_EST_VC20': 'male',\n",
    "    'HC03_EST_VC20': 'male_%insured',\n",
    "    'HC01_EST_VC21': 'female',\n",
    "    'HC03_EST_VC21': 'female_%insured',\n",
    "    'HC01_EST_VC24': 'white',\n",
    "    'HC03_EST_VC24': 'white_%insured',\n",
    "    'HC01_EST_VC25': 'blackORaa',\n",
    "    'HC03_EST_VC25': 'blackORaa_%insured',\n",
    "    'HC01_EST_VC26': 'amerindian',\n",
    "    'HC03_EST_VC26': 'amerindian_%insured',\n",
    "    'HC01_EST_VC27': 'asian',\n",
    "    'HC03_EST_VC27': 'asian_%insured',\n",
    "    'HC01_EST_VC28': 'pIslander',\n",
    "    'HC03_EST_VC28': 'pIslander_%insured',\n",
    "    'HC01_EST_VC29': 'oRace',\n",
    "    'HC03_EST_VC29': 'oRace_%insured',\n",
    "    'HC01_EST_VC30': 'mixRace',\n",
    "    'HC03_EST_VC30': 'mixRace_%insured',\n",
    "    'HC01_EST_VC32': 'hispanicAlone',\n",
    "    'HC03_EST_VC32': 'hispanicAlone_%insured',\n",
    "    'HC01_EST_VC33': 'whiteAlone',\n",
    "    'HC03_EST_VC33': 'whiteAlone_%insured',\n",
    "    'HC01_EST_VC50': 'disability',\n",
    "    'HC03_EST_VC50': 'disability_%insured',\n",
    "    'HC01_EST_VC54': 'education_over25',\n",
    "    'HC03_EST_VC54': 'education_over25_%insured',\n",
    "    'HC01_EST_VC55': 'over25_lessThanHS',\n",
    "    'HC03_EST_VC55': 'over25_lessThanHS_%insured',\n",
    "    'HC01_EST_VC56': 'over25_HS',\n",
    "    'HC03_EST_VC56': 'over25_HS_%insured',\n",
    "    'HC01_EST_VC57': 'over25_someCollege',\n",
    "    'HC03_EST_VC57': 'over25_someCollege_%insured',\n",
    "    'HC01_EST_VC58': 'over25_college',\n",
    "    'HC03_EST_VC58': 'over25_college_%insured',\n",
    "    'HC01_EST_VC74': 'household_income',\n",
    "    'HC03_EST_VC74': 'household_income_%insured',\n",
    "    'HC01_EST_VC75': 'household_income_under$25K',\n",
    "    'HC03_EST_VC75': 'household_income_under$25K_%insured',\n",
    "    'HC01_EST_VC76': 'household_income_$25to49K',\n",
    "    'HC03_EST_VC76': 'household_income_$25to49K_%insured',\n",
    "    'HC01_EST_VC77': 'household_income_$50to74K',\n",
    "    'HC03_EST_VC77': 'household_income_$50to74K_%insured',\n",
    "    'HC01_EST_VC78': 'household_income_$75to99K',\n",
    "    'HC03_EST_VC78': 'household_income_$75to99K_%insured',\n",
    "    'HC01_EST_VC79': 'household_income_over$99K',\n",
    "    'HC03_EST_VC79': 'household_income_over$99K_%insured'\n",
    "}, inplace = True)"
   ]
  },
  {
   "cell_type": "code",
   "execution_count": 7,
   "metadata": {},
   "outputs": [],
   "source": [
    "#acs16_reduced.dtypes"
   ]
  },
  {
   "cell_type": "code",
   "execution_count": 8,
   "metadata": {},
   "outputs": [],
   "source": [
    "acs16_reduced['percent_age18to24'] = acs16_reduced.age18to24 / acs16_reduced.age18to64\n",
    "acs16_reduced['percent_age25to34'] = acs16_reduced.age25to34 / acs16_reduced.age18to64\n",
    "acs16_reduced['percent_age35to44'] = acs16_reduced.age35to44 / acs16_reduced.age18to64\n",
    "acs16_reduced['percent_age45to54'] = acs16_reduced.age45to54 / acs16_reduced.age18to64\n",
    "acs16_reduced['percent_age55to64'] = acs16_reduced.age55to64 / acs16_reduced.age18to64\n",
    "acs16_reduced['percent_male'] = acs16_reduced.male / acs16_reduced.population_CNI\n",
    "acs16_reduced['percent_female'] = acs16_reduced.female / acs16_reduced.population_CNI\n",
    "acs16_reduced['percent_hispanic'] = acs16_reduced.hispanicAlone / acs16_reduced.population_CNI\n",
    "acs16_reduced['percent_white'] = acs16_reduced.whiteAlone / acs16_reduced.population_CNI\n",
    "acs16_reduced['percent_disability'] = acs16_reduced.disability / acs16_reduced.population_CNI\n",
    "acs16_reduced['percent_lessThanHS'] = acs16_reduced.over25_lessThanHS / acs16_reduced.education_over25\n",
    "acs16_reduced['percent_HS'] = acs16_reduced.over25_HS / acs16_reduced.education_over25\n",
    "acs16_reduced['percent_someCollege'] = acs16_reduced.over25_someCollege / acs16_reduced.education_over25\n",
    "acs16_reduced['percent_college'] = acs16_reduced.over25_college / acs16_reduced.education_over25\n",
    "acs16_reduced['percent_hIncome_under$25K'] = acs16_reduced['household_income_under$25K'] / acs16_reduced.household_income\n",
    "acs16_reduced['percent_hIncome_$25to49K'] = acs16_reduced['household_income_$25to49K'] / acs16_reduced.household_income\n",
    "acs16_reduced['percent_hIncome_$50to74K'] = acs16_reduced['household_income_$50to74K'] / acs16_reduced.household_income\n",
    "acs16_reduced['percent_hIncome_$75to99K'] = acs16_reduced['household_income_$75to99K'] / acs16_reduced.household_income\n",
    "acs16_reduced['percent_hIncome_over$99K'] = acs16_reduced['household_income_over$99K'] / acs16_reduced.household_income"
   ]
  },
  {
   "cell_type": "code",
   "execution_count": 9,
   "metadata": {},
   "outputs": [],
   "source": [
    "acs16_final = acs16_reduced[['population_CNI', 'age18to64', 'percent_age18to24', 'percent_age25to34',\n",
    "                             'percent_age35to44', 'percent_age45to54', 'percent_age55to64', 'percent_male',\n",
    "                             'percent_female', 'percent_hispanic', 'percent_white', 'percent_disability',\n",
    "                             'percent_lessThanHS', 'percent_HS', 'percent_someCollege', 'percent_college',\n",
    "                             'percent_hIncome_under$25K', 'percent_hIncome_$25to49K', 'percent_hIncome_$50to74K',\n",
    "                             'percent_hIncome_$75to99K', 'percent_hIncome_over$99K',\n",
    "                             'age18to64_%insured', 'male_%insured', 'female_%insured', 'hispanicAlone_%insured',\n",
    "                             'whiteAlone_%insured', 'disability_%insured', 'over25_lessThanHS_%insured',\n",
    "                             'over25_HS_%insured', 'over25_someCollege_%insured', 'over25_college_%insured',\n",
    "                             'household_income_under$25K_%insured', 'household_income_$25to49K_%insured',\n",
    "                             'household_income_$50to74K_%insured', 'household_income_$75to99K_%insured',\n",
    "                             'household_income_over$99K_%insured', 'geo_id']]"
   ]
  },
  {
   "cell_type": "markdown",
   "metadata": {},
   "source": [
    "## Aggregating by cities"
   ]
  },
  {
   "cell_type": "code",
   "execution_count": 10,
   "metadata": {},
   "outputs": [],
   "source": [
    "# Grouping by cities\n",
    "tracts_groups = tracts_reduced.groupby(['geo_id'])\n",
    "\n",
    "# Calculating mean, median and std for health indicators (HI)\n",
    "HI_means = tracts_groups['HO_poor_mental_health', 'HO_poor_physical_health', 'UB_binge_drinking', 'UB_current_smoking',\n",
    "                               'UB_lack_physical_activity', 'UB_obesity', 'UB_less_sleep', 'PS_lack_health_ins',\n",
    "                              'PS_routine_checkups', 'PS_dental_checkups', 'PS_older_men_uptodate',\n",
    "                               'PS_older_women_uptodate'].mean().reset_index()\n",
    "HI_medians = tracts_groups['HO_poor_mental_health', 'HO_poor_physical_health', 'UB_binge_drinking', 'UB_current_smoking',\n",
    "                               'UB_lack_physical_activity', 'UB_obesity', 'UB_less_sleep', 'PS_lack_health_ins',\n",
    "                              'PS_routine_checkups', 'PS_dental_checkups', 'PS_older_men_uptodate',\n",
    "                               'PS_older_women_uptodate'].median().reset_index()\n",
    "HI_stdev = tracts_groups['HO_poor_mental_health', 'HO_poor_physical_health', 'UB_binge_drinking', 'UB_current_smoking',\n",
    "                               'UB_lack_physical_activity', 'UB_obesity', 'UB_less_sleep', 'PS_lack_health_ins',\n",
    "                              'PS_routine_checkups', 'PS_dental_checkups', 'PS_older_men_uptodate',\n",
    "                               'PS_older_women_uptodate'].std().reset_index()\n",
    "\n",
    "# Calculating counts of tracts per city\n",
    "tracts_counts = tracts_groups['tract_FIPS'].count().reset_index()"
   ]
  },
  {
   "cell_type": "markdown",
   "metadata": {},
   "source": [
    "## Merging datasets by geo_id"
   ]
  },
  {
   "cell_type": "code",
   "execution_count": 11,
   "metadata": {},
   "outputs": [
    {
     "name": "stdout",
     "output_type": "stream",
     "text": [
      "There are 500 cities represented in the Health Indicators dataset.\n",
      "There are 495 cities represented in our final dataset, after merging with ACS_2016 dataset.\n"
     ]
    }
   ],
   "source": [
    "# Create health indicators (HI) df\n",
    "HI_df = pd.merge(HI_means, tracts_counts, on='geo_id')\n",
    "print(f\"There are {len(HI_df)} cities represented in the Health Indicators dataset.\")\n",
    "# Create master df\n",
    "df = pd.merge(HI_df, acs16_final, on='geo_id')\n",
    "print(f\"There are {len(df)} cities represented in our final dataset, after merging with ACS_2016 dataset.\")"
   ]
  },
  {
   "cell_type": "code",
   "execution_count": null,
   "metadata": {},
   "outputs": [],
   "source": [
    "#df.columns"
   ]
  },
  {
   "cell_type": "markdown",
   "metadata": {},
   "source": [
    "## Binning by mental health (MH) scores"
   ]
  },
  {
   "cell_type": "code",
   "execution_count": 12,
   "metadata": {},
   "outputs": [
    {
     "data": {
      "text/plain": [
       "count    495.000000\n",
       "mean      12.882364\n",
       "std        2.110979\n",
       "min        7.973333\n",
       "25%       11.396642\n",
       "50%       12.990789\n",
       "75%       14.349744\n",
       "max       18.702564\n",
       "Name: HO_poor_mental_health, dtype: float64"
      ]
     },
     "execution_count": 12,
     "metadata": {},
     "output_type": "execute_result"
    },
    {
     "data": {
      "image/png": "[encoded data removed]",
      "text/plain": [
       "<matplotlib.figure.Figure at 0x1c1f143c50>"
      ]
     },
     "metadata": {},
     "output_type": "display_data"
    }
   ],
   "source": [
    "plt.hist(df['HO_poor_mental_health'], bins=20)\n",
    "df['HO_poor_mental_health'].describe()"
   ]
  },
  {
   "cell_type": "code",
   "execution_count": 13,
   "metadata": {},
   "outputs": [
    {
     "name": "stdout",
     "output_type": "stream",
     "text": [
      "[5, 11, 12, 14, 20]\n",
      "['Q1', 'Q2', 'Q3', 'Q4']\n"
     ]
    },
    {
     "data": {
      "text/html": [
       "<div>\n",
       "<style scoped>\n",
       "    .dataframe tbody tr th:only-of-type {\n",
       "        vertical-align: middle;\n",
       "    }\n",
       "\n",
       "    .dataframe tbody tr th {\n",
       "        vertical-align: top;\n",
       "    }\n",
       "\n",
       "    .dataframe thead th {\n",
       "        text-align: right;\n",
       "    }\n",
       "</style>\n",
       "<table border=\"1\" class=\"dataframe\">\n",
       "  <thead>\n",
       "    <tr style=\"text-align: right;\">\n",
       "      <th></th>\n",
       "      <th>geo_id</th>\n",
       "      <th>HO_poor_mental_health</th>\n",
       "      <th>HO_poor_physical_health</th>\n",
       "      <th>UB_binge_drinking</th>\n",
       "      <th>UB_current_smoking</th>\n",
       "      <th>UB_lack_physical_activity</th>\n",
       "      <th>UB_obesity</th>\n",
       "      <th>UB_less_sleep</th>\n",
       "      <th>PS_lack_health_ins</th>\n",
       "      <th>PS_routine_checkups</th>\n",
       "      <th>...</th>\n",
       "      <th>over25_lessThanHS_%insured</th>\n",
       "      <th>over25_HS_%insured</th>\n",
       "      <th>over25_someCollege_%insured</th>\n",
       "      <th>over25_college_%insured</th>\n",
       "      <th>household_income_under$25K_%insured</th>\n",
       "      <th>household_income_$25to49K_%insured</th>\n",
       "      <th>household_income_$50to74K_%insured</th>\n",
       "      <th>household_income_$75to99K_%insured</th>\n",
       "      <th>household_income_over$99K_%insured</th>\n",
       "      <th>quantile_MH</th>\n",
       "    </tr>\n",
       "  </thead>\n",
       "  <tbody>\n",
       "    <tr>\n",
       "      <th>72</th>\n",
       "      <td>0641992</td>\n",
       "      <td>10.636842</td>\n",
       "      <td>9.694737</td>\n",
       "      <td>21.778947</td>\n",
       "      <td>13.305263</td>\n",
       "      <td>14.863158</td>\n",
       "      <td>21.052632</td>\n",
       "      <td>32.621053</td>\n",
       "      <td>7.857895</td>\n",
       "      <td>65.405263</td>\n",
       "      <td>...</td>\n",
       "      <td>76.3</td>\n",
       "      <td>95.7</td>\n",
       "      <td>97.3</td>\n",
       "      <td>98.5</td>\n",
       "      <td>96.3</td>\n",
       "      <td>90.4</td>\n",
       "      <td>95.6</td>\n",
       "      <td>93.4</td>\n",
       "      <td>98.0</td>\n",
       "      <td>Q1</td>\n",
       "    </tr>\n",
       "    <tr>\n",
       "      <th>224</th>\n",
       "      <td>1724582</td>\n",
       "      <td>9.377778</td>\n",
       "      <td>8.750000</td>\n",
       "      <td>23.177778</td>\n",
       "      <td>12.211111</td>\n",
       "      <td>17.533333</td>\n",
       "      <td>25.677778</td>\n",
       "      <td>31.005556</td>\n",
       "      <td>8.183333</td>\n",
       "      <td>70.633333</td>\n",
       "      <td>...</td>\n",
       "      <td>79.6</td>\n",
       "      <td>71.4</td>\n",
       "      <td>91.4</td>\n",
       "      <td>98.6</td>\n",
       "      <td>85.9</td>\n",
       "      <td>85.6</td>\n",
       "      <td>94.5</td>\n",
       "      <td>98.8</td>\n",
       "      <td>99.2</td>\n",
       "      <td>Q1</td>\n",
       "    </tr>\n",
       "    <tr>\n",
       "      <th>226</th>\n",
       "      <td>1751622</td>\n",
       "      <td>8.566667</td>\n",
       "      <td>8.575000</td>\n",
       "      <td>21.397222</td>\n",
       "      <td>12.272222</td>\n",
       "      <td>16.813889</td>\n",
       "      <td>27.175000</td>\n",
       "      <td>30.211111</td>\n",
       "      <td>6.397222</td>\n",
       "      <td>68.486111</td>\n",
       "      <td>...</td>\n",
       "      <td>80.8</td>\n",
       "      <td>89.7</td>\n",
       "      <td>95.9</td>\n",
       "      <td>97.7</td>\n",
       "      <td>92.8</td>\n",
       "      <td>96.4</td>\n",
       "      <td>96.6</td>\n",
       "      <td>96.6</td>\n",
       "      <td>97.3</td>\n",
       "      <td>Q1</td>\n",
       "    </tr>\n",
       "    <tr>\n",
       "      <th>227</th>\n",
       "      <td>1757225</td>\n",
       "      <td>9.673333</td>\n",
       "      <td>9.280000</td>\n",
       "      <td>24.360000</td>\n",
       "      <td>13.820000</td>\n",
       "      <td>18.400000</td>\n",
       "      <td>25.213333</td>\n",
       "      <td>31.000000</td>\n",
       "      <td>9.320000</td>\n",
       "      <td>68.606667</td>\n",
       "      <td>...</td>\n",
       "      <td>57.3</td>\n",
       "      <td>96.8</td>\n",
       "      <td>92.2</td>\n",
       "      <td>97.4</td>\n",
       "      <td>97.2</td>\n",
       "      <td>81.8</td>\n",
       "      <td>84.7</td>\n",
       "      <td>87.7</td>\n",
       "      <td>99.2</td>\n",
       "      <td>Q1</td>\n",
       "    </tr>\n",
       "    <tr>\n",
       "      <th>230</th>\n",
       "      <td>1768003</td>\n",
       "      <td>9.356000</td>\n",
       "      <td>9.272000</td>\n",
       "      <td>22.984000</td>\n",
       "      <td>13.628000</td>\n",
       "      <td>19.152000</td>\n",
       "      <td>23.616000</td>\n",
       "      <td>31.528000</td>\n",
       "      <td>8.580000</td>\n",
       "      <td>69.572000</td>\n",
       "      <td>...</td>\n",
       "      <td>75.6</td>\n",
       "      <td>89.0</td>\n",
       "      <td>95.7</td>\n",
       "      <td>97.8</td>\n",
       "      <td>83.1</td>\n",
       "      <td>90.0</td>\n",
       "      <td>90.7</td>\n",
       "      <td>100.0</td>\n",
       "      <td>99.3</td>\n",
       "      <td>Q1</td>\n",
       "    </tr>\n",
       "  </tbody>\n",
       "</table>\n",
       "<p>5 rows × 51 columns</p>\n",
       "</div>"
      ],
      "text/plain": [
       "      geo_id  HO_poor_mental_health  HO_poor_physical_health  \\\n",
       "72   0641992              10.636842                 9.694737   \n",
       "224  1724582               9.377778                 8.750000   \n",
       "226  1751622               8.566667                 8.575000   \n",
       "227  1757225               9.673333                 9.280000   \n",
       "230  1768003               9.356000                 9.272000   \n",
       "\n",
       "     UB_binge_drinking  UB_current_smoking  UB_lack_physical_activity  \\\n",
       "72           21.778947           13.305263                  14.863158   \n",
       "224          23.177778           12.211111                  17.533333   \n",
       "226          21.397222           12.272222                  16.813889   \n",
       "227          24.360000           13.820000                  18.400000   \n",
       "230          22.984000           13.628000                  19.152000   \n",
       "\n",
       "     UB_obesity  UB_less_sleep  PS_lack_health_ins  PS_routine_checkups  \\\n",
       "72    21.052632      32.621053            7.857895            65.405263   \n",
       "224   25.677778      31.005556            8.183333            70.633333   \n",
       "226   27.175000      30.211111            6.397222            68.486111   \n",
       "227   25.213333      31.000000            9.320000            68.606667   \n",
       "230   23.616000      31.528000            8.580000            69.572000   \n",
       "\n",
       "        ...       over25_lessThanHS_%insured  over25_HS_%insured  \\\n",
       "72      ...                             76.3                95.7   \n",
       "224     ...                             79.6                71.4   \n",
       "226     ...                             80.8                89.7   \n",
       "227     ...                             57.3                96.8   \n",
       "230     ...                             75.6                89.0   \n",
       "\n",
       "     over25_someCollege_%insured  over25_college_%insured  \\\n",
       "72                          97.3                     98.5   \n",
       "224                         91.4                     98.6   \n",
       "226                         95.9                     97.7   \n",
       "227                         92.2                     97.4   \n",
       "230                         95.7                     97.8   \n",
       "\n",
       "     household_income_under$25K_%insured  household_income_$25to49K_%insured  \\\n",
       "72                                  96.3                                90.4   \n",
       "224                                 85.9                                85.6   \n",
       "226                                 92.8                                96.4   \n",
       "227                                 97.2                                81.8   \n",
       "230                                 83.1                                90.0   \n",
       "\n",
       "     household_income_$50to74K_%insured  household_income_$75to99K_%insured  \\\n",
       "72                                 95.6                                93.4   \n",
       "224                                94.5                                98.8   \n",
       "226                                96.6                                96.6   \n",
       "227                                84.7                                87.7   \n",
       "230                                90.7                               100.0   \n",
       "\n",
       "     household_income_over$99K_%insured  quantile_MH  \n",
       "72                                 98.0           Q1  \n",
       "224                                99.2           Q1  \n",
       "226                                97.3           Q1  \n",
       "227                                99.2           Q1  \n",
       "230                                99.3           Q1  \n",
       "\n",
       "[5 rows x 51 columns]"
      ]
     },
     "execution_count": 13,
     "metadata": {},
     "output_type": "execute_result"
    }
   ],
   "source": [
    "# Calculate quantiles on mental health outcome (MH) & prepare bins\n",
    "bins = [5]\n",
    "MH_Q1 = int(df['HO_poor_mental_health'].quantile(0.25))\n",
    "bins.append(MH_Q1)\n",
    "MH_Q2 = int(df['HO_poor_mental_health'].quantile(0.5))\n",
    "bins.append(MH_Q2)\n",
    "MH_Q3 = int(df['HO_poor_mental_health'].quantile(0.75))\n",
    "bins.append(MH_Q3)\n",
    "bins.append(20)\n",
    "print(bins)\n",
    "labels = ['Q1', 'Q2', 'Q3', 'Q4']\n",
    "print(labels)\n",
    "\n",
    "# Append our bins to df\n",
    "df['quantile_MH'] = pd.cut(df['HO_poor_mental_health'], bins, labels=labels)\n",
    "df_sorted = df.sort_values('quantile_MH')\n",
    "df_sorted.head()"
   ]
  },
  {
   "cell_type": "markdown",
   "metadata": {},
   "source": [
    "## Exploring differences in various health indicators by mental health (MH) bins"
   ]
  },
  {
   "cell_type": "code",
   "execution_count": null,
   "metadata": {},
   "outputs": [],
   "source": [
    "df.boxplot('HO_poor_physical_health', by='quantile_MH', figsize=(20, 10))\n",
    "plt.title(\"Prevalence of Poor Physical Health\")\n",
    "plt.show()"
   ]
  },
  {
   "cell_type": "code",
   "execution_count": null,
   "metadata": {},
   "outputs": [],
   "source": [
    "# Extract individual groups\n",
    "group1 = df[df[\"quantile_MH\"] == 'Q1'][\"HO_poor_physical_health\"]\n",
    "group2 = df[df[\"quantile_MH\"] == 'Q2'][\"HO_poor_physical_health\"]\n",
    "group3 = df[df[\"quantile_MH\"] == 'Q3'][\"HO_poor_physical_health\"]\n",
    "group4 = df[df[\"quantile_MH\"] == 'Q4'][\"HO_poor_physical_health\"]\n",
    "\n",
    "# Perform the ANOVA\n",
    "stats.f_oneway(group1, group2, group3, group4)"
   ]
  },
  {
   "cell_type": "code",
   "execution_count": null,
   "metadata": {},
   "outputs": [],
   "source": [
    "tukey_results_PH = pairwise_tukeyhsd(df_sorted['HO_poor_physical_health'], df_sorted['quantile_MH'], 0.05)\n",
    "print(tukey_results_PH)"
   ]
  },
  {
   "cell_type": "code",
   "execution_count": null,
   "metadata": {},
   "outputs": [],
   "source": [
    "df.boxplot('UB_binge_drinking', by='quantile_MH', figsize=(20, 10))\n",
    "plt.title(\"Prevalence of Binge Drinking\")\n",
    "plt.show()"
   ]
  },
  {
   "cell_type": "code",
   "execution_count": null,
   "metadata": {},
   "outputs": [],
   "source": [
    "# Extract individual groups\n",
    "group1 = df[df[\"quantile_MH\"] == 'Q1'][\"UB_binge_drinking\"]\n",
    "group2 = df[df[\"quantile_MH\"] == 'Q2'][\"UB_binge_drinking\"]\n",
    "group3 = df[df[\"quantile_MH\"] == 'Q3'][\"UB_binge_drinking\"]\n",
    "group4 = df[df[\"quantile_MH\"] == 'Q4'][\"UB_binge_drinking\"]\n",
    "\n",
    "# Perform the ANOVA\n",
    "stats.f_oneway(group1, group2, group3, group4)"
   ]
  },
  {
   "cell_type": "code",
   "execution_count": null,
   "metadata": {},
   "outputs": [],
   "source": [
    "tukey_results_UBbd = pairwise_tukeyhsd(df_sorted['UB_binge_drinking'], df_sorted['quantile_MH'], 0.05)\n",
    "print(tukey_results_UBbd)"
   ]
  },
  {
   "cell_type": "code",
   "execution_count": null,
   "metadata": {},
   "outputs": [],
   "source": [
    "df.boxplot('UB_current_smoking', by='quantile_MH', figsize=(20, 10))\n",
    "plt.title(\"Prevalence of Current Smoking\")\n",
    "plt.show()"
   ]
  },
  {
   "cell_type": "code",
   "execution_count": null,
   "metadata": {},
   "outputs": [],
   "source": [
    "# Extract individual groups\n",
    "group1 = df[df[\"quantile_MH\"] == 'Q1'][\"UB_current_smoking\"]\n",
    "group2 = df[df[\"quantile_MH\"] == 'Q2'][\"UB_current_smoking\"]\n",
    "group3 = df[df[\"quantile_MH\"] == 'Q3'][\"UB_current_smoking\"]\n",
    "group4 = df[df[\"quantile_MH\"] == 'Q4'][\"UB_current_smoking\"]\n",
    "\n",
    "# Perform the ANOVA\n",
    "stats.f_oneway(group1, group2, group3, group4)"
   ]
  },
  {
   "cell_type": "code",
   "execution_count": null,
   "metadata": {},
   "outputs": [],
   "source": [
    "tukey_results_UBcs = pairwise_tukeyhsd(df_sorted['UB_current_smoking'], df_sorted['quantile_MH'], 0.05)\n",
    "print(tukey_results_UBcs)"
   ]
  },
  {
   "cell_type": "code",
   "execution_count": null,
   "metadata": {},
   "outputs": [],
   "source": [
    "df.boxplot('UB_lack_physical_activity', by='quantile_MH', figsize=(20, 10))\n",
    "plt.title(\"Prevalence of Lack of Physical Activity\")\n",
    "plt.show()"
   ]
  },
  {
   "cell_type": "code",
   "execution_count": null,
   "metadata": {},
   "outputs": [],
   "source": [
    "# Extract individual groups\n",
    "group1 = df[df[\"quantile_MH\"] == 'Q1'][\"UB_lack_physical_activity\"]\n",
    "group2 = df[df[\"quantile_MH\"] == 'Q2'][\"UB_lack_physical_activity\"]\n",
    "group3 = df[df[\"quantile_MH\"] == 'Q3'][\"UB_lack_physical_activity\"]\n",
    "group4 = df[df[\"quantile_MH\"] == 'Q4'][\"UB_lack_physical_activity\"]\n",
    "\n",
    "# Perform the ANOVA\n",
    "stats.f_oneway(group1, group2, group3, group4)"
   ]
  },
  {
   "cell_type": "code",
   "execution_count": null,
   "metadata": {},
   "outputs": [],
   "source": [
    "tukey_results_UBpa = pairwise_tukeyhsd(df_sorted['UB_lack_physical_activity'], df_sorted['quantile_MH'], 0.05)\n",
    "print(tukey_results_UBpa)"
   ]
  },
  {
   "cell_type": "code",
   "execution_count": null,
   "metadata": {},
   "outputs": [],
   "source": [
    "df.boxplot('UB_obesity', by='quantile_MH', figsize=(20, 10))\n",
    "plt.title(\"Prevalence of Obesity\")\n",
    "plt.show()"
   ]
  },
  {
   "cell_type": "code",
   "execution_count": null,
   "metadata": {},
   "outputs": [],
   "source": [
    "# Extract individual groups\n",
    "group1 = df[df[\"quantile_MH\"] == 'Q1'][\"UB_obesity\"]\n",
    "group2 = df[df[\"quantile_MH\"] == 'Q2'][\"UB_obesity\"]\n",
    "group3 = df[df[\"quantile_MH\"] == 'Q3'][\"UB_obesity\"]\n",
    "group4 = df[df[\"quantile_MH\"] == 'Q4'][\"UB_obesity\"]\n",
    "\n",
    "# Perform the ANOVA\n",
    "stats.f_oneway(group1, group2, group3, group4)"
   ]
  },
  {
   "cell_type": "code",
   "execution_count": null,
   "metadata": {},
   "outputs": [],
   "source": [
    "tukey_results_UBo = pairwise_tukeyhsd(df_sorted['UB_obesity'], df_sorted['quantile_MH'], 0.05)\n",
    "print(tukey_results_UBo)"
   ]
  },
  {
   "cell_type": "code",
   "execution_count": null,
   "metadata": {},
   "outputs": [],
   "source": [
    "df.boxplot('UB_less_sleep', by='quantile_MH', figsize=(20, 10))\n",
    "plt.title(\"Prevalence of Lack of Sleep\")\n",
    "plt.show()"
   ]
  },
  {
   "cell_type": "code",
   "execution_count": null,
   "metadata": {},
   "outputs": [],
   "source": [
    "# Extract individual groups\n",
    "group1 = df[df[\"quantile_MH\"] == 'Q1'][\"UB_less_sleep\"]\n",
    "group2 = df[df[\"quantile_MH\"] == 'Q2'][\"UB_less_sleep\"]\n",
    "group3 = df[df[\"quantile_MH\"] == 'Q3'][\"UB_less_sleep\"]\n",
    "group4 = df[df[\"quantile_MH\"] == 'Q4'][\"UB_less_sleep\"]\n",
    "\n",
    "# Perform the ANOVA\n",
    "stats.f_oneway(group1, group2, group3, group4)"
   ]
  },
  {
   "cell_type": "code",
   "execution_count": null,
   "metadata": {},
   "outputs": [],
   "source": [
    "tukey_results_UBls = pairwise_tukeyhsd(df_sorted['UB_less_sleep'], df_sorted['quantile_MH'], 0.05)\n",
    "print(tukey_results_UBls)"
   ]
  },
  {
   "cell_type": "code",
   "execution_count": null,
   "metadata": {},
   "outputs": [],
   "source": [
    "df.boxplot('PS_lack_health_ins', by='quantile_MH', figsize=(20, 10))\n",
    "plt.title(\"Prevalence of Lack of Health Insurance\")\n",
    "plt.show()"
   ]
  },
  {
   "cell_type": "code",
   "execution_count": null,
   "metadata": {},
   "outputs": [],
   "source": [
    "# Extract individual groups\n",
    "group1 = df[df[\"quantile_MH\"] == 'Q1'][\"PS_lack_health_ins\"]\n",
    "group2 = df[df[\"quantile_MH\"] == 'Q2'][\"PS_lack_health_ins\"]\n",
    "group3 = df[df[\"quantile_MH\"] == 'Q3'][\"PS_lack_health_ins\"]\n",
    "group4 = df[df[\"quantile_MH\"] == 'Q4'][\"PS_lack_health_ins\"]\n",
    "\n",
    "# Perform the ANOVA\n",
    "stats.f_oneway(group1, group2, group3, group4)"
   ]
  },
  {
   "cell_type": "code",
   "execution_count": null,
   "metadata": {},
   "outputs": [],
   "source": [
    "tukey_results_PShi = pairwise_tukeyhsd(df_sorted['PS_lack_health_ins'], df_sorted['quantile_MH'], 0.05)\n",
    "print(tukey_results_PShi)"
   ]
  },
  {
   "cell_type": "code",
   "execution_count": null,
   "metadata": {},
   "outputs": [],
   "source": [
    "df.boxplot('PS_routine_checkups', by='quantile_MH', figsize=(20, 10))\n",
    "plt.title(\"Prevalence of Routine Check-ups\")\n",
    "plt.show()"
   ]
  },
  {
   "cell_type": "code",
   "execution_count": null,
   "metadata": {},
   "outputs": [],
   "source": [
    "# Extract individual groups\n",
    "group1 = df[df[\"quantile_MH\"] == 'Q1'][\"PS_routine_checkups\"]\n",
    "group2 = df[df[\"quantile_MH\"] == 'Q2'][\"PS_routine_checkups\"]\n",
    "group3 = df[df[\"quantile_MH\"] == 'Q3'][\"PS_routine_checkups\"]\n",
    "group4 = df[df[\"quantile_MH\"] == 'Q4'][\"PS_routine_checkups\"]\n",
    "\n",
    "# Perform the ANOVA\n",
    "stats.f_oneway(group1, group2, group3, group4)"
   ]
  },
  {
   "cell_type": "code",
   "execution_count": null,
   "metadata": {},
   "outputs": [],
   "source": [
    "tukey_results_PSrc = pairwise_tukeyhsd(df_sorted['PS_routine_checkups'], df_sorted['quantile_MH'], 0.05)\n",
    "print(tukey_results_PSrc)"
   ]
  },
  {
   "cell_type": "code",
   "execution_count": null,
   "metadata": {},
   "outputs": [],
   "source": [
    "df.boxplot('PS_dental_checkups', by='quantile_MH', figsize=(20, 10))\n",
    "plt.title(\"Prevalence of Dental Check-ups\")\n",
    "plt.show()"
   ]
  },
  {
   "cell_type": "code",
   "execution_count": null,
   "metadata": {},
   "outputs": [],
   "source": [
    "# Extract individual groups\n",
    "group1 = df[df[\"quantile_MH\"] == 'Q1'][\"PS_dental_checkups\"]\n",
    "group2 = df[df[\"quantile_MH\"] == 'Q2'][\"PS_dental_checkups\"]\n",
    "group3 = df[df[\"quantile_MH\"] == 'Q3'][\"PS_dental_checkups\"]\n",
    "group4 = df[df[\"quantile_MH\"] == 'Q4'][\"PS_dental_checkups\"]\n",
    "\n",
    "# Perform the ANOVA\n",
    "stats.f_oneway(group1, group2, group3, group4)"
   ]
  },
  {
   "cell_type": "code",
   "execution_count": null,
   "metadata": {},
   "outputs": [],
   "source": [
    "tukey_results_PSdc = pairwise_tukeyhsd(df_sorted['PS_dental_checkups'], df_sorted['quantile_MH'], 0.05)\n",
    "print(tukey_results_PSdc)"
   ]
  },
  {
   "cell_type": "markdown",
   "metadata": {},
   "source": [
    "## Exploring differences in demographic indicators by mental health (MH) bins"
   ]
  },
  {
   "cell_type": "code",
   "execution_count": null,
   "metadata": {},
   "outputs": [],
   "source": [
    "#df.columns"
   ]
  },
  {
   "cell_type": "code",
   "execution_count": null,
   "metadata": {},
   "outputs": [],
   "source": [
    "# City population size and prevalence of poor mental health\n",
    "\n",
    "# Scatter plot:\n",
    "plt.scatter(df['population_CNI'], df['HO_poor_mental_health'], marker='o', facecolors='blue',\n",
    "            edgecolors='black', alpha=0.5)\n",
    "plt.title(\"Mental Health vs City Population Size\")\n",
    "plt.xlabel(\"City Population Size\")\n",
    "plt.ylabel(\"Prevalence of Poor Mental Health\")\n",
    "# adding a trendline\n",
    "z = np.polyfit(df['population_CNI'], df['HO_poor_mental_health'], 1)\n",
    "p = np.poly1d(z)\n",
    "plt.plot(df['population_CNI'], p(df['population_CNI']), 'purple')\n",
    "#plt.show()\n",
    "\n",
    "# Box plot\n",
    "df.boxplot('population_CNI', by='quantile_MH', figsize=(20, 10))\n",
    "plt.title(\"Population Size by City\")\n",
    "#plt.show()\n",
    "\n",
    "# Perform the ANOVA\n",
    "group1 = df[df[\"quantile_MH\"] == 'Q1'][\"population_CNI\"]\n",
    "group2 = df[df[\"quantile_MH\"] == 'Q2'][\"population_CNI\"]\n",
    "group3 = df[df[\"quantile_MH\"] == 'Q3'][\"population_CNI\"]\n",
    "group4 = df[df[\"quantile_MH\"] == 'Q4'][\"population_CNI\"]\n",
    "print(stats.f_oneway(group1, group2, group3, group4))"
   ]
  },
  {
   "cell_type": "code",
   "execution_count": null,
   "metadata": {},
   "outputs": [],
   "source": [
    "# City population size (ages 18 to 64) and prevalence of poor mental health\n",
    "\n",
    "# Scatter plot:\n",
    "plt.scatter(df['age18to64'], df['HO_poor_mental_health'], marker='o', facecolors='blue',\n",
    "            edgecolors='black', alpha=0.5)\n",
    "plt.title(\"Mental Health vs City Population Size (ages 18 to 64)\")\n",
    "plt.xlabel(\"City Population Size (ages 18 to 64)\")\n",
    "plt.ylabel(\"Prevalence of Poor Mental Health\")\n",
    "# adding a trendline\n",
    "z = np.polyfit(df['age18to64'], df['HO_poor_mental_health'], 1)\n",
    "p = np.poly1d(z)\n",
    "plt.plot(df['age18to64'], p(df['age18to64']), 'purple')\n",
    "#plt.show()\n",
    "\n",
    "# Box plot\n",
    "df.boxplot('age18to64', by='quantile_MH', figsize=(20, 10))\n",
    "plt.title(\"City Population Size (ages 18 to 64 only)\")\n",
    "#plt.show()\n",
    "\n",
    "# Perform the ANOVA\n",
    "group1 = df[df[\"quantile_MH\"] == 'Q1'][\"age18to64\"]\n",
    "group2 = df[df[\"quantile_MH\"] == 'Q2'][\"age18to64\"]\n",
    "group3 = df[df[\"quantile_MH\"] == 'Q3'][\"age18to64\"]\n",
    "group4 = df[df[\"quantile_MH\"] == 'Q4'][\"age18to64\"]\n",
    "print(stats.f_oneway(group1, group2, group3, group4))\n",
    "\n",
    "# Perform Tukey's test\n",
    "tukey_results = pairwise_tukeyhsd(df_sorted['age18to64'], df_sorted['quantile_MH'], 0.05)\n",
    "print(tukey_results)"
   ]
  },
  {
   "cell_type": "code",
   "execution_count": null,
   "metadata": {},
   "outputs": [],
   "source": [
    "# % population between ages 18 and 24 and prevalence of poor mental health\n",
    "\n",
    "# Scatter plot:\n",
    "plt.scatter(df['percent_age18to24'], df['HO_poor_mental_health'], marker='o', facecolors='blue',\n",
    "            edgecolors='black', alpha=0.5)\n",
    "plt.title(\"% Population between ages 18 and 24 and prevalence of poor mental health\")\n",
    "plt.xlabel(\"% population between ages 18 and 24\")\n",
    "plt.ylabel(\"Prevalence of Poor Mental Health\")\n",
    "# adding a trendline\n",
    "z = np.polyfit(df['percent_age18to24'], df['HO_poor_mental_health'], 1)\n",
    "p = np.poly1d(z)\n",
    "plt.plot(df['percent_age18to24'], p(df['percent_age18to24']), 'purple')\n",
    "#plt.show()\n",
    "\n",
    "# Box plot\n",
    "df.boxplot('percent_age18to24', by='quantile_MH', figsize=(20, 10))\n",
    "plt.title(\"% population between ages 18 and 24\")\n",
    "#plt.show()\n",
    "\n",
    "# Perform the ANOVA\n",
    "group1 = df[df[\"quantile_MH\"] == 'Q1'][\"percent_age18to24\"]\n",
    "group2 = df[df[\"quantile_MH\"] == 'Q2'][\"percent_age18to24\"]\n",
    "group3 = df[df[\"quantile_MH\"] == 'Q3'][\"percent_age18to24\"]\n",
    "group4 = df[df[\"quantile_MH\"] == 'Q4'][\"percent_age18to24\"]\n",
    "print(stats.f_oneway(group1, group2, group3, group4))\n",
    "\n",
    "# Perform Tukey's test\n",
    "tukey_results = pairwise_tukeyhsd(df_sorted['percent_age18to24'], df_sorted['quantile_MH'], 0.05)\n",
    "print(tukey_results)"
   ]
  },
  {
   "cell_type": "code",
   "execution_count": null,
   "metadata": {},
   "outputs": [],
   "source": [
    "# % population between ages 25 and 34 and prevalence of poor mental health\n",
    "\n",
    "# Scatter plot:\n",
    "plt.scatter(df['percent_age25to34'], df['HO_poor_mental_health'], marker='o', facecolors='blue',\n",
    "            edgecolors='black', alpha=0.5)\n",
    "plt.title(\"% Population between ages 25 and 34 and prevalence of poor mental health\")\n",
    "plt.xlabel(\"% population between ages 25 and 34\")\n",
    "plt.ylabel(\"Prevalence of Poor Mental Health\")\n",
    "# adding a trendline\n",
    "z = np.polyfit(df['percent_age25to34'], df['HO_poor_mental_health'], 1)\n",
    "p = np.poly1d(z)\n",
    "plt.plot(df['percent_age25to34'], p(df['percent_age25to34']), 'purple')\n",
    "#plt.show()\n",
    "\n",
    "# Box plot\n",
    "df.boxplot('percent_age25to34', by='quantile_MH', figsize=(20, 10))\n",
    "plt.title(\"% population between ages 25 and 34\")\n",
    "#plt.show()\n",
    "\n",
    "# Perform the ANOVA\n",
    "group1 = df[df[\"quantile_MH\"] == 'Q1'][\"percent_age25to34\"]\n",
    "group2 = df[df[\"quantile_MH\"] == 'Q2'][\"percent_age25to34\"]\n",
    "group3 = df[df[\"quantile_MH\"] == 'Q3'][\"percent_age25to34\"]\n",
    "group4 = df[df[\"quantile_MH\"] == 'Q4'][\"percent_age25to34\"]\n",
    "print(stats.f_oneway(group1, group2, group3, group4))\n",
    "\n",
    "# Perform Tukey's test\n",
    "tukey_results = pairwise_tukeyhsd(df_sorted['percent_age25to34'], df_sorted['quantile_MH'], 0.05)\n",
    "print(tukey_results)"
   ]
  },
  {
   "cell_type": "code",
   "execution_count": null,
   "metadata": {},
   "outputs": [],
   "source": [
    "# % population between ages 35 and 44 and prevalence of poor mental health\n",
    "\n",
    "# Scatter plot:\n",
    "plt.scatter(df['percent_age35to44'], df['HO_poor_mental_health'], marker='o', facecolors='blue',\n",
    "            edgecolors='black', alpha=0.5)\n",
    "plt.title(\"% Population between ages 35 and 44 and prevalence of poor mental health\")\n",
    "plt.xlabel(\"% population between ages 35 and 44\")\n",
    "plt.ylabel(\"Prevalence of Poor Mental Health\")\n",
    "# adding a trendline\n",
    "z = np.polyfit(df['percent_age35to44'], df['HO_poor_mental_health'], 1)\n",
    "p = np.poly1d(z)\n",
    "plt.plot(df['percent_age35to44'], p(df['percent_age35to44']), 'purple')\n",
    "#plt.show()\n",
    "\n",
    "# Box plot\n",
    "df.boxplot('percent_age35to44', by='quantile_MH', figsize=(20, 10))\n",
    "plt.title(\"% population between ages 35 and 44\")\n",
    "#plt.show()\n",
    "\n",
    "# Perform the ANOVA\n",
    "group1 = df[df[\"quantile_MH\"] == 'Q1'][\"percent_age35to44\"]\n",
    "group2 = df[df[\"quantile_MH\"] == 'Q2'][\"percent_age35to44\"]\n",
    "group3 = df[df[\"quantile_MH\"] == 'Q3'][\"percent_age35to44\"]\n",
    "group4 = df[df[\"quantile_MH\"] == 'Q4'][\"percent_age35to44\"]\n",
    "print(stats.f_oneway(group1, group2, group3, group4))\n",
    "\n",
    "# Perform Tukey's test\n",
    "tukey_results = pairwise_tukeyhsd(df_sorted['percent_age35to44'], df_sorted['quantile_MH'], 0.05)\n",
    "print(tukey_results)"
   ]
  },
  {
   "cell_type": "code",
   "execution_count": null,
   "metadata": {},
   "outputs": [],
   "source": [
    "# % population between ages 45 and 54 and prevalence of poor mental health\n",
    "\n",
    "# Scatter plot:\n",
    "plt.scatter(df['percent_age45to54'], df['HO_poor_mental_health'], marker='o', facecolors='blue',\n",
    "            edgecolors='black', alpha=0.5)\n",
    "plt.title(\"% Population between ages 45 and 54 and prevalence of poor mental health\")\n",
    "plt.xlabel(\"% population between ages 45 and 54\")\n",
    "plt.ylabel(\"Prevalence of Poor Mental Health\")\n",
    "# adding a trendline\n",
    "z = np.polyfit(df['percent_age45to54'], df['HO_poor_mental_health'], 1)\n",
    "p = np.poly1d(z)\n",
    "plt.plot(df['percent_age45to54'], p(df['percent_age45to54']), 'purple')\n",
    "#plt.show()\n",
    "\n",
    "# Box plot\n",
    "df.boxplot('percent_age45to54', by='quantile_MH', figsize=(20, 10))\n",
    "plt.title(\"% population between ages 45 and 54\")\n",
    "#plt.show()\n",
    "\n",
    "# Perform the ANOVA\n",
    "group1 = df[df[\"quantile_MH\"] == 'Q1'][\"percent_age45to54\"]\n",
    "group2 = df[df[\"quantile_MH\"] == 'Q2'][\"percent_age45to54\"]\n",
    "group3 = df[df[\"quantile_MH\"] == 'Q3'][\"percent_age45to54\"]\n",
    "group4 = df[df[\"quantile_MH\"] == 'Q4'][\"percent_age45to54\"]\n",
    "print(stats.f_oneway(group1, group2, group3, group4))\n",
    "\n",
    "# Perform Tukey's test\n",
    "tukey_results = pairwise_tukeyhsd(df_sorted['percent_age45to54'], df_sorted['quantile_MH'], 0.05)\n",
    "print(tukey_results)"
   ]
  },
  {
   "cell_type": "code",
   "execution_count": null,
   "metadata": {},
   "outputs": [],
   "source": [
    "# % population between ages 55 and 64 and prevalence of poor mental health\n",
    "\n",
    "# Scatter plot:\n",
    "plt.scatter(df['percent_age55to64'], df['HO_poor_mental_health'], marker='o', facecolors='blue',\n",
    "            edgecolors='black', alpha=0.5)\n",
    "plt.title(\"% Population between ages 55 and 64 and prevalence of poor mental health\")\n",
    "plt.xlabel(\"% population between ages 55 and 64\")\n",
    "plt.ylabel(\"Prevalence of Poor Mental Health\")\n",
    "# adding a trendline\n",
    "z = np.polyfit(df['percent_age55to64'], df['HO_poor_mental_health'], 1)\n",
    "p = np.poly1d(z)\n",
    "plt.plot(df['percent_age55to64'], p(df['percent_age55to64']), 'purple')\n",
    "#plt.show()\n",
    "\n",
    "# Box plot\n",
    "df.boxplot('percent_age55to64', by='quantile_MH', figsize=(20, 10))\n",
    "plt.title(\"% population between ages 55 and 64\")\n",
    "#plt.show()\n",
    "\n",
    "# Perform the ANOVA\n",
    "group1 = df[df[\"quantile_MH\"] == 'Q1'][\"percent_age55to64\"]\n",
    "group2 = df[df[\"quantile_MH\"] == 'Q2'][\"percent_age55to64\"]\n",
    "group3 = df[df[\"quantile_MH\"] == 'Q3'][\"percent_age55to64\"]\n",
    "group4 = df[df[\"quantile_MH\"] == 'Q4'][\"percent_age55to64\"]\n",
    "print(stats.f_oneway(group1, group2, group3, group4))\n",
    "\n",
    "# Perform Tukey's test\n",
    "tukey_results = pairwise_tukeyhsd(df_sorted['percent_age55to64'], df_sorted['quantile_MH'], 0.05)\n",
    "print(tukey_results)"
   ]
  },
  {
   "cell_type": "code",
   "execution_count": null,
   "metadata": {},
   "outputs": [],
   "source": [
    "# % male and prevalence of poor mental health\n",
    "\n",
    "# Scatter plot:\n",
    "plt.scatter(df['percent_male'], df['HO_poor_mental_health'], marker='o', facecolors='blue',\n",
    "            edgecolors='black', alpha=0.5)\n",
    "plt.title(\"% male in population and prevalence of poor mental health\")\n",
    "plt.xlabel(\"% male\")\n",
    "plt.ylabel(\"Prevalence of Poor Mental Health\")\n",
    "# adding a trendline\n",
    "z = np.polyfit(df['percent_male'], df['HO_poor_mental_health'], 1)\n",
    "p = np.poly1d(z)\n",
    "plt.plot(df['percent_male'], p(df['percent_male']), 'purple')\n",
    "#plt.show()\n",
    "\n",
    "# Box plot\n",
    "df.boxplot('percent_male', by='quantile_MH', figsize=(20, 10))\n",
    "plt.title(\"% male in population\")\n",
    "#plt.show()\n",
    "\n",
    "# Perform the ANOVA\n",
    "group1 = df[df[\"quantile_MH\"] == 'Q1'][\"percent_male\"]\n",
    "group2 = df[df[\"quantile_MH\"] == 'Q2'][\"percent_male\"]\n",
    "group3 = df[df[\"quantile_MH\"] == 'Q3'][\"percent_male\"]\n",
    "group4 = df[df[\"quantile_MH\"] == 'Q4'][\"percent_male\"]\n",
    "print(stats.f_oneway(group1, group2, group3, group4))\n",
    "\n",
    "# Perform Tukey's test\n",
    "tukey_results = pairwise_tukeyhsd(df_sorted['percent_male'], df_sorted['quantile_MH'], 0.05)\n",
    "print(tukey_results)"
   ]
  },
  {
   "cell_type": "code",
   "execution_count": null,
   "metadata": {},
   "outputs": [],
   "source": [
    "# % female and prevalence of poor mental health\n",
    "\n",
    "# Scatter plot:\n",
    "plt.scatter(df['percent_female'], df['HO_poor_mental_health'], marker='o', facecolors='blue',\n",
    "            edgecolors='black', alpha=0.5)\n",
    "plt.title(\"% female in population and prevalence of poor mental health\")\n",
    "plt.xlabel(\"% female\")\n",
    "plt.ylabel(\"Prevalence of Poor Mental Health\")\n",
    "# adding a trendline\n",
    "z = np.polyfit(df['percent_female'], df['HO_poor_mental_health'], 1)\n",
    "p = np.poly1d(z)\n",
    "plt.plot(df['percent_female'], p(df['percent_female']), 'purple')\n",
    "#plt.show()\n",
    "\n",
    "# Box plot\n",
    "df.boxplot('percent_female', by='quantile_MH', figsize=(20, 10))\n",
    "plt.title(\"% female in population\")\n",
    "#plt.show()\n",
    "\n",
    "# Perform the ANOVA\n",
    "group1 = df[df[\"quantile_MH\"] == 'Q1'][\"percent_female\"]\n",
    "group2 = df[df[\"quantile_MH\"] == 'Q2'][\"percent_female\"]\n",
    "group3 = df[df[\"quantile_MH\"] == 'Q3'][\"percent_female\"]\n",
    "group4 = df[df[\"quantile_MH\"] == 'Q4'][\"percent_female\"]\n",
    "print(stats.f_oneway(group1, group2, group3, group4))\n",
    "\n",
    "# Perform Tukey's test\n",
    "tukey_results = pairwise_tukeyhsd(df_sorted['percent_female'], df_sorted['quantile_MH'], 0.05)\n",
    "print(tukey_results)"
   ]
  },
  {
   "cell_type": "code",
   "execution_count": null,
   "metadata": {},
   "outputs": [],
   "source": [
    "# % disability in population and prevalence of poor mental health\n",
    "\n",
    "# Scatter plot:\n",
    "plt.scatter(df['percent_disability'], df['HO_poor_mental_health'], marker='o', facecolors='blue',\n",
    "            edgecolors='black', alpha=0.5)\n",
    "plt.title(\"% disability in population and prevalence of poor mental health\")\n",
    "plt.xlabel(\"% disability in population\")\n",
    "plt.ylabel(\"Prevalence of Poor Mental Health\")\n",
    "# adding a trendline\n",
    "z = np.polyfit(df['percent_disability'], df['HO_poor_mental_health'], 1)\n",
    "p = np.poly1d(z)\n",
    "plt.plot(df['percent_disability'], p(df['percent_disability']), 'purple')\n",
    "#plt.show()\n",
    "\n",
    "# Box plot\n",
    "df.boxplot('percent_disability', by='quantile_MH', figsize=(20, 10))\n",
    "plt.title(\"% disability in population\")\n",
    "#plt.show()\n",
    "\n",
    "# Perform the ANOVA\n",
    "group1 = df[df[\"quantile_MH\"] == 'Q1'][\"percent_disability\"]\n",
    "group2 = df[df[\"quantile_MH\"] == 'Q2'][\"percent_disability\"]\n",
    "group3 = df[df[\"quantile_MH\"] == 'Q3'][\"percent_disability\"]\n",
    "group4 = df[df[\"quantile_MH\"] == 'Q4'][\"percent_disability\"]\n",
    "print(stats.f_oneway(group1, group2, group3, group4))\n",
    "\n",
    "# Perform Tukey's test\n",
    "tukey_results = pairwise_tukeyhsd(df_sorted['percent_disability'], df_sorted['quantile_MH'], 0.05)\n",
    "print(tukey_results)"
   ]
  },
  {
   "cell_type": "code",
   "execution_count": null,
   "metadata": {},
   "outputs": [],
   "source": [
    "df.columns"
   ]
  },
  {
   "cell_type": "code",
   "execution_count": null,
   "metadata": {},
   "outputs": [],
   "source": [
    "# Educational attainment (less than a high school degree) and prevalence of poor mental health\n",
    "\n",
    "# Scatter plot:\n",
    "plt.scatter(df['percent_lessThanHS'], df['HO_poor_mental_health'], marker='o', facecolors='blue',\n",
    "            edgecolors='black', alpha=0.5)\n",
    "plt.title(\"% population with less than a high school degree and prevalence of poor mental health\")\n",
    "plt.xlabel(\"% population with less than a high school degreen\")\n",
    "plt.ylabel(\"Prevalence of Poor Mental Health\")\n",
    "# adding a trendline\n",
    "z = np.polyfit(df['percent_lessThanHS'], df['HO_poor_mental_health'], 1)\n",
    "p = np.poly1d(z)\n",
    "plt.plot(df['percent_lessThanHS'], p(df['percent_lessThanHS']), 'purple')\n",
    "#plt.show()\n",
    "\n",
    "# Box plot\n",
    "df.boxplot('percent_lessThanHS', by='quantile_MH', figsize=(20, 10))\n",
    "plt.title(\"% population with less than a high school degree\")\n",
    "#plt.show()\n",
    "\n",
    "# Perform the ANOVA\n",
    "group1 = df[df[\"quantile_MH\"] == 'Q1'][\"percent_lessThanHS\"]\n",
    "group2 = df[df[\"quantile_MH\"] == 'Q2'][\"percent_lessThanHS\"]\n",
    "group3 = df[df[\"quantile_MH\"] == 'Q3'][\"percent_lessThanHS\"]\n",
    "group4 = df[df[\"quantile_MH\"] == 'Q4'][\"percent_lessThanHS\"]\n",
    "print(stats.f_oneway(group1, group2, group3, group4))\n",
    "\n",
    "# Perform Tukey's test\n",
    "tukey_results = pairwise_tukeyhsd(df_sorted['percent_lessThanHS'], df_sorted['quantile_MH'], 0.05)\n",
    "print(tukey_results)"
   ]
  },
  {
   "cell_type": "code",
   "execution_count": null,
   "metadata": {},
   "outputs": [],
   "source": [
    "# Educational attainment (high school degree) and prevalence of poor mental health\n",
    "\n",
    "# Scatter plot:\n",
    "plt.scatter(df['percent_HS'], df['HO_poor_mental_health'], marker='o', facecolors='blue',\n",
    "            edgecolors='black', alpha=0.5)\n",
    "plt.title(\"% population with a high school degree and prevalence of poor mental health\")\n",
    "plt.xlabel(\"% population with a high school degree\")\n",
    "plt.ylabel(\"Prevalence of Poor Mental Health\")\n",
    "# adding a trendline\n",
    "z = np.polyfit(df['percent_HS'], df['HO_poor_mental_health'], 1)\n",
    "p = np.poly1d(z)\n",
    "plt.plot(df['percent_HS'], p(df['percent_HS']), 'purple')\n",
    "#plt.show()\n",
    "\n",
    "# Box plot\n",
    "df.boxplot('percent_HS', by='quantile_MH', figsize=(20, 10))\n",
    "plt.title(\"% population with a high school degree\")\n",
    "#plt.show()\n",
    "\n",
    "# Perform the ANOVA\n",
    "group1 = df[df[\"quantile_MH\"] == 'Q1'][\"percent_HS\"]\n",
    "group2 = df[df[\"quantile_MH\"] == 'Q2'][\"percent_HS\"]\n",
    "group3 = df[df[\"quantile_MH\"] == 'Q3'][\"percent_HS\"]\n",
    "group4 = df[df[\"quantile_MH\"] == 'Q4'][\"percent_HS\"]\n",
    "print(stats.f_oneway(group1, group2, group3, group4))\n",
    "\n",
    "# Perform Tukey's test\n",
    "tukey_results = pairwise_tukeyhsd(df_sorted['percent_HS'], df_sorted['quantile_MH'], 0.05)\n",
    "print(tukey_results)"
   ]
  },
  {
   "cell_type": "code",
   "execution_count": null,
   "metadata": {},
   "outputs": [],
   "source": [
    "# Educational attainment (some college or associate's degree) and prevalence of poor mental health\n",
    "\n",
    "# Scatter plot:\n",
    "plt.scatter(df['percent_someCollege'], df['HO_poor_mental_health'], marker='o', facecolors='blue',\n",
    "            edgecolors='black', alpha=0.5)\n",
    "plt.title(\"% population with some college or associate's degree and prevalence of poor mental health\")\n",
    "plt.xlabel(\"% population with some college or associate's degree\")\n",
    "plt.ylabel(\"Prevalence of Poor Mental Health\")\n",
    "# adding a trendline\n",
    "z = np.polyfit(df['percent_someCollege'], df['HO_poor_mental_health'], 1)\n",
    "p = np.poly1d(z)\n",
    "plt.plot(df['percent_someCollege'], p(df['percent_someCollege']), 'purple')\n",
    "#plt.show()\n",
    "\n",
    "# Box plot\n",
    "df.boxplot('percent_someCollege', by='quantile_MH', figsize=(20, 10))\n",
    "plt.title(\"% population with some college or associate's degree\")\n",
    "#plt.show()\n",
    "\n",
    "# Perform the ANOVA\n",
    "group1 = df[df[\"quantile_MH\"] == 'Q1'][\"percent_someCollege\"]\n",
    "group2 = df[df[\"quantile_MH\"] == 'Q2'][\"percent_someCollege\"]\n",
    "group3 = df[df[\"quantile_MH\"] == 'Q3'][\"percent_someCollege\"]\n",
    "group4 = df[df[\"quantile_MH\"] == 'Q4'][\"percent_someCollege\"]\n",
    "print(stats.f_oneway(group1, group2, group3, group4))\n",
    "\n",
    "# Perform Tukey's test\n",
    "tukey_results = pairwise_tukeyhsd(df_sorted['percent_someCollege'], df_sorted['quantile_MH'], 0.05)\n",
    "print(tukey_results)"
   ]
  },
  {
   "cell_type": "code",
   "execution_count": null,
   "metadata": {},
   "outputs": [],
   "source": [
    "# Educational attainment (Bachelor's degree or higher) and prevalence of poor mental health\n",
    "\n",
    "# Scatter plot:\n",
    "plt.scatter(df['percent_college'], df['HO_poor_mental_health'], marker='o', facecolors='blue',\n",
    "            edgecolors='black', alpha=0.5)\n",
    "plt.title(\"% population with a Bachelor's degree or higher and prevalence of poor mental health\")\n",
    "plt.xlabel(\"% population with a Bachelor's degree or higher\")\n",
    "plt.ylabel(\"Prevalence of Poor Mental Health\")\n",
    "# adding a trendline\n",
    "z = np.polyfit(df['percent_college'], df['HO_poor_mental_health'], 1)\n",
    "p = np.poly1d(z)\n",
    "plt.plot(df['percent_college'], p(df['percent_college']), 'purple')\n",
    "#plt.show()\n",
    "\n",
    "# Box plot\n",
    "df.boxplot('percent_college', by='quantile_MH', figsize=(20, 10))\n",
    "plt.title(\"% population with a Bachelor's degree or higher\")\n",
    "#plt.show()\n",
    "\n",
    "# Perform the ANOVA\n",
    "group1 = df[df[\"quantile_MH\"] == 'Q1'][\"percent_college\"]\n",
    "group2 = df[df[\"quantile_MH\"] == 'Q2'][\"percent_college\"]\n",
    "group3 = df[df[\"quantile_MH\"] == 'Q3'][\"percent_college\"]\n",
    "group4 = df[df[\"quantile_MH\"] == 'Q4'][\"percent_college\"]\n",
    "print(stats.f_oneway(group1, group2, group3, group4))\n",
    "\n",
    "# Perform Tukey's test\n",
    "tukey_results = pairwise_tukeyhsd(df_sorted['percent_college'], df_sorted['quantile_MH'], 0.05)\n",
    "print(tukey_results)"
   ]
  },
  {
   "cell_type": "code",
   "execution_count": null,
   "metadata": {},
   "outputs": [],
   "source": [
    "# Household income (under $25,000) and prevalence of poor mental health\n",
    "\n",
    "# Scatter plot:\n",
    "plt.scatter(df['percent_hIncome_under$25K'], df['HO_poor_mental_health'], marker='o', facecolors='blue',\n",
    "            edgecolors='black', alpha=0.5)\n",
    "plt.title(\"% population with household income under $25,000 and prevalence of poor mental health\")\n",
    "plt.xlabel(\"% population with household income under $25,000\")\n",
    "plt.ylabel(\"Prevalence of Poor Mental Health\")\n",
    "# adding a trendline\n",
    "z = np.polyfit(df['percent_hIncome_under$25K'], df['HO_poor_mental_health'], 1)\n",
    "p = np.poly1d(z)\n",
    "plt.plot(df['percent_hIncome_under$25K'], p(df['percent_hIncome_under$25K']), 'purple')\n",
    "#plt.show()\n",
    "\n",
    "# Box plot\n",
    "df.boxplot('percent_hIncome_under$25K', by='quantile_MH', figsize=(20, 10))\n",
    "plt.title(\"% population with household income under $25,000\")\n",
    "#plt.show()\n",
    "\n",
    "# Perform the ANOVA\n",
    "group1 = df[df[\"quantile_MH\"] == 'Q1'][\"percent_hIncome_under$25K\"]\n",
    "group2 = df[df[\"quantile_MH\"] == 'Q2'][\"percent_hIncome_under$25K\"]\n",
    "group3 = df[df[\"quantile_MH\"] == 'Q3'][\"percent_hIncome_under$25K\"]\n",
    "group4 = df[df[\"quantile_MH\"] == 'Q4'][\"percent_hIncome_under$25K\"]\n",
    "print(stats.f_oneway(group1, group2, group3, group4))\n",
    "\n",
    "# Perform Tukey's test\n",
    "tukey_results = pairwise_tukeyhsd(df_sorted['percent_hIncome_under$25K'], df_sorted['quantile_MH'], 0.05)\n",
    "print(tukey_results)"
   ]
  },
  {
   "cell_type": "code",
   "execution_count": null,
   "metadata": {},
   "outputs": [],
   "source": [
    "# Household income ($25,000-$49,999) and prevalence of poor mental health\n",
    "\n",
    "# Scatter plot:\n",
    "plt.scatter(df['percent_hIncome_$25to49K'], df['HO_poor_mental_health'], marker='o', facecolors='blue',\n",
    "            edgecolors='black', alpha=0.5)\n",
    "plt.title(\"% population with household income between $25,000 and $49,999 and prevalence of poor mental health\")\n",
    "plt.xlabel(\"% population with household income between $25,000 and $49,999\")\n",
    "plt.ylabel(\"Prevalence of Poor Mental Health\")\n",
    "# adding a trendline\n",
    "z = np.polyfit(df['percent_hIncome_$25to49K'], df['HO_poor_mental_health'], 1)\n",
    "p = np.poly1d(z)\n",
    "plt.plot(df['percent_hIncome_$25to49K'], p(df['percent_hIncome_$25to49K']), 'purple')\n",
    "#plt.show()\n",
    "\n",
    "# Box plot\n",
    "df.boxplot('percent_hIncome_$25to49K', by='quantile_MH', figsize=(20, 10))\n",
    "plt.title(\"% population with household income between $25,000 and $49,999\")\n",
    "#plt.show()\n",
    "\n",
    "# Perform the ANOVA\n",
    "group1 = df[df[\"quantile_MH\"] == 'Q1'][\"percent_hIncome_$25to49K\"]\n",
    "group2 = df[df[\"quantile_MH\"] == 'Q2'][\"percent_hIncome_$25to49K\"]\n",
    "group3 = df[df[\"quantile_MH\"] == 'Q3'][\"percent_hIncome_$25to49K\"]\n",
    "group4 = df[df[\"quantile_MH\"] == 'Q4'][\"percent_hIncome_$25to49K\"]\n",
    "print(stats.f_oneway(group1, group2, group3, group4))\n",
    "\n",
    "# Perform Tukey's test\n",
    "tukey_results = pairwise_tukeyhsd(df_sorted['percent_hIncome_$25to49K'], df_sorted['quantile_MH'], 0.05)\n",
    "print(tukey_results)"
   ]
  },
  {
   "cell_type": "code",
   "execution_count": null,
   "metadata": {},
   "outputs": [],
   "source": [
    "# Household income ($50,000-$74,999) and prevalence of poor mental health\n",
    "\n",
    "# Scatter plot:\n",
    "plt.scatter(df['percent_hIncome_$50to74K'], df['HO_poor_mental_health'], marker='o', facecolors='blue',\n",
    "            edgecolors='black', alpha=0.5)\n",
    "plt.title(\"% population with household income between $50,000 and $74,999 and prevalence of poor mental health\")\n",
    "plt.xlabel(\"% population with household income between $50,000 and $74,999\")\n",
    "plt.ylabel(\"Prevalence of Poor Mental Health\")\n",
    "# adding a trendline\n",
    "z = np.polyfit(df['percent_hIncome_$50to74K'], df['HO_poor_mental_health'], 1)\n",
    "p = np.poly1d(z)\n",
    "plt.plot(df['percent_hIncome_$50to74K'], p(df['percent_hIncome_$50to74K']), 'purple')\n",
    "#plt.show()\n",
    "\n",
    "# Box plot\n",
    "df.boxplot('percent_hIncome_$50to74K', by='quantile_MH', figsize=(20, 10))\n",
    "plt.title(\"% population with household income between $50,000 and $74,999\")\n",
    "#plt.show()\n",
    "\n",
    "# Perform the ANOVA\n",
    "group1 = df[df[\"quantile_MH\"] == 'Q1'][\"percent_hIncome_$50to74K\"]\n",
    "group2 = df[df[\"quantile_MH\"] == 'Q2'][\"percent_hIncome_$50to74K\"]\n",
    "group3 = df[df[\"quantile_MH\"] == 'Q3'][\"percent_hIncome_$50to74K\"]\n",
    "group4 = df[df[\"quantile_MH\"] == 'Q4'][\"percent_hIncome_$50to74K\"]\n",
    "print(stats.f_oneway(group1, group2, group3, group4))\n",
    "\n",
    "# Perform Tukey's test\n",
    "tukey_results = pairwise_tukeyhsd(df_sorted['percent_hIncome_$50to74K'], df_sorted['quantile_MH'], 0.05)\n",
    "print(tukey_results)"
   ]
  },
  {
   "cell_type": "code",
   "execution_count": null,
   "metadata": {},
   "outputs": [],
   "source": [
    "# Household income ($75,000-$99,999) and prevalence of poor mental health\n",
    "\n",
    "# Scatter plot:\n",
    "plt.scatter(df['percent_hIncome_$75to99K'], df['HO_poor_mental_health'], marker='o', facecolors='blue',\n",
    "            edgecolors='black', alpha=0.5)\n",
    "plt.title(\"% population with household income between $75,000 and $99,999 and prevalence of poor mental health\")\n",
    "plt.xlabel(\"% population with household income between $75,000 and $99,999\")\n",
    "plt.ylabel(\"Prevalence of Poor Mental Health\")\n",
    "# adding a trendline\n",
    "z = np.polyfit(df['percent_hIncome_$75to99K'], df['HO_poor_mental_health'], 1)\n",
    "p = np.poly1d(z)\n",
    "plt.plot(df['percent_hIncome_$75to99K'], p(df['percent_hIncome_$75to99K']), 'purple')\n",
    "#plt.show()\n",
    "\n",
    "# Box plot\n",
    "df.boxplot('percent_hIncome_$75to99K', by='quantile_MH', figsize=(20, 10))\n",
    "plt.title(\"% population with household income between $75,000 and $99,999\")\n",
    "#plt.show()\n",
    "\n",
    "# Perform the ANOVA\n",
    "group1 = df[df[\"quantile_MH\"] == 'Q1'][\"percent_hIncome_$75to99K\"]\n",
    "group2 = df[df[\"quantile_MH\"] == 'Q2'][\"percent_hIncome_$75to99K\"]\n",
    "group3 = df[df[\"quantile_MH\"] == 'Q3'][\"percent_hIncome_$75to99K\"]\n",
    "group4 = df[df[\"quantile_MH\"] == 'Q4'][\"percent_hIncome_$75to99K\"]\n",
    "print(stats.f_oneway(group1, group2, group3, group4))\n",
    "\n",
    "# Perform Tukey's test\n",
    "tukey_results = pairwise_tukeyhsd(df_sorted['percent_hIncome_$75to99K'], df_sorted['quantile_MH'], 0.05)\n",
    "print(tukey_results)"
   ]
  },
  {
   "cell_type": "code",
   "execution_count": null,
   "metadata": {},
   "outputs": [],
   "source": [
    "# Household income (over $99,999) and prevalence of poor mental health\n",
    "\n",
    "# Scatter plot:\n",
    "plt.scatter(df['percent_hIncome_over$99K'], df['HO_poor_mental_health'], marker='o', facecolors='blue',\n",
    "            edgecolors='black', alpha=0.5)\n",
    "plt.title(\"% population with household income over $99,999 and prevalence of poor mental health\")\n",
    "plt.xlabel(\"% population with household income over $99,999\")\n",
    "plt.ylabel(\"Prevalence of Poor Mental Health\")\n",
    "# adding a trendline\n",
    "z = np.polyfit(df['percent_hIncome_over$99K'], df['HO_poor_mental_health'], 1)\n",
    "p = np.poly1d(z)\n",
    "plt.plot(df['percent_hIncome_over$99K'], p(df['percent_hIncome_over$99K']), 'purple')\n",
    "#plt.show()\n",
    "\n",
    "# Box plot\n",
    "df.boxplot('percent_hIncome_over$99K', by='quantile_MH', figsize=(20, 10))\n",
    "plt.title(\"% population with household income over $99,999\")\n",
    "#plt.show()\n",
    "\n",
    "# Perform the ANOVA\n",
    "group1 = df[df[\"quantile_MH\"] == 'Q1'][\"percent_hIncome_over$99K\"]\n",
    "group2 = df[df[\"quantile_MH\"] == 'Q2'][\"percent_hIncome_over$99K\"]\n",
    "group3 = df[df[\"quantile_MH\"] == 'Q3'][\"percent_hIncome_over$99K\"]\n",
    "group4 = df[df[\"quantile_MH\"] == 'Q4'][\"percent_hIncome_over$99K\"]\n",
    "print(stats.f_oneway(group1, group2, group3, group4))\n",
    "\n",
    "# Perform Tukey's test\n",
    "tukey_results = pairwise_tukeyhsd(df_sorted['percent_hIncome_over$99K'], df_sorted['quantile_MH'], 0.05)\n",
    "print(tukey_results)"
   ]
  },
  {
   "cell_type": "markdown",
   "metadata": {},
   "source": [
    "# Exploring with multiple regressions analysis"
   ]
  },
  {
   "cell_type": "markdown",
   "metadata": {},
   "source": [
    "## MODEL MH_1 : with most independent variables (R-squared = 0.9)"
   ]
  },
  {
   "cell_type": "code",
   "execution_count": 14,
   "metadata": {},
   "outputs": [],
   "source": [
    "# Create DataFrame x to hold our independent variables\n",
    "x = df[['UB_binge_drinking', 'UB_current_smoking', 'UB_lack_physical_activity',\n",
    "       'UB_obesity', 'UB_less_sleep',\n",
    "       'PS_routine_checkups', 'PS_dental_checkups', 'PS_older_men_uptodate',\n",
    "       'PS_older_women_uptodate', 'population_CNI', 'age18to64',\n",
    "       'percent_age18to24', 'percent_age25to34', 'percent_age35to44',\n",
    "       'percent_age45to54', 'percent_age55to64', 'percent_male',\n",
    "       'percent_female',\n",
    "       'percent_disability', 'percent_lessThanHS', 'percent_HS',\n",
    "       'percent_someCollege', 'percent_college', 'percent_hIncome_under$25K',\n",
    "       'percent_hIncome_$25to49K', 'percent_hIncome_$50to74K',\n",
    "       'percent_hIncome_$75to99K', 'percent_hIncome_over$99K',\n",
    "       'age18to64_%insured']]"
   ]
  },
  {
   "cell_type": "markdown",
   "metadata": {},
   "source": [
    "## MODEL MH_2 : with 5 UB and 5 PS health indicators (R-squared = 0.85)"
   ]
  },
  {
   "cell_type": "code",
   "execution_count": 20,
   "metadata": {},
   "outputs": [],
   "source": [
    "# Create DataFrame x to hold our independent variables\n",
    "x = df[['UB_binge_drinking', 'UB_current_smoking', 'UB_lack_physical_activity',\n",
    "       'UB_obesity', 'UB_less_sleep', 'PS_lack_health_ins',\n",
    "       'PS_routine_checkups', 'PS_dental_checkups', 'PS_older_men_uptodate',\n",
    "       'PS_older_women_uptodate']]"
   ]
  },
  {
   "cell_type": "markdown",
   "metadata": {},
   "source": [
    "## MODEL MH_3 : with 5 UB and 3 PS health indicators (R-squared = 0.84)"
   ]
  },
  {
   "cell_type": "code",
   "execution_count": 24,
   "metadata": {},
   "outputs": [],
   "source": [
    "# Create DataFrame x to hold our independent variables\n",
    "x = df[['UB_binge_drinking', 'UB_current_smoking', 'UB_lack_physical_activity',\n",
    "       'UB_obesity', 'UB_less_sleep', 'PS_lack_health_ins',\n",
    "       'PS_routine_checkups', 'PS_dental_checkups']]"
   ]
  },
  {
   "cell_type": "markdown",
   "metadata": {},
   "source": [
    "## MODEL MH_4 : with 3 UB and 2 PS health indicators (R-squared = 0.84)"
   ]
  },
  {
   "cell_type": "code",
   "execution_count": 29,
   "metadata": {},
   "outputs": [],
   "source": [
    "# Create DataFrame x to hold our independent variables\n",
    "x = df[['UB_binge_drinking', 'UB_current_smoking', 'UB_less_sleep',\n",
    "        'PS_routine_checkups', 'PS_dental_checkups']]"
   ]
  },
  {
   "cell_type": "markdown",
   "metadata": {},
   "source": [
    "## MODEL MH_5 : with UB_current_smoking and UB_less_sleep only (R-squared = 0.74)"
   ]
  },
  {
   "cell_type": "code",
   "execution_count": 33,
   "metadata": {},
   "outputs": [],
   "source": [
    "# Create DataFrame x to hold our independent variables\n",
    "x = df[['UB_current_smoking', 'UB_less_sleep']]"
   ]
  },
  {
   "cell_type": "markdown",
   "metadata": {},
   "source": [
    "## MODEL MH_6 : with most demographic variables (R-squared = 0.83)"
   ]
  },
  {
   "cell_type": "code",
   "execution_count": 45,
   "metadata": {},
   "outputs": [],
   "source": [
    "# Create DataFrame x to hold our independent variables\n",
    "x = df[[\n",
    "       'percent_age18to24', 'percent_age25to34', 'percent_age35to44',\n",
    "       'percent_age45to54', 'percent_age55to64', 'percent_male',\n",
    "       'percent_female',\n",
    "       'percent_disability', 'percent_lessThanHS', 'percent_HS',\n",
    "       'percent_someCollege', 'percent_college', 'percent_hIncome_under$25K',\n",
    "       'percent_hIncome_$25to49K', 'percent_hIncome_$50to74K',\n",
    "       'percent_hIncome_$75to99K', 'percent_hIncome_over$99K',\n",
    "       'age18to64_%insured']]"
   ]
  },
  {
   "cell_type": "markdown",
   "metadata": {},
   "source": [
    "## MODEL MH_7 : purged from model MH_6 (R-squared = 0.82)"
   ]
  },
  {
   "cell_type": "code",
   "execution_count": 57,
   "metadata": {},
   "outputs": [],
   "source": [
    "# Create DataFrame x to hold our independent variables\n",
    "x = df[[\n",
    "       'percent_age18to24', 'percent_age35to44',\n",
    "       'percent_disability', 'percent_lessThanHS', 'percent_HS',\n",
    "       'percent_college', 'percent_hIncome_under$25K',\n",
    "       'percent_hIncome_over$99K',\n",
    "       'age18to64_%insured']]"
   ]
  },
  {
   "cell_type": "markdown",
   "metadata": {},
   "source": [
    "## MODEL MH_8 : combining models MH_5 and MH_7 (R-squared = 0.89)\n",
    "#### ALL INDEPENDENT VARIABLES IN THIS MODEL ARE STATISTICALLY SIGNIFICANT"
   ]
  },
  {
   "cell_type": "code",
   "execution_count": 61,
   "metadata": {},
   "outputs": [],
   "source": [
    "# Create DataFrame x to hold our independent variables\n",
    "x = df[['UB_current_smoking', 'UB_less_sleep',\n",
    "       'percent_age18to24', 'percent_age35to44',\n",
    "       'percent_disability', 'percent_lessThanHS', 'percent_HS',\n",
    "       'percent_college', 'percent_hIncome_under$25K',\n",
    "       'percent_hIncome_over$99K',\n",
    "       'age18to64_%insured']]"
   ]
  },
  {
   "cell_type": "markdown",
   "metadata": {},
   "source": [
    "## MODEL PH_1 : with most independent variables (R-squared = 0.93)"
   ]
  },
  {
   "cell_type": "code",
   "execution_count": 65,
   "metadata": {},
   "outputs": [],
   "source": [
    "# Create DataFrame x to hold our independent variables\n",
    "x = df[['UB_binge_drinking', 'UB_current_smoking', 'UB_lack_physical_activity',\n",
    "       'UB_obesity', 'UB_less_sleep',\n",
    "       'PS_routine_checkups', 'PS_dental_checkups', 'PS_older_men_uptodate',\n",
    "       'PS_older_women_uptodate', 'population_CNI', 'age18to64',\n",
    "       'percent_age18to24', 'percent_age25to34', 'percent_age35to44',\n",
    "       'percent_age45to54', 'percent_age55to64', 'percent_male',\n",
    "       'percent_female',\n",
    "       'percent_disability', 'percent_lessThanHS', 'percent_HS',\n",
    "       'percent_someCollege', 'percent_college', 'percent_hIncome_under$25K',\n",
    "       'percent_hIncome_$25to49K', 'percent_hIncome_$50to74K',\n",
    "       'percent_hIncome_$75to99K', 'percent_hIncome_over$99K',\n",
    "       'age18to64_%insured']]"
   ]
  },
  {
   "cell_type": "markdown",
   "metadata": {},
   "source": [
    "## MODEL PH_2 : with 5 UB and 5 PS health indicators (R-squared = 0.86)"
   ]
  },
  {
   "cell_type": "code",
   "execution_count": 69,
   "metadata": {},
   "outputs": [],
   "source": [
    "# Create DataFrame x to hold our independent variables\n",
    "x = df[['UB_binge_drinking', 'UB_current_smoking', 'UB_lack_physical_activity',\n",
    "       'UB_obesity', 'UB_less_sleep', 'PS_lack_health_ins',\n",
    "       'PS_routine_checkups', 'PS_dental_checkups', 'PS_older_men_uptodate',\n",
    "       'PS_older_women_uptodate']]"
   ]
  },
  {
   "cell_type": "markdown",
   "metadata": {},
   "source": [
    "## MODEL PH_3 : with 4 UB and 3 PS health indicators (R-squared = 0.86)"
   ]
  },
  {
   "cell_type": "code",
   "execution_count": 73,
   "metadata": {},
   "outputs": [],
   "source": [
    "# Create DataFrame x to hold our independent variables\n",
    "x = df[['UB_binge_drinking', 'UB_current_smoking', 'UB_lack_physical_activity',\n",
    "        'UB_less_sleep', 'PS_lack_health_ins',\n",
    "       'PS_routine_checkups', 'PS_dental_checkups']]"
   ]
  },
  {
   "cell_type": "markdown",
   "metadata": {},
   "source": [
    "## MODEL PH_4 : with most demographic variables (R-squared = 0.89)"
   ]
  },
  {
   "cell_type": "code",
   "execution_count": 77,
   "metadata": {},
   "outputs": [],
   "source": [
    "# Create DataFrame x to hold our independent variables\n",
    "x = df[[\n",
    "       'percent_age18to24', 'percent_age25to34', 'percent_age35to44',\n",
    "       'percent_age45to54', 'percent_age55to64', 'percent_male',\n",
    "       'percent_female',\n",
    "       'percent_disability', 'percent_lessThanHS', 'percent_HS',\n",
    "       'percent_someCollege', 'percent_college', 'percent_hIncome_under$25K',\n",
    "       'percent_hIncome_$25to49K', 'percent_hIncome_$50to74K',\n",
    "       'percent_hIncome_$75to99K', 'percent_hIncome_over$99K',\n",
    "       'age18to64_%insured']]"
   ]
  },
  {
   "cell_type": "markdown",
   "metadata": {},
   "source": [
    "## MODEL PH_5 : purged from model PH_4 (R-squared = 0.89)"
   ]
  },
  {
   "cell_type": "code",
   "execution_count": 97,
   "metadata": {},
   "outputs": [],
   "source": [
    "# Create DataFrame x to hold our independent variables\n",
    "x = df[[\n",
    "       'percent_age18to24', 'percent_age25to34',\n",
    "       'percent_disability', 'percent_lessThanHS', 'percent_HS',\n",
    "       'percent_college', 'percent_hIncome_under$25K',\n",
    "       'percent_hIncome_$25to49K']]"
   ]
  },
  {
   "cell_type": "markdown",
   "metadata": {},
   "source": [
    "## MODEL PH_6 : combining models PH_3 and PH_5 (R-squared = 0.93)"
   ]
  },
  {
   "cell_type": "code",
   "execution_count": 100,
   "metadata": {},
   "outputs": [],
   "source": [
    "# Create DataFrame x to hold our independent variables\n",
    "x = df[['UB_binge_drinking', 'UB_current_smoking', 'UB_lack_physical_activity',\n",
    "        'UB_less_sleep', 'PS_lack_health_ins',\n",
    "       'PS_routine_checkups', 'PS_dental_checkups',\n",
    "       'percent_age18to24', 'percent_age25to34',\n",
    "       'percent_disability', 'percent_lessThanHS', 'percent_HS',\n",
    "       'percent_college', 'percent_hIncome_under$25K',\n",
    "       'percent_hIncome_$25to49K']]"
   ]
  },
  {
   "cell_type": "markdown",
   "metadata": {},
   "source": [
    "## MODEL PH_7 : purging from model PH_6 (R-squared = 0.93)\n",
    "#### ALL INDEPENDENT VARIABLES IN THIS MODEL ARE STATISTICALLY SIGNIFICANT"
   ]
  },
  {
   "cell_type": "code",
   "execution_count": 104,
   "metadata": {},
   "outputs": [],
   "source": [
    "# Create DataFrame x to hold our independent variables\n",
    "x = df[['UB_binge_drinking', 'UB_current_smoking', 'UB_lack_physical_activity',\n",
    "        'UB_less_sleep', 'PS_lack_health_ins',\n",
    "       'PS_routine_checkups', 'PS_dental_checkups',\n",
    "       'percent_age18to24', 'percent_age25to34',\n",
    "       'percent_disability', 'percent_lessThanHS',\n",
    "       'percent_college', 'percent_hIncome_under$25K',\n",
    "       'percent_hIncome_$25to49K']]"
   ]
  },
  {
   "cell_type": "markdown",
   "metadata": {},
   "source": [
    "## RUN THE MODEL on Mental Health outcome"
   ]
  },
  {
   "cell_type": "code",
   "execution_count": 105,
   "metadata": {},
   "outputs": [
    {
     "name": "stdout",
     "output_type": "stream",
     "text": [
      "(396, 14)\n",
      "(99, 14)\n",
      "(396, 1)\n",
      "(99, 1)\n"
     ]
    },
    {
     "data": {
      "image/png": "[encoded data removed]",
      "text/plain": [
       "<matplotlib.figure.Figure at 0x1c21bdf240>"
      ]
     },
     "metadata": {},
     "output_type": "display_data"
    }
   ],
   "source": [
    "# Create DataFrame y to hold our dependent variable\n",
    "y = df[['HO_poor_physical_health']]\n",
    "\n",
    "# Split x into 80% training set and 20% testing set\n",
    "from sklearn.model_selection import train_test_split\n",
    "x_train, x_test, y_train, y_test = train_test_split(x, y, train_size = 0.8, test_size = 0.2, random_state=6)\n",
    "print(x_train.shape)\n",
    "print(x_test.shape)\n",
    "print(y_train.shape)\n",
    "print(y_test.shape)\n",
    "\n",
    "# Build the linear regression model & fit the model using x_train and y_train\n",
    "from sklearn.linear_model import LinearRegression\n",
    "mlr = LinearRegression()\n",
    "model = mlr.fit(x_train, y_train)\n",
    "\n",
    "# Use the model to predict y-values from x_test\n",
    "y_predict = mlr.predict(x_test)\n",
    "\n",
    "# Visualize the fit\n",
    "plt.scatter(y_test, y_predict, alpha=0.7)\n",
    "\n",
    "plt.xlabel(\"Prevalence of poor MH\")\n",
    "plt.ylabel(\"Predicted prevalence of poor MH\")\n",
    "plt.title(\"Actual Prevalence of Poor MH vs Predicted Prevalence of Poor MH\")\n",
    "\n",
    "plt.show()"
   ]
  },
  {
   "cell_type": "code",
   "execution_count": 106,
   "metadata": {},
   "outputs": [
    {
     "name": "stdout",
     "output_type": "stream",
     "text": [
      "Intercept: \n",
      " [12.61513842]\n",
      "Coefficients: \n",
      " [[-0.0460238   0.06966065  0.09029071  0.03338795 -0.03972094 -0.0157004\n",
      "  -0.04798062 -4.53373389 -5.41599444 11.23511719  5.70590945 -2.41061745\n",
      "   5.63814605  2.64912065]]\n",
      "Train score:\n",
      "0.9243465512383321\n",
      "Test score:\n",
      "0.9218331016133464\n"
     ]
    }
   ],
   "source": [
    "# Looking at the regression intercept and coefficients\n",
    "print('Intercept: \\n', mlr.intercept_)\n",
    "print('Coefficients: \\n', mlr.coef_)\n",
    "\n",
    "# Evaluate accuracy of our model (R-square)\n",
    "print(\"Train score:\")\n",
    "print(mlr.score(x_train, y_train))\n",
    "\n",
    "print(\"Test score:\")\n",
    "print(mlr.score(x_test, y_test))"
   ]
  },
  {
   "cell_type": "code",
   "execution_count": 107,
   "metadata": {},
   "outputs": [
    {
     "name": "stdout",
     "output_type": "stream",
     "text": [
      "                               OLS Regression Results                              \n",
      "===================================================================================\n",
      "Dep. Variable:     HO_poor_physical_health   R-squared:                       0.925\n",
      "Model:                                 OLS   Adj. R-squared:                  0.923\n",
      "Method:                      Least Squares   F-statistic:                     422.0\n",
      "Date:                     Tue, 22 Jan 2019   Prob (F-statistic):          3.00e-259\n",
      "Time:                             18:32:10   Log-Likelihood:                -520.49\n",
      "No. Observations:                      495   AIC:                             1071.\n",
      "Df Residuals:                          480   BIC:                             1134.\n",
      "Df Model:                               14                                         \n",
      "Covariance Type:                 nonrobust                                         \n",
      "=============================================================================================\n",
      "                                coef    std err          t      P>|t|      [0.025      0.975]\n",
      "---------------------------------------------------------------------------------------------\n",
      "const                        12.8536      1.151     11.168      0.000      10.592      15.115\n",
      "UB_binge_drinking            -0.0538      0.016     -3.364      0.001      -0.085      -0.022\n",
      "UB_current_smoking            0.0759      0.018      4.160      0.000       0.040       0.112\n",
      "UB_lack_physical_activity     0.0951      0.016      5.929      0.000       0.064       0.127\n",
      "UB_less_sleep                 0.0437      0.014      3.145      0.002       0.016       0.071\n",
      "PS_lack_health_ins           -0.0355      0.011     -3.214      0.001      -0.057      -0.014\n",
      "PS_routine_checkups          -0.0276      0.010     -2.640      0.009      -0.048      -0.007\n",
      "PS_dental_checkups           -0.0457      0.012     -3.825      0.000      -0.069      -0.022\n",
      "percent_age18to24            -4.8248      0.662     -7.289      0.000      -6.126      -3.524\n",
      "percent_age25to34            -6.5070      0.974     -6.678      0.000      -8.422      -4.593\n",
      "percent_disability           11.8043      1.591      7.422      0.000       8.679      14.930\n",
      "percent_lessThanHS            5.3586      0.793      6.755      0.000       3.800       6.917\n",
      "percent_college              -2.0593      0.522     -3.943      0.000      -3.086      -1.033\n",
      "percent_hIncome_under$25K     5.0584      0.908      5.573      0.000       3.275       6.842\n",
      "percent_hIncome_$25to49K      3.5153      0.971      3.622      0.000       1.608       5.422\n",
      "==============================================================================\n",
      "Omnibus:                        3.284   Durbin-Watson:                   1.466\n",
      "Prob(Omnibus):                  0.194   Jarque-Bera (JB):                3.148\n",
      "Skew:                          -0.194   Prob(JB):                        0.207\n",
      "Kurtosis:                       3.052   Cond. No.                     5.91e+03\n",
      "==============================================================================\n",
      "\n",
      "Warnings:\n",
      "[1] Standard Errors assume that the covariance matrix of the errors is correctly specified.\n",
      "[2] The condition number is large, 5.91e+03. This might indicate that there are\n",
      "strong multicollinearity or other numerical problems.\n"
     ]
    }
   ],
   "source": [
    "# with statsmodels\n",
    "import statsmodels.api as sm\n",
    "x = sm.add_constant(x) # adding a constant\n",
    "model = sm.OLS(y, x).fit()\n",
    "predictions = model.predict(x) \n",
    " \n",
    "print_model = model.summary()\n",
    "print(print_model)"
   ]
  },
  {
   "cell_type": "code",
   "execution_count": null,
   "metadata": {},
   "outputs": [],
   "source": []
  },
  {
   "cell_type": "code",
   "execution_count": null,
   "metadata": {},
   "outputs": [],
   "source": []
  },
  {
   "cell_type": "code",
   "execution_count": null,
   "metadata": {},
   "outputs": [],
   "source": []
  },
  {
   "cell_type": "markdown",
   "metadata": {},
   "source": [
    "### ------------------------------"
   ]
  },
  {
   "cell_type": "code",
   "execution_count": null,
   "metadata": {},
   "outputs": [],
   "source": []
  },
  {
   "cell_type": "code",
   "execution_count": null,
   "metadata": {},
   "outputs": [],
   "source": []
  },
  {
   "cell_type": "code",
   "execution_count": null,
   "metadata": {},
   "outputs": [],
   "source": []
  }
 ],
 "metadata": {
  "kernelspec": {
   "display_name": "Python 3",
   "language": "python",
   "name": "python3"
  },
  "language_info": {
   "codemirror_mode": {
    "name": "ipython",
    "version": 3
   },
   "file_extension": ".py",
   "mimetype": "text/x-python",
   "name": "python",
   "nbconvert_exporter": "python",
   "pygments_lexer": "ipython3",
   "version": "3.6.4"
  }
 },
 "nbformat": 4,
 "nbformat_minor": 2
}
