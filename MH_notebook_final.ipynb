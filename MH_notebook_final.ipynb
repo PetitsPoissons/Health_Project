{
 "cells": [
  {
   "cell_type": "markdown",
   "metadata": {},
   "source": [
    "# Predicting the Prevalence of Poor Mental Health in the U.S.\n",
    "---\n",
    "The below script explores the relationship between the prevalence of poor mental health and the prevalence of certain unhealthy behaviors in the United States. We also look at various socioeconomic parameters to see if they can further inform our findings.\n",
    "\n",
    "In this script, we retrieved and analyzed data from the 500 Cities: 2016 Census Tract-level Data, as well as 2016 socioeconomic data from the American Community Survey and geographical data. We used Pandas, Numpy, Matplotlib, Seaborn, Requests, and Google API to accomplish our task."
   ]
  },
  {
   "cell_type": "markdown",
   "metadata": {},
   "source": [
    "# Importing the dependencies\n",
    "\n",
    "In this section we import the modules and API key we will need for our analysis."
   ]
  },
  {
   "cell_type": "code",
   "execution_count": null,
   "metadata": {},
   "outputs": [],
   "source": [
    "%matplotlib inline\n",
    "import warnings\n",
    "warnings.filterwarnings('ignore')\n",
    "\n",
    "import pandas as pd\n",
    "import numpy as np\n",
    "import gmaps\n",
    "import matplotlib.pyplot as plt\n",
    "import seaborn as sns\n",
    "\n",
    "import scipy.stats as stats\n",
    "import statsmodels.api as sm\n",
    "from statsmodels.formula.api import ols\n",
    "from statsmodels.stats.multicomp import pairwise_tukeyhsd\n",
    "from sklearn.linear_model import LinearRegression\n",
    "from sklearn.model_selection import train_test_split\n",
    "\n",
    "# Configure gmaps\n",
    "from config import gkey\n",
    "gmaps.configure(api_key=gkey)"
   ]
  },
  {
   "cell_type": "markdown",
   "metadata": {},
   "source": [
    "# Defining functions we'll be calling throughout the notebook\n",
    "#### Seaborn Correlations Heatmap\n",
    "A quick way to explore correlations among our variables is to build a correlations heatmap using seaborn. We create our own color gradient map, with high correlations displayed in increasing red shades, and lower correlations trending into the blue hues. We also add our correlation values inside the graph itself, displaying floating numbers in each category (source: https://ajh1143.github.io/Corr/)\n",
    "#### Anova & Tukey's Range tests\n",
    "After we divide our data into 4 bins corresponding to the quartiles on the prevalence of poor mental health, we repeptitively draw boxplots and test for any significant difference among the four groups along a number of health and socioeconomic variables."
   ]
  },
  {
   "cell_type": "code",
   "execution_count": null,
   "metadata": {},
   "outputs": [],
   "source": [
    "# Defining a function for creating correlations heatmap (we will use this code again on the ACS16 dataset,\n",
    "# as well as the final merged dataset)\n",
    "def correlations_heatmap(df):\n",
    "    #Create Correlation df\n",
    "    corr = df.corr()\n",
    "    #Plot figsize\n",
    "    fig, ax = plt.subplots(figsize=(10, 10))\n",
    "    #Generate Color Map\n",
    "    colormap = sns.diverging_palette(220, 10, as_cmap=True)\n",
    "    #Generate Heat Map, allow annotations and place floats in map\n",
    "    sns.heatmap(corr, cmap=colormap, annot=True, fmt=\".2f\")\n",
    "    #Apply xticks\n",
    "    plt.xticks(range(len(corr.columns)), corr.columns);\n",
    "    #Apply yticks\n",
    "    plt.yticks(range(len(corr.columns)), corr.columns)\n",
    "    #show plot\n",
    "    plt.show()\n",
    "\n",
    "# Defining a function for displaying boxplots by MH bins, and performing ANOVA and Tukey's Range tests\n",
    "# (this code will be used repetitively throughout our data exploration section)\n",
    "def anova_analysis(df, var):\n",
    "    plt.figure(figsize=(20, 10))\n",
    "    sns.set_style(\"whitegrid\")\n",
    "    sns.set_palette(\"Blues\")\n",
    "    # Displaying the boxplots\n",
    "    df_sorted = df.sort_values('quantile')\n",
    "    x = sns.boxplot(data=df_sorted, x='quantile', y=var, saturation=1, width=0.8)\n",
    "    plt.title(f\"Studying {var}\")\n",
    "    plt.show()\n",
    "    # Performing ANOVA test\n",
    "    group1 = df[df[\"quantile\"] == 'low'][var]\n",
    "    group2 = df[df[\"quantile\"] == 'low-med'][var]\n",
    "    group3 = df[df[\"quantile\"] == 'med-high'][var]\n",
    "    group4 = df[df[\"quantile\"] == 'high'][var]\n",
    "    anova_results = stats.f_oneway(group1, group2, group3, group4)\n",
    "    print(anova_results)\n",
    "    # Performing Tukey's Range test\n",
    "    tukey_results = pairwise_tukeyhsd(df_sorted[var], df_sorted['quantile'], 0.05)\n",
    "    print(tukey_results)\n",
    "    \n",
    "# Defining a function to run a multiple linear regression analysis model to help\n",
    "# predict the prevalence of poor mental health\n",
    "def mult_reg(x):\n",
    "    # Create DataFrame y to hold our dependent variable\n",
    "    y = df[['HO_poor_mental_health']]\n",
    "    # Split x into 80% training set and 20% testing set\n",
    "    x_train, x_test, y_train, y_test = train_test_split(x, y, train_size = 0.8, test_size = 0.2, random_state=6)\n",
    "    print(x_train.shape)\n",
    "    print(x_test.shape)\n",
    "    print(y_train.shape)\n",
    "    print(y_test.shape)\n",
    "    # Build the linear regression model & fit the model using x_train and y_train\n",
    "    mlr = LinearRegression()\n",
    "    model = mlr.fit(x_train, y_train)\n",
    "    # Use the model to predict y-values from x_test\n",
    "    y_predict = mlr.predict(x_test)\n",
    "    # Visualize the fitplt.scatter(y_test, y_predict, alpha=0.7)\n",
    "    plt.scatter(y_test, y_predict, c='b', alpha=1)\n",
    "    plt.xlabel(\"Prevalence of poor MH\")\n",
    "    plt.ylabel(\"Predicted prevalence of poor MH\")\n",
    "    plt.title(\"Actual Prevalence of Poor MH vs Predicted Prevalence of Poor MH\")\n",
    "    plt.show()\n",
    "    # Looking at the regression intercept and coefficients\n",
    "    print('Intercept: \\n', mlr.intercept_)\n",
    "    print('Coefficients: \\n', mlr.coef_)\n",
    "    # Evaluate accuracy of our model (R-square)\n",
    "    print(f\"Train score: {mlr.score(x_train, y_train)}\")\n",
    "    print(f\"Test score: {mlr.score(x_test, y_test)}\")\n",
    "    # with statsmodels\n",
    "    x = sm.add_constant(x) # adding a constant\n",
    "    model = sm.OLS(y, x).fit()\n",
    "    predictions = model.predict(x) \n",
    "    print_model = model.summary()\n",
    "    print(print_model)\n"
   ]
  },
  {
   "cell_type": "markdown",
   "metadata": {},
   "source": [
    "# Loading the data\n",
    "\n",
    "- \"500_Census_Tracts.csv\" (source: https://dev.socrata.com/foundry/chronicdata.cdc.gov/47z2-4wuh). This dataset contains 2016 model-based estimates of 27 health indicators collected from adults ages 18 to 64 in 27210 census tracts. The 27 health indicators include 13 health outcomes (among which we selected to study the prevalence of poor mental health), 5 unhealthy behaviors (which we all include in our study), and 10 preventive services (four of which we selected to include in our study)\n",
    "- \"ACS_2016.csv\" (source: https://factfinder.census.gov/faces/nav/jsf/pages/index.xhtml, select advanced search). This dataset was custom-built following a search by date, geographical and socioeconomic variables from the American FactFinder advanced search tool."
   ]
  },
  {
   "cell_type": "code",
   "execution_count": null,
   "metadata": {},
   "outputs": [],
   "source": [
    "# Loading the 500 Cities: Census Tract-level data\n",
    "tracts_df = pd.read_csv('500_Census_Tracts.csv')\n",
    "\n",
    "# Selecting, renaming, and reordering the columns we want for our analysis\n",
    "tracts_reduced = tracts_df[['StateAbbr', 'PlaceName', 'MHLTH_CrudePrev', 'SLEEP_CrudePrev', 'LPA_CrudePrev',\n",
    "                            'OBESITY_CrudePrev', 'CSMOKING_CrudePrev', 'BINGE_CrudePrev', 'ACCESS2_CrudePrev',\n",
    "                            'CHECKUP_CrudePrev', 'COREM_CrudePrev', 'COREW_CrudePrev', 'PlaceFIPS', 'TractFIPS',\n",
    "                            'Place_TractID', 'Geolocation']]\n",
    "tracts_reduced.rename(columns = {\n",
    "    'StateAbbr': 'state', #State abbreviation\n",
    "#    'PlaceName': 'city',\n",
    "    'PlaceFIPS': 'city_FIPS', #City FIPS code\n",
    "    'TractFIPS': 'tract_FIPS', #Tract FIPS code\n",
    "#    'Place_TractID': 'place_tractID',\n",
    "    'ACCESS2_CrudePrev': 'PS_lack_health_ins', #Model-based estimate for crude prevalence of current lack of health insurance among adults aged 18-64 years, 2016\n",
    "    'CHECKUP_CrudePrev': 'PS_routine_checkups', #Model-based estimate for crude prevalence of visits to doctor for routine checkup within the past year among adults aged >=18 years, 2016\n",
    "    'COREM_CrudePrev': 'PS_older_men_uptodate', #Model-based estimate for crude prevalence of older adult men aged >=65 years who are up to date on a core set of clinical preventive services: Flu shot past year, PPV shot ever, Colorectal cancer screening, 2016\n",
    "    'COREW_CrudePrev': 'PS_older_women_uptodate', #Model-based estimate for crude prevalence of older adult women aged >=65 years who are up to date on a core set of clinical preventive services: Flu shot past year, PPV shot ever, Colorectal cancer screening, and Mammogram past 2 years, 2016\n",
    "    'BINGE_CrudePrev': 'UB_binge_drinking', #Model-based estimate for crude prevalence of binge drinking among adults aged >=18 years, 2016\n",
    "    'CSMOKING_CrudePrev': 'UB_current_smoking', #Model-based estimate for crude prevalence of current smoking among adults aged >=18 years, 2016\n",
    "    'LPA_CrudePrev': 'UB_lack_physical_activity', #Model-based estimate for crude prevalence of no leisure-time physical activity among adults aged >=18 years, 2016\n",
    "    'OBESITY_CrudePrev': 'UB_obesity', #Model-based estimate for crude prevalence of obesity among adults aged >=18 years, 2016\n",
    "    'SLEEP_CrudePrev': 'UB_less_sleep', #Model-based estimate for crude prevalence of sleeping less than 7 hours among adults aged >=18 years, 2016\n",
    "    'MHLTH_CrudePrev': 'HO_poor_mental_health', #Model-based estimate for crude prevalence of mental health not good for >=14 days among adults aged >=18 years, 2016\n",
    "    'Geolocation': 'geolocation'}, inplace = True) #Latitude, longitude of census tract centroid\n"
   ]
  },
  {
   "cell_type": "code",
   "execution_count": null,
   "metadata": {},
   "outputs": [],
   "source": [
    "# Loading the 2016 ACS select data\n",
    "acs16_df = pd.read_csv('ACS_2016.csv')\n",
    "\n",
    "# Selecting, renaming, and reordering the columns we want for our analysis\n",
    "acs16_reduced = acs16_df[['HC01_EST_VC01', 'HC03_EST_VC01', 'HC03_EST_VC07', 'HC01_EST_VC08',\n",
    "                          'HC01_EST_VC09', 'HC01_EST_VC10', 'HC01_EST_VC11', 'HC01_EST_VC12', 'HC01_EST_VC13',\n",
    "                          'HC01_EST_VC20', 'HC01_EST_VC21', 'HC01_EST_VC54', 'HC01_EST_VC55',\n",
    "                          'HC01_EST_VC56', 'HC01_EST_VC57', 'HC01_EST_VC58', 'HC01_EST_VC74', 'HC01_EST_VC75',\n",
    "                          'HC01_EST_VC76', 'HC01_EST_VC77', 'HC01_EST_VC78', 'HC01_EST_VC79'\n",
    "                         ]].apply(pd.to_numeric, errors='coerce')\n",
    "acs16_reduced['geo_id'] = acs16_df['GEO.id2']\n",
    "acs16_reduced.rename(columns = {\n",
    "    'HC01_EST_VC01': 'population_CNI',\n",
    "    'HC03_EST_VC01': 'population_%insured',\n",
    "    'HC03_EST_VC07': 'age18to64_%insured',\n",
    "    'HC01_EST_VC08': 'age18to24',\n",
    "    'HC01_EST_VC09': 'age25to34',\n",
    "    'HC01_EST_VC10': 'age35to44',\n",
    "    'HC01_EST_VC11': 'age45to54',\n",
    "    'HC01_EST_VC12': 'age55to64',\n",
    "    'HC01_EST_VC13': 'age_over64',\n",
    "    'HC01_EST_VC20': 'male',\n",
    "    'HC01_EST_VC21': 'female',\n",
    "    'HC01_EST_VC54': 'education_over25',\n",
    "    'HC01_EST_VC55': 'over25_lessThanHS',\n",
    "    'HC01_EST_VC56': 'over25_HS',\n",
    "    'HC01_EST_VC57': 'over25_someCollege',\n",
    "    'HC01_EST_VC58': 'over25_college',\n",
    "    'HC01_EST_VC74': 'household_income',\n",
    "    'HC01_EST_VC75': 'household_income_under$25K',\n",
    "    'HC01_EST_VC76': 'household_income_$25to49K',\n",
    "    'HC01_EST_VC77': 'household_income_$50to74K',\n",
    "    'HC01_EST_VC78': 'household_income_$75to99K',\n",
    "    'HC01_EST_VC79': 'household_income_over$99K'\n",
    "}, inplace = True)\n",
    "\n",
    "# Adding columns for percent of various socioeconomic factors\n",
    "acs16_reduced['age_over18'] = acs16_reduced.age18to24 + acs16_reduced.age25to34 + acs16_reduced.age35to44 + acs16_reduced.age45to54 + acs16_reduced.age55to64 + acs16_reduced.age_over64\n",
    "acs16_reduced['percent_age18to24'] = acs16_reduced.age18to24 / acs16_reduced.age_over18\n",
    "acs16_reduced['percent_age25to34'] = acs16_reduced.age25to34 / acs16_reduced.age_over18\n",
    "acs16_reduced['percent_age35to44'] = acs16_reduced.age35to44 / acs16_reduced.age_over18\n",
    "acs16_reduced['percent_age45to54'] = acs16_reduced.age45to54 / acs16_reduced.age_over18\n",
    "acs16_reduced['percent_age55to64'] = acs16_reduced.age55to64 / acs16_reduced.age_over18\n",
    "acs16_reduced['percent_age_over64'] = acs16_reduced.age_over64 / acs16_reduced.age_over18\n",
    "acs16_reduced['percent_male'] = acs16_reduced.male / acs16_reduced.population_CNI\n",
    "acs16_reduced['percent_female'] = acs16_reduced.female / acs16_reduced.population_CNI\n",
    "acs16_reduced['percent_lessThanHS'] = acs16_reduced.over25_lessThanHS / acs16_reduced.education_over25\n",
    "acs16_reduced['percent_HS'] = acs16_reduced.over25_HS / acs16_reduced.education_over25\n",
    "acs16_reduced['percent_someCollege'] = acs16_reduced.over25_someCollege / acs16_reduced.education_over25\n",
    "acs16_reduced['percent_college'] = acs16_reduced.over25_college / acs16_reduced.education_over25\n",
    "acs16_reduced['percent_hIncome_under$25K'] = acs16_reduced['household_income_under$25K'] / acs16_reduced.household_income\n",
    "acs16_reduced['percent_hIncome_$25to49K'] = acs16_reduced['household_income_$25to49K'] / acs16_reduced.household_income\n",
    "acs16_reduced['percent_hIncome_$50to74K'] = acs16_reduced['household_income_$50to74K'] / acs16_reduced.household_income\n",
    "acs16_reduced['percent_hIncome_$75to99K'] = acs16_reduced['household_income_$75to99K'] / acs16_reduced.household_income\n",
    "acs16_reduced['percent_hIncome_over$99K'] = acs16_reduced['household_income_over$99K'] / acs16_reduced.household_income\n",
    "\n",
    "# Checking for NaN values\n",
    "acs16_final = acs16_reduced[['percent_age18to24', 'percent_age25to34', 'percent_age35to44', 'percent_age45to54',\n",
    "                             'percent_age55to64', 'percent_age_over64', 'percent_male', 'percent_female',\n",
    "                             'percent_lessThanHS', 'percent_HS', 'percent_someCollege',\n",
    "                             'percent_college', 'percent_hIncome_under$25K', 'percent_hIncome_$25to49K',\n",
    "                             'percent_hIncome_$50to74K', 'percent_hIncome_$75to99K', 'percent_hIncome_over$99K',\n",
    "                             'geo_id']]"
   ]
  },
  {
   "cell_type": "markdown",
   "metadata": {},
   "source": [
    "# Preparing a heat map to display the prevalence of poor mental health across the U.S.\n",
    "\n",
    "In this section we display a heat map for the prevalence of poor mental health based on the 27210 census tracts of our dataset."
   ]
  },
  {
   "cell_type": "code",
   "execution_count": null,
   "metadata": {},
   "outputs": [],
   "source": [
    "# Extracting census tracts latitude and longitude from 'geolocation' text field in tracts_df\n",
    "# and transforming type from string to float\n",
    "tracts_reduced['lat'] = tracts_reduced.geolocation.apply(lambda x: x[1:15]).astype(float)\n",
    "tracts_reduced['lng'] = tracts_reduced.geolocation.apply(lambda x: x[17:31]).astype(float)\n",
    "locations = tracts_reduced[['lat', 'lng']]\n",
    "MH_score = tracts_reduced['HO_poor_mental_health']\n",
    "\n",
    "# Plot heatmap for prevalence of poor mental health by census tracts\n",
    "fig = gmaps.figure()\n",
    "heat_layer = gmaps.heatmap_layer(locations, weights=MH_score,\n",
    "                                 dissipating=False, max_intensity=1000,\n",
    "                                 point_radius=1)\n",
    "fig.add_layer(heat_layer)\n",
    "fig  # Display figure"
   ]
  },
  {
   "cell_type": "markdown",
   "metadata": {},
   "source": [
    "# Cleaning up the census tracts dataset\n",
    "\n",
    "In this section, we clean up and prepare our main dataset for analysis. Specifically:\n",
    "- we plot the correlation matrix among our variables of interest and remove the one(s) with little or no correlation with our dependent variable ('HO_poor_mental_health'). We notice that 'PS_routine_checkups' has no correlation with 'HO_poor_mental_health', so we remove it from further analysis.\n",
    "- our census tracts data frame (based on the \"500_Census_Tracts.csv\" file) has a few NaN values we want to remove;\n",
    "- we notice that the distribution of the prevalence of poor mental is normal-ish, but slightly skewed to the right\n",
    "- we identify and remove outliers from the dataset (source: https://towardsdatascience.com/ways-to-detect-and-remove-the-outliers-404d16608dba)"
   ]
  },
  {
   "cell_type": "code",
   "execution_count": null,
   "metadata": {},
   "outputs": [],
   "source": [
    "# Checking out correlations in our census tracts dataset\n",
    "tracts_var = tracts_reduced[['HO_poor_mental_health', 'UB_less_sleep', 'UB_lack_physical_activity', 'UB_obesity',\n",
    "                             'UB_current_smoking', 'UB_binge_drinking', 'PS_lack_health_ins', 'PS_routine_checkups',\n",
    "                             'PS_older_men_uptodate', 'PS_older_women_uptodate']]\n",
    "correlations_heatmap(tracts_var)"
   ]
  },
  {
   "cell_type": "code",
   "execution_count": null,
   "metadata": {},
   "outputs": [],
   "source": [
    "# Dropping the 'PS_routine_checkups' from the dataset\n",
    "tracts_reduced.drop(['PS_routine_checkups'], axis=1)\n",
    "\n",
    "# Checking for NaN values in tracts_reduced dataframe\n",
    "print('BEFORE REMOVING NaN VALUES:')\n",
    "print('---------------------------')\n",
    "print(tracts_reduced.count())\n",
    "\n",
    "# Dropping NaN values in tracts_reduced dataframe\n",
    "tracts_clean = tracts_reduced.dropna()\n",
    "print('AFTER REMOVING NaN VALUES:')\n",
    "print('--------------------------')\n",
    "print(tracts_clean.count())"
   ]
  },
  {
   "cell_type": "markdown",
   "metadata": {},
   "source": [
    "# Aggregating by cities\n",
    "In this section we aggregate our health indicators/census tracts clean dataset by cities and merge it with the 2016 ACS dataset."
   ]
  },
  {
   "cell_type": "code",
   "execution_count": null,
   "metadata": {},
   "outputs": [],
   "source": [
    "tracts_clean.columns"
   ]
  },
  {
   "cell_type": "code",
   "execution_count": 76,
   "metadata": {},
   "outputs": [
    {
     "name": "stdout",
     "output_type": "stream",
     "text": [
      "There are 495 cities represented in our final dataset, after merging with the ACS_2016 dataset.\n"
     ]
    }
   ],
   "source": [
    "# Extracting and formatting the geographical code for cities from 'city_FIPS'\n",
    "# (we will need it later to merge both datasets)\n",
    "tracts_clean['geo_id'] = tracts_clean.city_FIPS.apply(\n",
    "    lambda x: '0' + str(x) if len(str(x)) == 6 else str(x))\n",
    "\n",
    "# Grouping by cities\n",
    "tracts_groups = tracts_clean.groupby(['geo_id'])\n",
    "\n",
    "# Calculating means for health indicators (HI) grouped by cities\n",
    "HI_means = tracts_groups['HO_poor_mental_health', 'UB_binge_drinking', 'UB_current_smoking',\n",
    "                         'UB_lack_physical_activity', 'UB_obesity', 'UB_less_sleep', 'PS_lack_health_ins',\n",
    "                         'PS_older_men_uptodate', 'PS_older_women_uptodate', 'lat', 'lng'].mean().reset_index()\n",
    "# Add city names\n",
    "cities = tracts_groups['state', 'PlaceName'].max()\n",
    "HI_final = pd.merge(HI_means, cities, on='geo_id')\n",
    "\n",
    "# Create master df\n",
    "df = pd.merge(HI_final, acs16_final, on='geo_id')\n",
    "print(f\"There are {len(df)} cities represented in our final dataset, after merging with the ACS_2016 dataset.\")"
   ]
  },
  {
   "cell_type": "markdown",
   "metadata": {},
   "source": [
    "## Binning by mental health (MH) scores"
   ]
  },
  {
   "cell_type": "code",
   "execution_count": null,
   "metadata": {},
   "outputs": [],
   "source": [
    "#plt.hist(df['HO_poor_mental_health'], bins=20)\n",
    "df['HO_poor_mental_health'].describe()"
   ]
  },
  {
   "cell_type": "code",
   "execution_count": null,
   "metadata": {},
   "outputs": [],
   "source": [
    "# Calculate quantiles on mental health outcome (MH) & prepare bins\n",
    "bins = [5]\n",
    "MH_Q1 = df['HO_poor_mental_health'].quantile(0.25)\n",
    "bins.append(MH_Q1)\n",
    "MH_Q2 = df['HO_poor_mental_health'].quantile(0.5)\n",
    "bins.append(MH_Q2)\n",
    "MH_Q3 = df['HO_poor_mental_health'].quantile(0.75)\n",
    "bins.append(MH_Q3)\n",
    "bins.append(20)\n",
    "print(bins)\n",
    "labels = ['low', 'low-med', 'med-high', 'high']\n",
    "print(labels)\n",
    "\n",
    "# Append our bins to df\n",
    "df['quantile'] = pd.cut(df['HO_poor_mental_health'], bins, labels=labels)\n",
    "df['quantile'].value_counts()"
   ]
  },
  {
   "cell_type": "markdown",
   "metadata": {},
   "source": [
    "# Exploring differences in various health indicators by mental health (MH) bins\n",
    "In this section we first look at the correlation heatmap and boxplots displaying various health indicators by quartile of mental health outcome. Using ANOVA and Tukey's Range tests, we verify whether the differences observed are statistically significant.\n",
    "Then we look at the correlation heatmap and build a multiple linear regression predicting the prevalence of poor mental health based on statistically significant health indicators."
   ]
  },
  {
   "cell_type": "markdown",
   "metadata": {},
   "source": [
    "### CORRELATIONS HEATMAP"
   ]
  },
  {
   "cell_type": "code",
   "execution_count": null,
   "metadata": {},
   "outputs": [],
   "source": [
    "# Checking out correlations within our master dataset\n",
    "df_var = df[['HO_poor_mental_health', 'UB_less_sleep', 'UB_lack_physical_activity', 'UB_obesity',\n",
    "             'UB_current_smoking', 'UB_binge_drinking', 'PS_lack_health_ins','PS_older_men_uptodate',\n",
    "             'PS_older_women_uptodate']]\n",
    "correlations_heatmap(df_var)"
   ]
  },
  {
   "cell_type": "markdown",
   "metadata": {},
   "source": [
    "### BOXPLOTS"
   ]
  },
  {
   "cell_type": "code",
   "execution_count": null,
   "metadata": {},
   "outputs": [],
   "source": [
    "anova_analysis(df, 'UB_binge_drinking')"
   ]
  },
  {
   "cell_type": "code",
   "execution_count": null,
   "metadata": {},
   "outputs": [],
   "source": [
    "anova_analysis(df, 'UB_current_smoking')"
   ]
  },
  {
   "cell_type": "code",
   "execution_count": null,
   "metadata": {},
   "outputs": [],
   "source": [
    "anova_analysis(df, 'UB_lack_physical_activity')"
   ]
  },
  {
   "cell_type": "code",
   "execution_count": null,
   "metadata": {},
   "outputs": [],
   "source": [
    "anova_analysis(df, 'UB_obesity')"
   ]
  },
  {
   "cell_type": "code",
   "execution_count": null,
   "metadata": {},
   "outputs": [],
   "source": [
    "anova_analysis(df, 'UB_less_sleep')"
   ]
  },
  {
   "cell_type": "code",
   "execution_count": null,
   "metadata": {},
   "outputs": [],
   "source": [
    "anova_analysis(df, 'PS_lack_health_ins')"
   ]
  },
  {
   "cell_type": "code",
   "execution_count": null,
   "metadata": {},
   "outputs": [],
   "source": [
    "anova_analysis(df, 'PS_older_men_uptodate')"
   ]
  },
  {
   "cell_type": "code",
   "execution_count": null,
   "metadata": {},
   "outputs": [],
   "source": [
    "anova_analysis(df, 'PS_older_women_uptodate')"
   ]
  },
  {
   "cell_type": "markdown",
   "metadata": {},
   "source": [
    "### MULTIPLE REGRESSION ANALYSIS MODEL"
   ]
  },
  {
   "cell_type": "code",
   "execution_count": null,
   "metadata": {},
   "outputs": [],
   "source": [
    "# Create DataFrame x to hold our independent variables (all of our health indicators)\n",
    "ind_var1 = df[['UB_less_sleep', 'UB_lack_physical_activity', 'UB_obesity',\n",
    "             'UB_current_smoking', 'UB_binge_drinking', 'PS_lack_health_ins','PS_older_men_uptodate',\n",
    "             'PS_older_women_uptodate']]\n",
    "mult_reg(ind_var1)"
   ]
  },
  {
   "cell_type": "code",
   "execution_count": null,
   "metadata": {},
   "outputs": [],
   "source": [
    "# Create DataFrame x to hold our independent variables (all of our health indicators, minus obesity)\n",
    "ind_var2 = df[['UB_less_sleep', 'UB_lack_physical_activity', 'UB_current_smoking', 'UB_binge_drinking',\n",
    "               'PS_lack_health_ins','PS_older_men_uptodate', 'PS_older_women_uptodate']]\n",
    "mult_reg(ind_var2)"
   ]
  },
  {
   "cell_type": "markdown",
   "metadata": {},
   "source": [
    "# Exploring differences in socioeconomic characteristics by mental health (MH) bins\n",
    "In this section we first look at stacked bar charts displaying various socioeconomic variables by quartile of mental health outcome. We further highlight striking differences with scatter and box plots and test for statistical significance using ANOVA and Tukey's Range tests.\n",
    "Then we build a multiple linear regression predicting the prevalence of poor mental health based on statistically significant socioeconomic variables."
   ]
  },
  {
   "cell_type": "markdown",
   "metadata": {},
   "source": [
    "### STACKED BAR CHARS, SCATTER PLOTS & BOXPLOTS"
   ]
  },
  {
   "cell_type": "code",
   "execution_count": null,
   "metadata": {},
   "outputs": [],
   "source": [
    "# Looking at age distribution across MH quantiles\n",
    "sns.set_style(\"whitegrid\")\n",
    "sns.set_palette(\"cubehelix\", 6)\n",
    "MH_groups = df.groupby(['quantile'])\n",
    "MH_age = MH_groups['percent_age18to24', 'percent_age25to34', 'percent_age35to44',\n",
    "                   'percent_age45to54', 'percent_age55to64', 'percent_age_over64'].mean().reset_index()\n",
    "MH_age.plot.bar(stacked=True, figsize=(20, 10))\n",
    "plt.show()"
   ]
  },
  {
   "cell_type": "code",
   "execution_count": null,
   "metadata": {},
   "outputs": [],
   "source": [
    "# Looking at household income distribution across MH quantiles\n",
    "sns.set_style(\"whitegrid\")\n",
    "sns.set_palette(\"cubehelix\", 5)\n",
    "MH_groups = df.groupby(['quantile'])\n",
    "MH_income = MH_groups['percent_hIncome_under$25K',\n",
    "       'percent_hIncome_$25to49K', 'percent_hIncome_$50to74K',\n",
    "       'percent_hIncome_$75to99K', 'percent_hIncome_over$99K'].mean().reset_index()\n",
    "MH_income.plot.bar(stacked=True, figsize=(20, 10))\n",
    "plt.show()"
   ]
  },
  {
   "cell_type": "code",
   "execution_count": null,
   "metadata": {},
   "outputs": [],
   "source": [
    "anova_analysis(df, 'percent_hIncome_under$25K')"
   ]
  },
  {
   "cell_type": "code",
   "execution_count": null,
   "metadata": {},
   "outputs": [],
   "source": [
    "anova_analysis(df, 'percent_hIncome_$25to49K')"
   ]
  },
  {
   "cell_type": "code",
   "execution_count": null,
   "metadata": {},
   "outputs": [],
   "source": [
    "anova_analysis(df, 'percent_hIncome_$50to74K')"
   ]
  },
  {
   "cell_type": "code",
   "execution_count": null,
   "metadata": {},
   "outputs": [],
   "source": [
    "anova_analysis(df, 'percent_hIncome_$75to99K')"
   ]
  },
  {
   "cell_type": "code",
   "execution_count": null,
   "metadata": {},
   "outputs": [],
   "source": [
    "anova_analysis(df, 'percent_hIncome_over$99K')"
   ]
  },
  {
   "cell_type": "code",
   "execution_count": null,
   "metadata": {},
   "outputs": [],
   "source": [
    "# Scatter plot:\n",
    "plt.scatter(df['percent_hIncome_under$25K'], df['HO_poor_mental_health'], marker='o', facecolors='blue',\n",
    "            edgecolors='black', alpha=0.5)\n",
    "plt.title(\"% population with household income under $25,000 and prevalence of poor mental health\")\n",
    "plt.xlabel(\"% population with household income under $25,000\")\n",
    "plt.ylabel(\"Prevalence of Poor Mental Health\")\n",
    "# adding a trendline\n",
    "z = np.polyfit(df['percent_hIncome_under$25K'], df['HO_poor_mental_health'], 1)\n",
    "p = np.poly1d(z)\n",
    "plt.plot(df['percent_hIncome_under$25K'], p(df['percent_hIncome_under$25K']), 'purple')\n",
    "plt.show()"
   ]
  },
  {
   "cell_type": "code",
   "execution_count": null,
   "metadata": {},
   "outputs": [],
   "source": [
    "# Scatter plot:\n",
    "plt.scatter(df['percent_hIncome_$25to49K'], df['HO_poor_mental_health'], marker='o', facecolors='blue',\n",
    "            edgecolors='black', alpha=0.5)\n",
    "plt.title(\"% population with household income between $25,000 and $49,999 and prevalence of poor mental health\")\n",
    "plt.xlabel(\"% population with household income between $25,000 and $49,999\")\n",
    "plt.ylabel(\"Prevalence of Poor Mental Health\")\n",
    "# adding a trendline\n",
    "z = np.polyfit(df['percent_hIncome_$25to49K'], df['HO_poor_mental_health'], 1)\n",
    "p = np.poly1d(z)\n",
    "plt.plot(df['percent_hIncome_$25to49K'], p(df['percent_hIncome_$25to49K']), 'purple')\n",
    "plt.show()"
   ]
  },
  {
   "cell_type": "code",
   "execution_count": null,
   "metadata": {},
   "outputs": [],
   "source": [
    "# Scatter plot:\n",
    "plt.scatter(df['percent_hIncome_$50to74K'], df['HO_poor_mental_health'], marker='o', facecolors='blue',\n",
    "            edgecolors='black', alpha=0.5)\n",
    "plt.title(\"% population with household income between $50,000 and $74,999 and prevalence of poor mental health\")\n",
    "plt.xlabel(\"% population with household income between $50,000 and $74,999\")\n",
    "plt.ylabel(\"Prevalence of Poor Mental Health\")\n",
    "# adding a trendline\n",
    "z = np.polyfit(df['percent_hIncome_$50to74K'], df['HO_poor_mental_health'], 1)\n",
    "p = np.poly1d(z)\n",
    "plt.plot(df['percent_hIncome_$50to74K'], p(df['percent_hIncome_$50to74K']), 'purple')\n",
    "plt.show()"
   ]
  },
  {
   "cell_type": "code",
   "execution_count": null,
   "metadata": {},
   "outputs": [],
   "source": [
    "# Scatter plot:\n",
    "plt.scatter(df['percent_hIncome_$75to99K'], df['HO_poor_mental_health'], marker='o', facecolors='blue',\n",
    "            edgecolors='black', alpha=0.5)\n",
    "plt.title(\"% population with household income between $75,000 and $99,999 and prevalence of poor mental health\")\n",
    "plt.xlabel(\"% population with household income between $75,000 and $99,999\")\n",
    "plt.ylabel(\"Prevalence of Poor Mental Health\")\n",
    "# adding a trendline\n",
    "z = np.polyfit(df['percent_hIncome_$75to99K'], df['HO_poor_mental_health'], 1)\n",
    "p = np.poly1d(z)\n",
    "plt.plot(df['percent_hIncome_$75to99K'], p(df['percent_hIncome_$75to99K']), 'purple')\n",
    "plt.show()"
   ]
  },
  {
   "cell_type": "code",
   "execution_count": null,
   "metadata": {},
   "outputs": [],
   "source": [
    "# Scatter plot:\n",
    "plt.scatter(df['percent_hIncome_over$99K'], df['HO_poor_mental_health'], marker='o', facecolors='blue',\n",
    "            edgecolors='black', alpha=0.5)\n",
    "plt.title(\"% population with household income over $99,999 and prevalence of poor mental health\")\n",
    "plt.xlabel(\"% population with household income over $99,999\")\n",
    "plt.ylabel(\"Prevalence of Poor Mental Health\")\n",
    "# adding a trendline\n",
    "z = np.polyfit(df['percent_hIncome_over$99K'], df['HO_poor_mental_health'], 1)\n",
    "p = np.poly1d(z)\n",
    "plt.plot(df['percent_hIncome_over$99K'], p(df['percent_hIncome_over$99K']), 'purple')\n",
    "plt.show()"
   ]
  },
  {
   "cell_type": "code",
   "execution_count": null,
   "metadata": {},
   "outputs": [],
   "source": [
    "# Looking at educational attainment distribution across MH quantiles\n",
    "sns.set_style(\"whitegrid\")\n",
    "sns.set_palette(\"cubehelix\", 4)\n",
    "MH_groups = df.groupby(['quantile'])\n",
    "MH_education = MH_groups['percent_lessThanHS', 'percent_HS', 'percent_someCollege',\n",
    "                         'percent_college'].mean().reset_index()\n",
    "MH_education.plot.bar(stacked=True, figsize=(20, 10))\n",
    "plt.show()"
   ]
  },
  {
   "cell_type": "code",
   "execution_count": null,
   "metadata": {},
   "outputs": [],
   "source": [
    "anova_analysis(df, 'percent_lessThanHS')"
   ]
  },
  {
   "cell_type": "code",
   "execution_count": null,
   "metadata": {},
   "outputs": [],
   "source": [
    "anova_analysis(df, 'percent_HS')"
   ]
  },
  {
   "cell_type": "code",
   "execution_count": null,
   "metadata": {},
   "outputs": [],
   "source": [
    "anova_analysis(df, 'percent_someCollege')"
   ]
  },
  {
   "cell_type": "code",
   "execution_count": null,
   "metadata": {},
   "outputs": [],
   "source": [
    "anova_analysis(df, 'percent_college')"
   ]
  },
  {
   "cell_type": "code",
   "execution_count": null,
   "metadata": {},
   "outputs": [],
   "source": [
    "# Scatter plot:\n",
    "plt.scatter(df['percent_lessThanHS'], df['HO_poor_mental_health'], marker='o', facecolors='blue',\n",
    "            edgecolors='black', alpha=0.5)\n",
    "plt.title(\"% population with less than a high school degree and prevalence of poor mental health\")\n",
    "plt.xlabel(\"% population with less than a high school degreen\")\n",
    "plt.ylabel(\"Prevalence of Poor Mental Health\")\n",
    "# adding a trendline\n",
    "z = np.polyfit(df['percent_lessThanHS'], df['HO_poor_mental_health'], 1)\n",
    "p = np.poly1d(z)\n",
    "plt.plot(df['percent_lessThanHS'], p(df['percent_lessThanHS']), 'purple')\n",
    "plt.show()"
   ]
  },
  {
   "cell_type": "code",
   "execution_count": null,
   "metadata": {},
   "outputs": [],
   "source": [
    "# Scatter plot:\n",
    "plt.scatter(df['percent_HS'], df['HO_poor_mental_health'], marker='o', facecolors='blue',\n",
    "            edgecolors='black', alpha=0.5)\n",
    "plt.title(\"% population with a high school degree and prevalence of poor mental health\")\n",
    "plt.xlabel(\"% population with a high school degree\")\n",
    "plt.ylabel(\"Prevalence of Poor Mental Health\")\n",
    "# adding a trendline\n",
    "z = np.polyfit(df['percent_HS'], df['HO_poor_mental_health'], 1)\n",
    "p = np.poly1d(z)\n",
    "plt.plot(df['percent_HS'], p(df['percent_HS']), 'purple')\n",
    "plt.show()"
   ]
  },
  {
   "cell_type": "code",
   "execution_count": null,
   "metadata": {},
   "outputs": [],
   "source": [
    "# Scatter plot:\n",
    "plt.scatter(df['percent_someCollege'], df['HO_poor_mental_health'], marker='o', facecolors='blue',\n",
    "            edgecolors='black', alpha=0.5)\n",
    "plt.title(\"% population with some college or associate's degree and prevalence of poor mental health\")\n",
    "plt.xlabel(\"% population with some college or associate's degree\")\n",
    "plt.ylabel(\"Prevalence of Poor Mental Health\")\n",
    "# adding a trendline\n",
    "z = np.polyfit(df['percent_someCollege'], df['HO_poor_mental_health'], 1)\n",
    "p = np.poly1d(z)\n",
    "plt.plot(df['percent_someCollege'], p(df['percent_someCollege']), 'purple')\n",
    "plt.show()"
   ]
  },
  {
   "cell_type": "code",
   "execution_count": null,
   "metadata": {},
   "outputs": [],
   "source": [
    "# Scatter plot:\n",
    "plt.scatter(df['percent_college'], df['HO_poor_mental_health'], marker='o', facecolors='blue',\n",
    "            edgecolors='black', alpha=0.5)\n",
    "plt.title(\"% population with a Bachelor's degree or higher and prevalence of poor mental health\")\n",
    "plt.xlabel(\"% population with a Bachelor's degree or higher\")\n",
    "plt.ylabel(\"Prevalence of Poor Mental Health\")\n",
    "# adding a trendline\n",
    "z = np.polyfit(df['percent_college'], df['HO_poor_mental_health'], 1)\n",
    "p = np.poly1d(z)\n",
    "plt.plot(df['percent_college'], p(df['percent_college']), 'purple')\n",
    "plt.show()"
   ]
  },
  {
   "cell_type": "code",
   "execution_count": null,
   "metadata": {},
   "outputs": [],
   "source": [
    "# Looking at gender distribution across MH quantiles\n",
    "sns.set_style(\"whitegrid\")\n",
    "sns.set_palette(\"cubehelix\", 2)\n",
    "MH_groups = df.groupby(['quantile'])\n",
    "MH_gender = MH_groups['percent_male', 'percent_female'].mean().reset_index()\n",
    "MH_gender.plot.bar(stacked=True, figsize=(20, 10))\n",
    "plt.show()"
   ]
  },
  {
   "cell_type": "markdown",
   "metadata": {},
   "source": [
    "### MULTIPLE REGRESSION ANALYSIS MODEL"
   ]
  },
  {
   "cell_type": "code",
   "execution_count": null,
   "metadata": {},
   "outputs": [],
   "source": [
    "# Create DataFrame x to hold our independent variables (all of our socioeconomic indicators)\n",
    "ind_varA = df[['percent_age18to24', 'percent_age25to34',\n",
    "       'percent_age35to44', 'percent_age45to54', 'percent_age55to64',\n",
    "       'percent_age_over64', 'percent_male', 'percent_female',\n",
    "       'percent_lessThanHS', 'percent_HS',\n",
    "       'percent_someCollege', 'percent_college', 'percent_hIncome_under$25K',\n",
    "       'percent_hIncome_$25to49K', 'percent_hIncome_$50to74K',\n",
    "       'percent_hIncome_$75to99K', 'percent_hIncome_over$99K']]\n",
    "mult_reg(ind_varA)"
   ]
  },
  {
   "cell_type": "code",
   "execution_count": null,
   "metadata": {},
   "outputs": [],
   "source": [
    "# Create DataFrame x to hold our independent variables (all of our socioeconomic indicators\n",
    "# minus 'percent_age35to44', 'percent_age45to54', 'percent_male',\n",
    "# 'percent_hIncome_$25to49K', 'percent_hIncome_$50to74K', 'percent_hIncome_$75to99K')\n",
    "ind_varB = df[['percent_age18to24', 'percent_age25to34', 'percent_age55to64', 'percent_age_over64',\n",
    "               'percent_female', 'percent_lessThanHS', 'percent_HS', 'percent_someCollege', 'percent_college',\n",
    "               'percent_hIncome_under$25K', 'percent_hIncome_over$99K']]\n",
    "mult_reg(ind_varB)"
   ]
  },
  {
   "cell_type": "code",
   "execution_count": null,
   "metadata": {},
   "outputs": [],
   "source": [
    "# Create DataFrame x to hold our independent variables (all of the previous\n",
    "# minus 'percent_age25to34', 'percent_age45to54', 'percent_age55to64')\n",
    "ind_varC = df[['percent_age_over64', 'percent_female', 'percent_lessThanHS', 'percent_HS', 'percent_someCollege',\n",
    "               'percent_college', 'percent_hIncome_under$25K', 'percent_hIncome_over$99K']]\n",
    "mult_reg(ind_varC)"
   ]
  },
  {
   "cell_type": "markdown",
   "metadata": {},
   "source": [
    "## COMBINING BOTH MLR MODELS to predict Prevalence of Poor Mental Health\n",
    "In this section we combine both our results from the multiple linear regression analysis on the health indicators and the multiple regression analysis on the socioeconomic variables and build our final model for predicting the prevalence of poor mental health in U.S. cities.\n",
    "We conclude with a graph highlighting the importance of two health behaviors the CDC could focus its resources on improving."
   ]
  },
  {
   "cell_type": "markdown",
   "metadata": {},
   "source": [
    "### FINAL MULTIPLE REGRESSION ANALYSIS MODEL"
   ]
  },
  {
   "cell_type": "code",
   "execution_count": null,
   "metadata": {},
   "outputs": [],
   "source": [
    "ind_final1 = df[['UB_less_sleep', 'UB_lack_physical_activity', 'UB_current_smoking', 'UB_binge_drinking',\n",
    "                 'PS_lack_health_ins', 'PS_older_men_uptodate', 'PS_older_women_uptodate',\n",
    "                 'percent_age_over64', 'percent_female', 'percent_lessThanHS', 'percent_HS',\n",
    "                 'percent_someCollege', 'percent_college', 'percent_hIncome_under$25K',\n",
    "                 'percent_hIncome_over$99K']]\n",
    "mult_reg(ind_final1)"
   ]
  },
  {
   "cell_type": "code",
   "execution_count": null,
   "metadata": {},
   "outputs": [],
   "source": [
    "# final 1 minus 'PS_lack_health_ins', 'PS_older_men_uptodate', 'percent_female', 'percent_HS',\n",
    "# 'percent_college'\n",
    "ind_final2 = df[['UB_less_sleep', 'UB_lack_physical_activity', 'UB_current_smoking', 'UB_binge_drinking',\n",
    "                 'PS_older_women_uptodate',\n",
    "                 'percent_age_over64', 'percent_lessThanHS',\n",
    "                 'percent_someCollege', 'percent_hIncome_under$25K',\n",
    "                 'percent_hIncome_over$99K']]\n",
    "mult_reg(ind_final2)"
   ]
  },
  {
   "cell_type": "markdown",
   "metadata": {},
   "source": [
    "### CONCLUDING GRAPH"
   ]
  },
  {
   "cell_type": "code",
   "execution_count": null,
   "metadata": {},
   "outputs": [],
   "source": [
    "# Obtain the x and y coordinates for each of the four MH quantiles\n",
    "\n",
    "UBQ1_current_smoking = df[df[\"quantile\"] == 'low']['UB_current_smoking']\n",
    "UBQ2_current_smoking = df[df[\"quantile\"] == 'low-med']['UB_current_smoking']\n",
    "UBQ3_current_smoking = df[df[\"quantile\"] == 'med-high']['UB_current_smoking']\n",
    "UBQ4_current_smoking = df[df[\"quantile\"] == 'high']['UB_current_smoking']\n",
    "\n",
    "UBQ1_less_sleep = df[df[\"quantile\"] == 'low']['UB_less_sleep']\n",
    "UBQ2_less_sleep = df[df[\"quantile\"] == 'low-med']['UB_less_sleep']\n",
    "UBQ3_less_sleep = df[df[\"quantile\"] == 'med-high']['UB_less_sleep']\n",
    "UBQ4_less_sleep = df[df[\"quantile\"] == 'high']['UB_less_sleep']\n",
    "\n",
    "SEQ1 = df[df[\"quantile\"] == 'low']['percent_hIncome_under$25K']\n",
    "SEQ2 = df[df[\"quantile\"] == 'low-med']['percent_hIncome_under$25K']\n",
    "SEQ3 = df[df[\"quantile\"] == 'med-high']['percent_hIncome_under$25K']\n",
    "SEQ4 = df[df[\"quantile\"] == 'high']['percent_hIncome_under$25K']\n",
    "\n",
    "# Build the scatter plots for each mental health quantile\n",
    "plt.figure(figsize=(20, 10))\n",
    "\n",
    "UBQ1 = plt.scatter(UBQ1_current_smoking, UBQ1_less_sleep, s=SEQ1*900, facecolors='lightgreen',\n",
    "                    linewidths=1, edgecolors='black', alpha=0.75, label=\"MHQ1\")\n",
    "UBQ2 = plt.scatter(UBQ2_current_smoking, UBQ2_less_sleep, s=SEQ2*900, facecolors='gold',\n",
    "                    linewidths=1, edgecolors='black', alpha=0.75, label=\"MHQ2\")\n",
    "UBQ3 = plt.scatter(UBQ3_current_smoking, UBQ3_less_sleep, s=SEQ3*900, facecolors='blue',\n",
    "                    linewidths=1, edgecolors='black', alpha=0.5, label=\"MHQ3\")\n",
    "UBQ4 = plt.scatter(UBQ4_current_smoking, UBQ4_less_sleep, s=SEQ4*900, facecolors='red',\n",
    "                    linewidths=1, edgecolors='black', alpha=0.5, label=\"MHQ4\")\n",
    "\n",
    "# Incorporate the other graph properties\n",
    "plt.title(\"2016 Health Survey Data (Per City)\")\n",
    "plt.xlabel(\"Prevalence of current smoking\")\n",
    "plt.ylabel(\"Prevalence of lack of sleep\")\n",
    "plt.grid()\n",
    "\n",
    "# Create a legend\n",
    "plt.legend(handles=[UBQ1, UBQ2, UBQ3, UBQ4], loc=\"lower right\", markerscale=0.5, title=\"Quantiles\")\n",
    "#Legend(numpoints=None, markerscale=None, markerfirst=True, scatterpoints=None, scatteryoffsets=None,\n",
    "#prop=None, fontsize=None, borderpad=None, labelspacing=None, handlelength=None, handleheight=None, handletextpad=None, borderaxespad=None, columnspacing=None, ncol=1, mode=None, fancybox=None, shadow=None, title=None, title_fontsize=None, framealpha=None, edgecolor=None, facecolor=None, bbox_to_anchor=None, bbox_transform=None, frameon=None, handler_map=None)\n",
    "\n",
    "# Save Figure\n",
    "plt.savefig(\"MH_bubble_plot.png\")"
   ]
  },
  {
   "cell_type": "code",
   "execution_count": null,
   "metadata": {},
   "outputs": [],
   "source": [
    "# Bonus graph - Looking at the prevalence of lack of health insurance as the scalar for the bubble\n",
    "UBQ1_lack_health_ins = df[df[\"quantile\"] == 'low']['PS_lack_health_ins']\n",
    "UBQ2_lack_health_ins = df[df[\"quantile\"] == 'low-med']['PS_lack_health_ins']\n",
    "UBQ3_lack_health_ins = df[df[\"quantile\"] == 'med-high']['PS_lack_health_ins']\n",
    "UBQ4_lack_health_ins = df[df[\"quantile\"] == 'high']['PS_lack_health_ins']\n",
    "plt.figure(figsize=(20, 10))\n",
    "UBQ1 = plt.scatter(UBQ1_current_smoking, UBQ1_less_sleep, s=UBQ1_lack_health_ins*9, facecolors='lightgreen',\n",
    "                    linewidths=1, edgecolors='black', alpha=0.75, label=\"MHQ1\")\n",
    "UBQ2 = plt.scatter(UBQ2_current_smoking, UBQ2_less_sleep, s=UBQ2_lack_health_ins*9, facecolors='gold',\n",
    "                    linewidths=1, edgecolors='black', alpha=0.75, label=\"MHQ2\")\n",
    "UBQ3 = plt.scatter(UBQ3_current_smoking, UBQ3_less_sleep, s=UBQ3_lack_health_ins*9, facecolors='blue',\n",
    "                    linewidths=1, edgecolors='black', alpha=0.5, label=\"MHQ3\")\n",
    "UBQ4 = plt.scatter(UBQ4_current_smoking, UBQ4_less_sleep, s=UBQ4_lack_health_ins*9, facecolors='red',\n",
    "                    linewidths=1, edgecolors='black', alpha=0.5, label=\"MHQ4\")"
   ]
  },
  {
   "cell_type": "markdown",
   "metadata": {},
   "source": [
    "### ------------------------------"
   ]
  },
  {
   "cell_type": "markdown",
   "metadata": {},
   "source": [
    "# POST-MORTEM\n",
    "In this section we touch on additional analysis we would want to perform for this study"
   ]
  },
  {
   "cell_type": "code",
   "execution_count": 77,
   "metadata": {},
   "outputs": [
    {
     "data": {
      "text/plain": [
       "Index(['geo_id', 'HO_poor_mental_health', 'UB_binge_drinking',\n",
       "       'UB_current_smoking', 'UB_lack_physical_activity', 'UB_obesity',\n",
       "       'UB_less_sleep', 'PS_lack_health_ins', 'PS_older_men_uptodate',\n",
       "       'PS_older_women_uptodate', 'lat', 'lng', 'state', 'PlaceName',\n",
       "       'percent_age18to24', 'percent_age25to34', 'percent_age35to44',\n",
       "       'percent_age45to54', 'percent_age55to64', 'percent_age_over64',\n",
       "       'percent_male', 'percent_female', 'percent_lessThanHS', 'percent_HS',\n",
       "       'percent_someCollege', 'percent_college', 'percent_hIncome_under$25K',\n",
       "       'percent_hIncome_$25to49K', 'percent_hIncome_$50to74K',\n",
       "       'percent_hIncome_$75to99K', 'percent_hIncome_over$99K'],\n",
       "      dtype='object')"
      ]
     },
     "execution_count": 77,
     "metadata": {},
     "output_type": "execute_result"
    }
   ],
   "source": [
    "df.columns"
   ]
  },
  {
   "cell_type": "code",
   "execution_count": 80,
   "metadata": {},
   "outputs": [
    {
     "name": "stdout",
     "output_type": "stream",
     "text": [
      "TOP 10 CITIES WITH LOWEST PREVALENCE OF POOR MENTAL HEALTH:\n",
      "-----------------------------------------------------------\n",
      "  state      PlaceName  HO_poor_mental_health  UB_current_smoking  \\\n",
      "0    MN       Plymouth               7.973333           12.493333   \n",
      "1    CA      Sunnyvale               8.031034            8.748276   \n",
      "2    CA      San Ramon               8.280000            9.220000   \n",
      "3    WA       Bellevue               8.317857            8.785714   \n",
      "4    KS  Overland Park               8.360417           12.585417   \n",
      "5    CA        Fremont               8.432558           10.209302   \n",
      "6    TX     Sugar Land               8.483333           11.850000   \n",
      "7    CA  Mountain View               8.505000            9.160000   \n",
      "8    CA  Newport Beach               8.523810            9.166667   \n",
      "9    IL     Naperville               8.566667           12.272222   \n",
      "\n",
      "   UB_less_sleep  \n",
      "0      26.806667  \n",
      "1      30.775862  \n",
      "2      31.826667  \n",
      "3      28.489286  \n",
      "4      25.679167  \n",
      "5      34.530233  \n",
      "6      31.911111  \n",
      "7      29.770000  \n",
      "8      27.400000  \n",
      "9      30.211111  \n",
      "WORST 10 CITIES WITH HIGHEST PREVALENCE OF POOR MENTAL HEALTH:\n",
      "-----------------------------------------------------------\n",
      "  state    PlaceName  HO_poor_mental_health  UB_current_smoking  UB_less_sleep\n",
      "0    MI        Flint              18.702564           30.223077      49.528205\n",
      "1    NJ       Camden              18.568421           26.410526      50.047368\n",
      "2    MA  New Bedford              18.567742           26.987097      40.567742\n",
      "3    PA      Reading              18.322222           24.270370      45.355556\n",
      "4    MI      Detroit              18.190753           28.671575      50.032192\n",
      "5    MA   Fall River              18.132000           27.184000      39.712000\n",
      "6    MA  Springfield              17.529730           24.013514      39.194595\n",
      "7    NY    Rochester              17.361538           25.807692      41.061538\n",
      "8    NJ      Trenton              17.208333           23.879167      46.016667\n",
      "9    OH       Dayton              17.105263           28.200000      45.536842\n"
     ]
    }
   ],
   "source": [
    "# Extract top 10 worst cities for prevalence of poor mental health\n",
    "df_sorted_descending = df[['state', 'PlaceName', 'HO_poor_mental_health', 'UB_current_smoking', 'UB_less_sleep',\n",
    "                'lat', 'lng']].sort_values('HO_poor_mental_health', ascending=False).reset_index()\n",
    "df_sorted_ascending = df[['state', 'PlaceName', 'HO_poor_mental_health', 'UB_current_smoking', 'UB_less_sleep',\n",
    "                'lat', 'lng']].sort_values('HO_poor_mental_health', ascending=True).reset_index()\n",
    "df_worst10 = df_sorted_descending.iloc[0:10, :]\n",
    "df_top10 = df_sorted_ascending.iloc[0:10, :]\n",
    "print(\"TOP 10 CITIES WITH LOWEST PREVALENCE OF POOR MENTAL HEALTH:\")\n",
    "print(\"-----------------------------------------------------------\")\n",
    "print(df_top10[['state', 'PlaceName', 'HO_poor_mental_health', 'UB_current_smoking', 'UB_less_sleep']])\n",
    "print(\"WORST 10 CITIES WITH HIGHEST PREVALENCE OF POOR MENTAL HEALTH:\")\n",
    "print(\"-----------------------------------------------------------\")\n",
    "print(df_worst10[['state', 'PlaceName', 'HO_poor_mental_health', 'UB_current_smoking', 'UB_less_sleep']])"
   ]
  },
  {
   "cell_type": "code",
   "execution_count": null,
   "metadata": {},
   "outputs": [],
   "source": [
    "# Plot heatmap for prevalence of poor mental health by census tracts\n",
    "fig2 = gmaps.figure()\n",
    "fig2.add_layer(heat_layer)\n",
    "\n",
    "# Create a marker layer showing top 10 worst cities for prevalence of poor mental health with an info box\n",
    "cities_worst = df[df[\"quantile\"] == 'high'][['lat', 'lng', 'HO_poor_mental_health']]\n",
    "loc_cities = cities_worst[['lat', 'lng']]\n",
    "scores = cities_worst['HO_poor_mental_health'].tolist()\n",
    "markers = gmaps.marker_layer(loc_cities, info_box_content=[f\"MH score: {round(score,2)}\" for score in scores])\n",
    "fig2.add_layer(markers)\n",
    "\n",
    "fig2  # Display figure"
   ]
  },
  {
   "cell_type": "code",
   "execution_count": null,
   "metadata": {},
   "outputs": [],
   "source": [
    "df.columns"
   ]
  },
  {
   "cell_type": "code",
   "execution_count": null,
   "metadata": {},
   "outputs": [],
   "source": []
  }
 ],
 "metadata": {
  "kernelspec": {
   "display_name": "Python 3",
   "language": "python",
   "name": "python3"
  },
  "language_info": {
   "codemirror_mode": {
    "name": "ipython",
    "version": 3
   },
   "file_extension": ".py",
   "mimetype": "text/x-python",
   "name": "python",
   "nbconvert_exporter": "python",
   "pygments_lexer": "ipython3",
   "version": "3.6.6"
  }
 },
 "nbformat": 4,
 "nbformat_minor": 2
}
