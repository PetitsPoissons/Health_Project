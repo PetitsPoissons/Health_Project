{
 "cells": [
  {
   "cell_type": "markdown",
   "metadata": {},
   "source": [
    "# Some ideas for research questions:"
   ]
  },
  {
   "cell_type": "markdown",
   "metadata": {},
   "source": [
    "### What are some demographic indicators that significantly correlate with the prevalence of poor mental health in the U.S.?\n",
    "\n",
    "### What are some health indicators that significantly correlate with the prevalence of poor mental health in the U.S.? \n",
    "\n",
    "### What are some specific differences we notice among insured and uninsured people? How can our findings inform the debate over medicare for all and other policies related to health coverage in the U.S.?\n",
    "\n",
    "### Measure for prevalence of poor mental health:\n",
    "Model-based estimate for crude prevalence of mental health not good for >=14 days among adults aged >=18 years, 2016"
   ]
  },
  {
   "cell_type": "markdown",
   "metadata": {},
   "source": [
    "# Exploring differences in various health indicators by mental health (MH) bins"
   ]
  },
  {
   "cell_type": "markdown",
   "metadata": {},
   "source": [
    "### Physical Health\n",
    "There are significant differences in prevalence of poor physical health (see ANOVA test). Tukey's Range test reveals that all pairs are statistically significantly different with respect to prevalence of poor physical health.\n",
    "### Binge Drinking\n",
    "There are significant differences in prevalence of binge drinking (see ANOVA test). Tukey's Range test reveals that all pairs are statistically significantly different with respect to prevalence of binge drinking, except for the pair Q1~Q2.\n",
    "### Current Smoking\n",
    "There are significant differences in prevalence of current smoking (see ANOVA test). Tukey's Range test reveals that all pairs are statistically significantly different with respect to prevalence of current smoking.\n",
    "### Physical Activity\n",
    "There are significant differences in prevalence of lack of physical activity (see ANOVA test). Tukey's Range test reveals that all pairs are statistically significantly different with respect to prevalence of lack of physical activity.\n",
    "### Obesity\n",
    "There are significant differences in prevalence of obesity (see ANOVA test). Tukey's Range test reveals that all pairs are statistically significantly different with respect to prevalence of obesity.\n",
    "### Sleep\n",
    "There are significant differences in prevalence of lack of sleep (see ANOVA test). Tukey's Range test reveals that all pairs are statistically significantly different with respect to prevalence of lack of sleep.\n",
    "### Health Insurance\n",
    "There are significant differences in prevalence of lack of health insurance (see ANOVA test). Tukey's Range test reveals that all pairs are statistically significantly different with respect to prevalence of lack of health insurance, except for the pair Q3~Q4.\n",
    "### Routine & Dental Check-Ups\n",
    "- There are significant differences in prevalence of routine check-ups (see ANOVA test). Tukey's Range test reveals that three pairs (Q1~Q4, Q2~Q3 and Q2~Q4) are statistically significantly different with respect to prevalence of routine check-ups.\n",
    "- There are significant differences in prevalence of dental check-ups (see ANOVA test). Tukey's Range test reveals that all pairs are statistically significantly different with respect to prevalence of dental check-ups.\n",
    "\n",
    "### Older Men & Women Preventive Health\n",
    "- There are significant differences in prevalence of older men up to date with clinical preventive services (see ANOVA test). Tukey's Range test reveals that all pairs are statistically significantly different with respect to prevalence of older men up to date with clinical preventive services.\n",
    "- There are significant differences in prevalence of older women up to date with clinical preventive services (see ANOVA test). Tukey's Range test reveals that all pairs are statistically significantly different with respect to prevalence of older women up to date with clinical preventive services."
   ]
  },
  {
   "cell_type": "markdown",
   "metadata": {},
   "source": [
    "# Exploring differences in demographic indicators by mental health (MH) bins"
   ]
  },
  {
   "cell_type": "markdown",
   "metadata": {},
   "source": [
    "### City Population Size\n",
    "- <b>'population_CNI'</b> - Total civilian noninstitutionalized population; 2016 estimate from ACS (counts)\n",
    "- <b>'age18to64'</b> - Total civilian noninstitutionalized population between the ages of 18 and 64, 2016 estimate from ACS (counts)\n",
    "- There is NO significant difference in city population size ('population_CNI') by levels of prevalence of poor mental health (see ANOVA test).\n",
    "- There is NO significant difference in city population size (only looking at ages 18 to 64) by levels of prevalence of poor mental health (see ANOVA test).\n",
    "\n",
    "### Age Groups\n",
    "- <b>'percent_age18to24'</b> - Calculated field based on ACS 2016 estimates of 18-24 age group and 18-64 age group (counts)\n",
    "- <b>'percent_age25to34'</b> - Calculated field based on ACS 2016 estimates of 25-34 age group and 18-64 age group (counts)\n",
    "- <b>'percent_age35to44'</b> - Calculated field based on ACS 2016 estimates of 35-44 age group and 18-64 age group (counts)\n",
    "- <b>'percent_age45to54'</b> - Calculated field based on ACS 2016 estimates of 45-54 age group and 18-64 age group (counts)\n",
    "- <b>'percent_age55to64'</b> - Calculated field based on ACS 2016 estimates of 55-64 age group and 18-64 age group (counts)\n",
    "<u>Results:</u>\n",
    "- There are significant differences in % population between ages 18 and 24 and prevalence of poor mental health (see ANOVA test). Tukey's Range test reveals that all pairs are statistically significantly different, except for the pair Q2~Q3. <b>The higher the proportion of the city population is between ages 18 and 24, the higher the prevalence of poor mental health.</b>\n",
    "- There are significant differences in % population between ages 25 and 34 and prevalence of poor mental health (see ANOVA test). Tukey's Range test reveals that Q1 is statistically different from the other 3 groups. <b>The quartile with the lowest prevalence of poor mental health has a significantly lower proportion of population between ages 25 and 34.</b>\n",
    "- There are significant differences in % population between ages 35 and 44 and prevalence of poor mental health (see ANOVA test). Tukey's Range test reveals that Q1 is statistically different from the other 3 groups. <b>The quartile with the lowest prevalence of poor mental health has a significantly higher proportion of population between ages 35 and 44.</b>\n",
    "- There are significant differences in % population between ages 45 and 54 and prevalence of poor mental health (see ANOVA test). Tukey's Range test reveals that all pairs are statistically significantly different, except for the pair Q2~Q3. <b>The quartile with the lowest prevalence of poor mental health has a significantly higher proportion of population between ages 45 and 54, whereas the quartile with the highest prevalence of poor mental health has a significantly lower proportion of population between ages 45 and 54.</b>\n",
    "- There are significant differences in % population between ages 55 and 64 and prevalence of poor mental health (see ANOVA test). Tukey's Range test reveals that only the pair Q1~Q4 has a statistically significant difference. <b>The quartile with the lowest prevalence of poor mental health has a significantly higher proportion of population between ages 55 and 64 than the quartile with the highest prevalence of poor mental health.</b>\n",
    "\n",
    "### Gender\n",
    "- <b>'percent_male'</b> - Calculated field based on ACS 2016 estimates of males and females in the population (counts)\n",
    "- <b>'percent_female'</b> - Calculated field based on ACS 2016 estimates of males and females in the population (counts)\n",
    "<u>Results:</u>\n",
    "- There are significant differences in % male in population and prevalence of poor mental health (see ANOVA test). Tukey's Range test reveals that Q4 is statistically different from the other 3 groups. <b>The quartile with the highest prevalence of poor mental health has a significantly lower proportion of males in the population than the other three quartiles.</b>\n",
    "\n",
    "### Disability\n",
    "- <b>'percent_disability'</b> - Calculated field based on ACS 2016 estimates of number of persons with a disability in the population (counts)\n",
    "<u>Results:</u>\n",
    "- There are significant differences in % persons with a disability in the population and prevalence of poor mental health (see ANOVA test). Tukey's Range test reveals that all 4 quartiles are statistically different from the each. <b>The higher the proportion of persons with a disability in the population, the higher the prevalence of poor mental health.</b>\n",
    "\n",
    "### Educational Attainment\n",
    "- <b>'percent_lessThanHS'</b> - Calculated field based on ACS 2016 estimates of number of persons 25 years and over with less than a high school degree and number of persons 25 years and over in the population (counts)\n",
    "- <b>'percent_HS'</b> - Calculated field based on ACS 2016 estimates of number of persons 25 years and over with a high school degree and number of persons 25 years and over in the population (counts)\n",
    "- <b>'percent_someCollege'</b> - Calculated field based on ACS 2016 estimates of number of persons 25 years and over with some college or associate's degree and number of persons 25 years and over in the population (counts)\n",
    "- <b>'percent_college'</b> - Calculated field based on ACS 2016 estimates of number of persons 25 years and over with a Bachelor's degree or higher and number of persons 25 years and over in the population (counts)\n",
    "<br><u>Results:</u>\n",
    "- There are significant differences in % persons with less than a high school degree in the population and prevalence of poor mental health (see ANOVA test). Tukey's Range test reveals that all 4 quartiles are statistically different from the each. <b>The higher the proportion of persons with less than a high school degree in the population, the higher the prevalence of poor mental health.</b>\n",
    "- There are significant differences in % persons with a high school degree in the population and prevalence of poor mental health (see ANOVA test). Tukey's Range test reveals that all 4 quartiles are statistically different from the each. <b>The higher the proportion of persons with only a high school degree in the population, the higher the prevalence of poor mental health.</b>\n",
    "- There are significant differences in % population with some college or associate's degree and prevalence of poor mental health (see ANOVA test). Tukey's Range test reveals that Q1 is statistically different from the other 3 groups. <b>The quartile with the lowest prevalence of poor mental health has a significantly lower proportion of persons with some college or associate's degree in the population than the other three quartiles.</b>\n",
    "- There are significant differences in % population with a Bachelor's degree or higher and prevalence of poor mental health (see ANOVA test). Tukey's Range test reveals that all 4 quartiles are statistically different from the each. <b>The higher the proportion of persons with a Bachelor's degree or higher in the population, the lower the prevalence of poor mental health.</b>\n",
    "\n",
    "### Household income\n",
    "- <b>'percent_hIncome_under25K'</b> - Calculated field based on ACS 2016 estimates of number of households with household income under 25,000 and total number of households in the population (counts)\n",
    "- <b>'percent_hIncome_25to49K'</b> - Calculated field based on ACS 2016 estimates of number of households with household income between 25,000 and 49,999 and total number of households in the population (counts)\n",
    "- <b>'percent_hIncome_50to74K'</b> - Calculated field based on ACS 2016 estimates of number of households with household income between 50,000 and 74,999 and total number of households in the population (counts)\n",
    "- <b>'percent_hIncome_75to99K'</b> - Calculated field based on ACS 2016 estimates of number of households with household income between 75,000 and 99,999 and total number of households in the population (counts)\n",
    "- <b>'percent_hIncome_over99K'</b> - Calculated field based on ACS 2016 estimates of number of households with household income over 99,999 and total number of households in the population (counts)\n",
    "<br><u>Results:</u>\n",
    "- There are significant differences in % population with household income under 25,000 and prevalence of poor mental health (see ANOVA test). Tukey's Range test reveals that all 4 quartiles are statistically different from the each. <b>The higher the proportion of persons with household income under 25,000 in the population, the higher the prevalence of poor mental health.</b>\n",
    "- There are significant differences in % population with household income between 25,000 and 49,999 and prevalence of poor mental health (see ANOVA test). Tukey's Range test reveals that all 4 quartiles are statistically different from the each. <b>The higher the proportion of persons with household income between 25,000 and 49,999 in the population, the higher the prevalence of poor mental health.</b>\n",
    "- There are significant differences in % population with household income between 50,000 and 74,999 and prevalence of poor mental health (see ANOVA test). Tukey's Range test reveals statistically significant differences between Q1 and each of the other 3 quartiles as well as within the pair Q2~Q3. <b>The quartile with the lowest prevalence of poor mental health has a significantly lower proportion of households with income between 50,000 and 74,999 in the population than the other three quartiles. Then the differences level off.</b>\n",
    "- There are significant differences in % population with household income between 50,000 and 74,999 and prevalence of poor mental health (see ANOVA test). Tukey's Range test reveals statistically significant differences among the pairs Q1~Q2, Q1~Q3, Q2~Q4 and Q3~Q4. <b>Overall it seems that among the bottom half for prevalence of poor mental health, the higher the proportion of persons with household income between 50,000 and 74,999 in the population, the higher the prevalence of poor mental health. This correlation gets reversed when looking at the top half for prevalence of poor mental health.</b>\n",
    "- There are significant differences in % population with household income over 99,999 and prevalence of poor mental health (see ANOVA test). Tukey's Range test reveals that all 4 quartiles are statistically different from the each. <b>The higher the proportion of persons with household income over 99,999 in the population, the lower the prevalence of poor mental health. [Clearly, money does not make you happy, but it helps!]</b>"
   ]
  },
  {
   "cell_type": "markdown",
   "metadata": {},
   "source": [
    "# Exploring correlations between % health insurance coverage and mental health along various demographic characteristics"
   ]
  },
  {
   "cell_type": "markdown",
   "metadata": {},
   "source": [
    "### Health Insurance Coverage by Age Groups\n",
    "- There are significant differences in % population insured by MH score (see ANOVA test). Tukey's Range test reveals that all pairs are statistically significantly different with respect to % population insured except for the pair Q3~Q4. <b>The higher the % of the population has insurance coverage, the lower the prevalence of poor mental health.</b>\n",
    "- There are significant differences in % population insured (ages 18 to 64) by MH score (see ANOVA test). Tukey's Range test reveals that all pairs are statistically significantly different with respect to % population insured (age 18 to 64) except for the pair Q3~Q4. <b>The higher the % of the population between 18 and 64 years old has insurance coverage, the lower the prevalence of poor mental health.</b>\n",
    "- There are significant differences in % population insured (ages 18 to 24) by MH score (see ANOVA test). Tukey's Range test reveals statistically significantly differences for all pairs, except for the two pairs Q1~Q2 and Q3~Q4. <b>The higher the % of the population between 18 and 24 years old has insurance coverage, the lower the prevalence of poor mental health.</b>\n",
    "- There are significant differences in % population insured (ages 25 to 34) by MH score (see ANOVA test). Tukey's Range test reveals statistically significantly differences for all pairs, except for the pairs Q3~Q4. <b>The higher the % of the population between 25 and 34 years old has insurance coverage, the lower the prevalence of poor mental health.</b>\n",
    "- There are significant differences in % population insured (ages 35 to 44) by MH score (see ANOVA test). Tukey's Range test reveals statistically significantly differences for all pairs, except for the pairs Q3~Q4. <b>The higher the % of the population between 35 and 44 years old has insurance coverage, the lower the prevalence of poor mental health.</b>\n"
   ]
  },
  {
   "cell_type": "code",
   "execution_count": null,
   "metadata": {},
   "outputs": [],
   "source": []
  }
 ],
 "metadata": {
  "kernelspec": {
   "display_name": "Python 3",
   "language": "python",
   "name": "python3"
  },
  "language_info": {
   "codemirror_mode": {
    "name": "ipython",
    "version": 3
   },
   "file_extension": ".py",
   "mimetype": "text/x-python",
   "name": "python",
   "nbconvert_exporter": "python",
   "pygments_lexer": "ipython3",
   "version": "3.6.4"
  }
 },
 "nbformat": 4,
 "nbformat_minor": 2
}
