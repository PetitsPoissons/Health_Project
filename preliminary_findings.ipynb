{
 "cells": [
  {
   "cell_type": "markdown",
   "metadata": {},
   "source": [
    "## Some ideas for research questions:"
   ]
  },
  {
   "cell_type": "markdown",
   "metadata": {},
   "source": [
    "#### What are some demographic indicators that significantly correlate with the prevalence of poor mental health in the U.S.?\n",
    "\n",
    "#### What are some health indicators that significantly correlate with the prevalence of poor mental health in the U.S.? \n",
    "\n",
    "#### What are some actionable independent variables that can help improve the mental health of Americans? How can our results inform the debate over health care in the country?\n",
    "\n",
    "-------------------------------------------\n",
    "Our preliminary findings indicate that smoking and lack of sleep have a significant adverse impact on mental health.\n",
    "\n",
    "In addition, we found that specific segments of the population are more susceptible to poor mental health. In particular the population segments ages 18 to 24, and then ages 35 to 44. Incidentally those are age groups more likely to suffer lack of sleep (late night studying or social activities for the younger segment, possibly child-rearing years for the 35-44 y.o. segment...?)\n",
    "\n",
    "We also found that educational attainment impacts mental health. Specifically the segment of the population with less than a high school degree has worse mental health outcomes. We observe the reverse relation for the segment of the population that has a Bachelor's or higher degree.\n",
    "\n",
    "Finally similar findings hold true with respect to household income. The segment of the population with a household income under 25,000 has worse mental health outcomes, whereas the segment of the population with a household income over 99,000 has better mental health outcomes. Money does not make you happy, but it seems to help!\n",
    "\n",
    "### Measure for prevalence of poor mental health:\n",
    "Model-based estimate for crude prevalence of mental health not good for >=14 days among adults aged >=18 years, 2016\n",
    "\n",
    "### Measure for prevalence of poor physical health:\n",
    "Model-based estimate for crude prevalence of physical health not good for >=14 days among adults aged >=18 years, 2016"
   ]
  },
  {
   "cell_type": "markdown",
   "metadata": {},
   "source": [
    "# Exploring differences in various health indicators by mental health (MH) bins"
   ]
  },
  {
   "cell_type": "markdown",
   "metadata": {},
   "source": [
    "### Physical Health\n",
    "- 'HO_poor_physical_health' - Model-based estimate for crude prevalence of physical health not good for >=14 days among adults aged >=18 years, 2016\n",
    "\n",
    "<u>Results:</u>\n",
    "There are significant differences in prevalence of poor physical health (see ANOVA test). Tukey's Range test reveals that all pairs are statistically significantly different with respect to prevalence of poor physical health.\n",
    "\n",
    "### Unhealthy Behaviors\n",
    "- 'UB_binge_drinking' - Model-based estimate for crude prevalence of binge drinking among adults aged >=18 years, 2016\n",
    "- 'UB_current_smoking' - Model-based estimate for crude prevalence of current smoking among adults aged >=18 years, 2016\n",
    "- 'UB_lack_physical_activity' - Model-based estimate for crude prevalence of no leisure-time physical activity among adults aged >=18 years, 2016\n",
    "- 'UB_obesity' - Model-based estimate for crude prevalence of obesity among adults aged >=18 years, 2016\n",
    "- 'UB_less_sleep' - Model-based estimate for crude prevalence of sleeping less than 7 hours among adults aged >=18 years, 2016\n",
    "\n",
    "<u>Results:</u>\n",
    "- There are significant differences in prevalence of binge drinking (see ANOVA test). Tukey's Range test reveals that all pairs are statistically significantly different with respect to prevalence of binge drinking, except for the pair Q1~Q2.\n",
    "- There are significant differences in prevalence of current smoking (see ANOVA test). Tukey's Range test reveals that all pairs are statistically significantly different with respect to prevalence of current smoking.\n",
    "- There are significant differences in prevalence of lack of physical activity (see ANOVA test). Tukey's Range test reveals that all pairs are statistically significantly different with respect to prevalence of lack of physical activity.\n",
    "- There are significant differences in prevalence of obesity (see ANOVA test). Tukey's Range test reveals that all pairs are statistically significantly different with respect to prevalence of obesity.\n",
    "- There are significant differences in prevalence of lack of sleep (see ANOVA test). Tukey's Range test reveals that all pairs are statistically significantly different with respect to prevalence of lack of sleep.\n",
    "\n",
    "### Preventive Services\n",
    "- 'PS_lack_health_ins' - Model-based estimate for crude prevalence of current lack of health insurance among adults aged 18-64 years, 2016\n",
    "- 'PS_routine_checkups' - Model-based estimate for crude prevalence of visits to doctor for routine checkup within the past year among adults aged >=18 years, 2016\n",
    "- 'PS_dental_checkups' - Model-based estimate for crude prevalence of visits to dentist or dental clinic among adults aged >=18 years, 2016\n",
    "\n",
    "<u>Results:</u>\n",
    "- There are significant differences in prevalence of lack of health insurance (see ANOVA test). Tukey's Range test reveals that all pairs are statistically significantly different with respect to prevalence of lack of health insurance, except for the pair Q3~Q4.\n",
    "- There are significant differences in prevalence of routine check-ups (see ANOVA test). Tukey's Range test reveals that three pairs (Q1~Q4, Q2~Q3 and Q2~Q4) are statistically significantly different with respect to prevalence of routine check-ups.\n",
    "- There are significant differences in prevalence of dental check-ups (see ANOVA test). Tukey's Range test reveals that all pairs are statistically significantly different with respect to prevalence of dental check-ups."
   ]
  },
  {
   "cell_type": "markdown",
   "metadata": {},
   "source": [
    "# Exploring differences in demographic indicators by mental health (MH) bins"
   ]
  },
  {
   "cell_type": "markdown",
   "metadata": {},
   "source": [
    "### City Population Size\n",
    "- <b>'population_CNI'</b> - Total civilian noninstitutionalized population; 2016 estimate from ACS (counts)\n",
    "- <b>'age18to64'</b> - Total civilian noninstitutionalized population between the ages of 18 and 64, 2016 estimate from ACS (counts)\n",
    "\n",
    "<u>Results:</u>\n",
    "- There is NO significant difference in city population size ('population_CNI') by levels of prevalence of poor mental health (see ANOVA test).\n",
    "- There is NO significant difference in city population size (only looking at ages 18 to 64) by levels of prevalence of poor mental health (see ANOVA test).\n",
    "\n",
    "### Age Groups\n",
    "- <b>'percent_age18to24'</b> - Calculated field based on ACS 2016 estimates of 18-24 age group and 18-64 age group (counts)\n",
    "- <b>'percent_age25to34'</b> - Calculated field based on ACS 2016 estimates of 25-34 age group and 18-64 age group (counts)\n",
    "- <b>'percent_age35to44'</b> - Calculated field based on ACS 2016 estimates of 35-44 age group and 18-64 age group (counts)\n",
    "- <b>'percent_age45to54'</b> - Calculated field based on ACS 2016 estimates of 45-54 age group and 18-64 age group (counts)\n",
    "- <b>'percent_age55to64'</b> - Calculated field based on ACS 2016 estimates of 55-64 age group and 18-64 age group (counts)\n",
    "\n",
    "<u>Results:</u>\n",
    "- There are significant differences in % population between ages 18 and 24 and prevalence of poor mental health (see ANOVA test). Tukey's Range test reveals that all pairs are statistically significantly different, except for the pair Q2~Q3. <b>The higher the proportion of the city population is between ages 18 and 24, the higher the prevalence of poor mental health.</b>\n",
    "- There are significant differences in % population between ages 25 and 34 and prevalence of poor mental health (see ANOVA test). Tukey's Range test reveals that Q1 is statistically different from the other 3 groups. <b>The quartile with the lowest prevalence of poor mental health has a significantly lower proportion of population between ages 25 and 34.</b>\n",
    "- There are significant differences in % population between ages 35 and 44 and prevalence of poor mental health (see ANOVA test). Tukey's Range test reveals that Q1 is statistically different from the other 3 groups. <b>The quartile with the lowest prevalence of poor mental health has a significantly higher proportion of population between ages 35 and 44.</b>\n",
    "- There are significant differences in % population between ages 45 and 54 and prevalence of poor mental health (see ANOVA test). Tukey's Range test reveals that all pairs are statistically significantly different, except for the pair Q2~Q3. <b>The quartile with the lowest prevalence of poor mental health has a significantly higher proportion of population between ages 45 and 54, whereas the quartile with the highest prevalence of poor mental health has a significantly lower proportion of population between ages 45 and 54.</b>\n",
    "- There are significant differences in % population between ages 55 and 64 and prevalence of poor mental health (see ANOVA test). Tukey's Range test reveals that only the pair Q1~Q4 has a statistically significant difference. <b>The quartile with the lowest prevalence of poor mental health has a significantly higher proportion of population between ages 55 and 64 than the quartile with the highest prevalence of poor mental health.</b>\n",
    "\n",
    "### Gender\n",
    "- <b>'percent_male'</b> - Calculated field based on ACS 2016 estimates of males and females in the population (counts)\n",
    "- <b>'percent_female'</b> - Calculated field based on ACS 2016 estimates of males and females in the population (counts)\n",
    "\n",
    "<u>Results:</u>\n",
    "- There are significant differences in % male in population and prevalence of poor mental health (see ANOVA test). Tukey's Range test reveals that Q4 is statistically different from the other 3 groups. <b>The quartile with the highest prevalence of poor mental health has a significantly lower proportion of males in the population than the other three quartiles.</b>\n",
    "\n",
    "### Disability\n",
    "- <b>'percent_disability'</b> - Calculated field based on ACS 2016 estimates of number of persons with a disability in the population (counts)\n",
    "\n",
    "<u>Results:</u>\n",
    "- There are significant differences in % persons with a disability in the population and prevalence of poor mental health (see ANOVA test). Tukey's Range test reveals that all 4 quartiles are statistically different from the each. <b>The higher the proportion of persons with a disability in the population, the higher the prevalence of poor mental health.</b>\n",
    "\n",
    "### Educational Attainment\n",
    "- <b>'percent_lessThanHS'</b> - Calculated field based on ACS 2016 estimates of number of persons 25 years and over with less than a high school degree and number of persons 25 years and over in the population (counts)\n",
    "- <b>'percent_HS'</b> - Calculated field based on ACS 2016 estimates of number of persons 25 years and over with a high school degree and number of persons 25 years and over in the population (counts)\n",
    "- <b>'percent_someCollege'</b> - Calculated field based on ACS 2016 estimates of number of persons 25 years and over with some college or associate's degree and number of persons 25 years and over in the population (counts)\n",
    "- <b>'percent_college'</b> - Calculated field based on ACS 2016 estimates of number of persons 25 years and over with a Bachelor's degree or higher and number of persons 25 years and over in the population (counts)\n",
    "\n",
    "<u>Results:</u>\n",
    "- There are significant differences in % persons with less than a high school degree in the population and prevalence of poor mental health (see ANOVA test). Tukey's Range test reveals that all 4 quartiles are statistically different from the each. <b>The higher the proportion of persons with less than a high school degree in the population, the higher the prevalence of poor mental health.</b>\n",
    "- There are significant differences in % persons with a high school degree in the population and prevalence of poor mental health (see ANOVA test). Tukey's Range test reveals that all 4 quartiles are statistically different from the each. <b>The higher the proportion of persons with only a high school degree in the population, the higher the prevalence of poor mental health.</b>\n",
    "- There are significant differences in % population with some college or associate's degree and prevalence of poor mental health (see ANOVA test). Tukey's Range test reveals that Q1 is statistically different from the other 3 groups. <b>The quartile with the lowest prevalence of poor mental health has a significantly lower proportion of persons with some college or associate's degree in the population than the other three quartiles.</b>\n",
    "- There are significant differences in % population with a Bachelor's degree or higher and prevalence of poor mental health (see ANOVA test). Tukey's Range test reveals that all 4 quartiles are statistically different from the each. <b>The higher the proportion of persons with a Bachelor's degree or higher in the population, the lower the prevalence of poor mental health.</b>\n",
    "\n",
    "### Household income\n",
    "- <b>'percent_hIncome_under25K'</b> - Calculated field based on ACS 2016 estimates of number of households with household income under 25,000 and total number of households in the population (counts)\n",
    "- <b>'percent_hIncome_25to49K'</b> - Calculated field based on ACS 2016 estimates of number of households with household income between 25,000 and 49,999 and total number of households in the population (counts)\n",
    "- <b>'percent_hIncome_50to74K'</b> - Calculated field based on ACS 2016 estimates of number of households with household income between 50,000 and 74,999 and total number of households in the population (counts)\n",
    "- <b>'percent_hIncome_75to99K'</b> - Calculated field based on ACS 2016 estimates of number of households with household income between 75,000 and 99,999 and total number of households in the population (counts)\n",
    "- <b>'percent_hIncome_over99K'</b> - Calculated field based on ACS 2016 estimates of number of households with household income over 99,999 and total number of households in the population (counts)\n",
    "\n",
    "<u>Results:</u>\n",
    "- There are significant differences in % population with household income under 25,000 and prevalence of poor mental health (see ANOVA test). Tukey's Range test reveals that all 4 quartiles are statistically different from the each. <b>The higher the proportion of persons with household income under 25,000 in the population, the higher the prevalence of poor mental health.</b>\n",
    "- There are significant differences in % population with household income between 25,000 and 49,999 and prevalence of poor mental health (see ANOVA test). Tukey's Range test reveals that all 4 quartiles are statistically different from the each. <b>The higher the proportion of persons with household income between 25,000 and 49,999 in the population, the higher the prevalence of poor mental health.</b>\n",
    "- There are significant differences in % population with household income between 50,000 and 74,999 and prevalence of poor mental health (see ANOVA test). Tukey's Range test reveals statistically significant differences between Q1 and each of the other 3 quartiles as well as within the pair Q2~Q3. <b>The quartile with the lowest prevalence of poor mental health has a significantly lower proportion of households with income between 50,000 and 74,999 in the population than the other three quartiles. Then the differences level off.</b>\n",
    "- There are significant differences in % population with household income between 50,000 and 74,999 and prevalence of poor mental health (see ANOVA test). Tukey's Range test reveals statistically significant differences among the pairs Q1~Q2, Q1~Q3, Q2~Q4 and Q3~Q4. <b>Overall it seems that among the bottom half for prevalence of poor mental health, the higher the proportion of persons with household income between 50,000 and 74,999 in the population, the higher the prevalence of poor mental health. This correlation gets reversed when looking at the top half for prevalence of poor mental health.</b>\n",
    "- There are significant differences in % population with household income over 99,999 and prevalence of poor mental health (see ANOVA test). Tukey's Range test reveals that all 4 quartiles are statistically different from the each. <b>The higher the proportion of persons with household income over 99,999 in the population, the lower the prevalence of poor mental health.</b>"
   ]
  },
  {
   "cell_type": "markdown",
   "metadata": {},
   "source": [
    "# Predicting the prevalence of poor mental health using MLR analysis"
   ]
  },
  {
   "cell_type": "markdown",
   "metadata": {},
   "source": [
    "Our model explains 88.7% of the variance in the prevalence of poor physical health.\n",
    "Two <b>health indicators</b> are statistically significant as follows:\n",
    "- 'UB_current_smoking': the higher the prevalence of smoking in the population, the higher the prevalence of poor mental health.\n",
    "- 'UB_less_sleep': the higher the prevalence of lack of sleep in the population, the higher the prevalence of poor mental health.\n",
    "\n",
    "Eight <b>demographic variables</b> are statistically significant as follows:\n",
    "- 'percent_age18to24': the higher the proportion of 18 to 24 y.o. in the population, the higher the prevalence of poor mental health.\n",
    "- 'percent_age35to44': the higher the proportion of 35 to 44 y.o. in the population, the higher the prevalence of poor mental health.\n",
    "- 'percent_lessThanHS': the higher the proportion of the population with less than a high school degree, the higher the prevalence of poor mental health.\n",
    "- 'percent_HS': the higher the proportion of the population with a high school degree, the lower the prevalence of poor mental health.\n",
    "- 'percent_college': the higher the proportion of the population with a Bachelor's degree or higher, the lower the prevalence of poor mental health.\n",
    "- 'percent_under25K': the higher the proportion of the population with a household income under 25,000, the higher the prevalence of poor mental health.\n",
    "- 'percent_over99K': the higher the proportion of the population with a household income over 99,999, the lower the prevalence of poor mental health.\n",
    "- 'percent_disability': the higher the proportion of the population with a disability, the higher the prevalence of poor mental health."
   ]
  },
  {
   "cell_type": "markdown",
   "metadata": {},
   "source": [
    "# Predicting the prevalence of poor physical health using MLR analysis"
   ]
  },
  {
   "cell_type": "markdown",
   "metadata": {},
   "source": [
    "Our model explains 91.6% of the variance in the prevalence of poor physical health.\n",
    "Three <b>health indicators</b> are statistically significant as follows:\n",
    "- 'UB_current_smoking': the higher the prevalence of smoking in the population, the higher the prevalence of poor physical health.\n",
    "- 'UB_lack_physical_activity': the higher the prevalence of lack of physical activity in the population, the higher the prevalence of poor physical health.\n",
    "- 'UB_less_sleep': the higher the prevalence of lack of sleep in the population, the higher the prevalence of poor physical health.\n",
    "\n",
    "Seven <b>demographic variables</b> are statistically significant as follows:\n",
    "- 'percent_age18to24': the higher the proportion of 18 to 24 y.o. in the population, the lower the prevalence of poor physical health.\n",
    "- 'percent_age25to34': the higher the proportion of 25 to 34 y.o. in the population, the lower the prevalence of poor physical health.\n",
    "- 'percent_lessThanHS': the higher the proportion of the population with less than a high school degree, the higher the prevalence of poor physical health.\n",
    "- 'percent_college': the higher the proportion of the population with a Bachelor's degree or higher, the lower the prevalence of poor physical health.\n",
    "- 'percent_under25K': the higher the proportion of the population with a household income under 25,000, the higher the prevalence of poor physical health.\n",
    "- 'percent_25to49K': the higher the proportion of the population with a household income between 25,000 and 49,000, the higher the prevalence of poor physical health.\n",
    "- 'percent_disability': the higher the proportion of the population with a disability, the higher the prevalence of poor mental health."
   ]
  },
  {
   "cell_type": "code",
   "execution_count": null,
   "metadata": {},
   "outputs": [],
   "source": []
  }
 ],
 "metadata": {
  "kernelspec": {
   "display_name": "Python 3",
   "language": "python",
   "name": "python3"
  },
  "language_info": {
   "codemirror_mode": {
    "name": "ipython",
    "version": 3
   },
   "file_extension": ".py",
   "mimetype": "text/x-python",
   "name": "python",
   "nbconvert_exporter": "python",
   "pygments_lexer": "ipython3",
   "version": "3.6.4"
  }
 },
 "nbformat": 4,
 "nbformat_minor": 2
}
